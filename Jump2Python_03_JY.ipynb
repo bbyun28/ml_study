{
 "cells": [
  {
   "cell_type": "markdown",
   "id": "80aef02d-2360-404f-9588-6f6036d4c50c",
   "metadata": {},
   "source": [
    "# **Data Science ML 스터디-03장**\n",
    "---"
   ]
  },
  {
   "cell_type": "markdown",
   "id": "c6b712cf-8604-43c6-8210-c1c0f39c065c",
   "metadata": {},
   "source": [
    "## **03-2. while 문**\n",
    "---"
   ]
  },
  {
   "cell_type": "markdown",
   "id": "966f6575-86e5-4d53-9415-0217b92ec2c5",
   "metadata": {},
   "source": [
    "<span style=\"background-color:#fff5b1\">**문장을 반복해서 수행해야 할 경우**</span> while 문을 사용한다. 그래서 while 문을 <span style=\"background-color:#fff5b1\">**‘반복문’**</span>이라고도 부른다."
   ]
  },
  {
   "cell_type": "markdown",
   "id": "21f9de54-4a31-4e85-bd9b-63b71d1c8f11",
   "metadata": {},
   "source": [
    "**목차**  \n",
    "[1. while 문의 기본 구조](#1.-while-문의-기본-구조)  \n",
    "[2. while 문 만들기](#2.-while-문-만들기)  \n",
    "[3. while 문 강제로 빠져나가기 자료형](#3.-while-문-강제로-빠져나가기-자료형)  \n",
    "[4. while 문의 맨 처음으로 돌아가기 자료형](#4.-while-문의-맨-처음으로-돌아가기-자료형)  \n",
    "[5. 무한 루프](#5.-무한-루프)"
   ]
  },
  {
   "cell_type": "markdown",
   "id": "2729fd6d-1d12-4669-a3f3-c006ade09d27",
   "metadata": {},
   "source": [
    "## **1. while 문의 기본 구조**\n",
    "---"
   ]
  },
  {
   "cell_type": "markdown",
   "id": "ceb0064d-9345-4b34-ae7e-b695b04c44d8",
   "metadata": {},
   "source": [
    "다음은 while 문의 **기본 구조**이다."
   ]
  },
  {
   "cell_type": "raw",
   "id": "618de6e8-894a-4e7d-bed5-95c43a260bad",
   "metadata": {},
   "source": [
    "while 조건문:                           # while 뒤에 조건문이 오게 되고 조건문이 참이면 아래 문장들이 반복해서 수행하게 됩니다. \n",
    "    수행할_문장1                                                      조건문이 거짓이면 아래 문장들을 skip하고 빠져나오게 됩니다. \n",
    "    수행할_문장2\n",
    "    수행할_문장3\n",
    "    ..."
   ]
  },
  {
   "cell_type": "markdown",
   "id": "907c23a8-014a-408c-9dfd-7733202e8394",
   "metadata": {},
   "source": [
    "<span style=\"background-color:#fff5b1\"> while 문은 조건문이 참인 동안 while 문에 속한 문장들이 **반복**해서 수행된다. </span>  \n",
    "\n",
    "\n",
    "\n",
    "\n",
    "      \n",
    "‘열 번 찍어 안 넘어가는 나무 없다’라는 속담을 파이썬 프로그램으로 만들면 다음과 같다.\n",
    "    "
   ]
  },
  {
   "cell_type": "code",
   "execution_count": 17,
   "id": "799d7bcd-0c37-4627-8448-aad38bc20849",
   "metadata": {
    "scrolled": true
   },
   "outputs": [
    {
     "name": "stdout",
     "output_type": "stream",
     "text": [
      "나무를 1번 찍었습니다.\n",
      "나무를 2번 찍었습니다.\n",
      "나무를 3번 찍었습니다.\n",
      "나무를 4번 찍었습니다.\n",
      "나무를 5번 찍었습니다.\n",
      "나무를 6번 찍었습니다.\n",
      "나무를 7번 찍었습니다.\n",
      "나무를 8번 찍었습니다.\n",
      "나무를 9번 찍었습니다.\n",
      "나무를 10번 찍었습니다.\n",
      "나무 넘어갑니다.\n"
     ]
    }
   ],
   "source": [
    ">>> treeHit = 0                                      # treeHit 변수에 0을 대입\n",
    ">>> while treeHit < 10:                              # while 조건문\n",
    "...     treeHit = treeHit +1                         # 수행할_문장, 들여쓰기 \n",
    "...     print(\"나무를 %d번 찍었습니다.\" % treeHit)     # 문자열 포맷팅-문자열 안에 어떤 값을 삽입하는 방법,문자열 포맷팅 코드: %d-정수, %s-문자열 (02-2 문자열 자료형)\n",
    "...     if treeHit == 10:                            # if 조건문 (03-1 if 조건문)\n",
    "...         print(\"나무 넘어갑니다.\")\n",
    "..."
   ]
  },
  {
   "cell_type": "markdown",
   "id": "4a539a90-d8cb-48f1-9500-fd1c786f9206",
   "metadata": {},
   "source": [
    "위 예에서 while 문의 조건문은 treeHit < 10이다. 즉, treeHit가 10보다 작은 동안 while 문에 포함된 문장들을 계속 수행한다.whlie문 안의 문장을 보면 가장 먼저 <br> treeHit = treeHit + 1로 treeHit 값이 계속 1씩 증가한다는 것을 알 수 있다. 그리고 나무를 treeHit번만큼 찍었다는 것을 알리는 문장을 출력하고 treeHit가 10이 되면<br> \"나무 넘어갑니다.\"라는 문장을 출력한다. 그러고 나면 treeHit < 10 조건문이 거짓이 되므로 while 문을 빠져나가게 된다."
   ]
  },
  {
   "cell_type": "markdown",
   "id": "be49eb5d-6111-4246-9a11-0870386e4c72",
   "metadata": {},
   "source": [
    "> `treeHit = treeHit + 1`은 프로그래밍을 할 때 매우 자주 사용하는 기법이다. treeHit 값을 1만큼씩 증가시킬 목적으로 사용하며 `treeHit += 1`처럼 작성해도 된다."
   ]
  },
  {
   "cell_type": "markdown",
   "id": "37a09c27-b9f4-4e59-816c-fbec28a3cb81",
   "metadata": {},
   "source": [
    "다음은 while 문이 반복되는 과정을 순서대로 정리한 표이다. 이렇게 긴 과정을 소스 코드 단 5줄로 만들 수 있다니 놀랍지 않은가?"
   ]
  },
  {
   "cell_type": "markdown",
   "id": "8d2f18e2-e9c6-4c68-81c2-957b4623fda5",
   "metadata": {},
   "source": [
    "treehit|조건문|조건판단|수행하는 문장|while문\n",
    ":---|:---:|:---:|:---:|---:\n",
    "Center|Center|Center|Center|Center\n",
    "0|0<10|참|나무를 1번 찍었습니다.|반복\n",
    "1|1<10|참|나무를 2번 찍었습니다.|반복\n",
    "2|2<10|참|나무를 3번 찍었습니다.|반복\n",
    "3|3<10|참|나무를 4번 찍었습니다.|반복\n",
    "4|4<10|참|나무를 5번 찍었습니다.|반복\n",
    "5|5<10|참|나무를 6번 찍었습니다.|반복\n",
    "6|6<10|참|나무를 7번 찍었습니다.|반복\n",
    "7|7<10|참|나무를 8번 찍었습니다.|반복\n",
    "8|8<10|참|나무를 9번 찍었습니다.|반복\n",
    "9|9<10|참|나무를 10번 찍었습니다.|반복\n",
    "10|10<10|거짓||종료"
   ]
  },
  {
   "cell_type": "markdown",
   "id": "4dd08e0a-8de4-43a8-a1e4-5166b1639a05",
   "metadata": {},
   "source": [
    "## **2. while 문 만들기**\n",
    "---"
   ]
  },
  {
   "cell_type": "markdown",
   "id": "6f8e3fb2-fbaa-4ac1-ab71-c27d1cd62b18",
   "metadata": {},
   "source": [
    "이번에는 여러 가지 선택지 중 하나를 선택해서 입력받는 예제를 만들어 보자. 먼저 다음과 같이 여러 줄짜리 문자열을 만들자."
   ]
  },
  {
   "cell_type": "code",
   "execution_count": null,
   "id": "b6790c98-6617-40eb-8e7c-f781a8a98d48",
   "metadata": {
    "scrolled": true
   },
   "outputs": [
    {
     "name": "stdout",
     "output_type": "stream",
     "text": [
      "                \n",
      "1. Add                      \n",
      "2. Del\n",
      "3. List\n",
      "4. Quit\n",
      "\n",
      "Enter number: \n"
     ]
    }
   ],
   "source": [
    ">>> prompt = \"\"\"                \n",
    "... 1. Add                      \n",
    "... 2. Del\n",
    "... 3. List\n",
    "... 4. Quit\n",
    "...\n",
    "... Enter number: \"\"\"          # 여러줄짜리 문자열을 변수에 대입시 이스케이프코드(/n) 또는 작은,큰 따옴표 3개 사용(02-2 문자열 자료형)         \n",
    ">>>                            # 프롬프트(>>>), 줄 바꿈 표시(...)로 파이썬 셸에서 보이는 표시 (파이썬 3.10 이상 버전 사용시 iDLE셸에서 실행해도 괜찮다)\n",
    "\n",
    ">>> number = 0\n",
    ">>> while number != 4:              # 비교연산자: x!=y x와 y가 같지 않다.(03-1 참고)\n",
    "...     print(prompt)               # prompt를 출력\n",
    "...     number = int(input())       # 사용자 입력을 받는 숫자를 정수로 리턴한 값을 number 변수에 대입 (05-5 내장함수) \n",
    "...                                 # input([prompt]): 사용자 입력을 받는 함수, int(): 문자열 형태의 숫자를 정수로 리턴하는 함수\n",
    "                                    # number에 1,4 입력해보기!!!"
   ]
  },
  {
   "cell_type": "markdown",
   "id": "f39caa4a-0ffd-4ade-88bb-be71aabf73bb",
   "metadata": {},
   "source": [
    "이어서 number 변수에 0을 먼저 대입한다. 이렇게 변수를 먼저 설정해 놓지 않으면 다음에 나올 while 문의 조건문인 `number != 4`에서 변수가 존재하지 않는다는 오류가 발생한다."
   ]
  },
  {
   "cell_type": "markdown",
   "id": "3ab7048f-5763-4a5e-b358-efec209301d3",
   "metadata": {},
   "source": [
    "while 문을 보면 number가 4가 아닌 동안 prompt를 출력하고 사용자로부터 번호를 입력받는다. 다음 결과 화면처럼 사용자가 값 4를 입력하지 않으면 계속해서 prompt를 출력한다."
   ]
  },
  {
   "cell_type": "markdown",
   "id": "745c0e4d-55eb-4f32-b08b-8b4f4fa0aaf3",
   "metadata": {},
   "source": [
    ">여기에서 `number = int(input())`는 사용자의 숫자 입력을 받아들이는 것이라고만 알아 두자.<Br>\n",
    "int나 input 함수에 대한 내용은 뒤에 나오는 내장 함수 부분에서 자세하게 다룬다."
   ]
  },
  {
   "cell_type": "markdown",
   "id": "5c513400-99eb-4191-b066-d29f90454c0a",
   "metadata": {},
   "source": [
    "4를 입력하면 조건문이 거짓이 되어 while 문을 빠져나가게 된다."
   ]
  },
  {
   "cell_type": "markdown",
   "id": "34550694-0969-4771-8cb8-da701b125148",
   "metadata": {},
   "source": [
    "## **3. while 문 강제로 빠져나가기 자료형**"
   ]
  },
  {
   "cell_type": "markdown",
   "id": "589c7eb0-8493-4953-a19c-ff479054acab",
   "metadata": {},
   "source": [
    "while 문은 조건문이 참인 동안 계속 while 문 안의 내용을 반복적으로 수행한다. 하지만  <span style=\"background-color:#fff5b1\">**강제로 while 문을 빠져나가고 싶을 때**</span>가 있다.\n",
    "\n",
    "예를 들어 커피 자판기를 생각해 보자. 자판기 안에 커피가 충분히 있을 때 동전을 넣으면 커피가 나온다. 그런데 자판기가 제대로 작동하려면 커피가 얼마나 남았는지 항상 검사해야 한다. 만약 커피가 떨어졌다면 판매를 중단하고 ‘판매 중지’ 문구를 사용자에게 보여 주어야 한다. 이렇게 판매를 강제로 멈추게 하는 것이 바로 <span style=\"background-color:#fff5b1\">**break문**</span> 이다.\n",
    "\n"
   ]
  },
  {
   "cell_type": "markdown",
   "id": "7c98bdd0-6d7d-4645-85fd-39d756193788",
   "metadata": {},
   "source": [
    "![](https://wikidocs.net/images/page/21/03_2_coffee.png)"
   ]
  },
  {
   "cell_type": "markdown",
   "id": "bdb6cc7b-4d6c-49e0-a30a-f7d8c017f2c8",
   "metadata": {},
   "source": [
    "다음 예는 커피 자판기 이야기를 파이썬 프로그램으로 표현해 본 것이다."
   ]
  },
  {
   "cell_type": "code",
   "execution_count": 1,
   "id": "f391c8c7-e3d9-41b0-ab7c-f166c96dfe0f",
   "metadata": {},
   "outputs": [
    {
     "name": "stdout",
     "output_type": "stream",
     "text": [
      "돈을 받았으니 커피를 줍니다.\n",
      "남은 커피의 양은 9개입니다.\n",
      "돈을 받았으니 커피를 줍니다.\n",
      "남은 커피의 양은 8개입니다.\n",
      "돈을 받았으니 커피를 줍니다.\n",
      "남은 커피의 양은 7개입니다.\n",
      "돈을 받았으니 커피를 줍니다.\n",
      "남은 커피의 양은 6개입니다.\n",
      "돈을 받았으니 커피를 줍니다.\n",
      "남은 커피의 양은 5개입니다.\n",
      "돈을 받았으니 커피를 줍니다.\n",
      "남은 커피의 양은 4개입니다.\n",
      "돈을 받았으니 커피를 줍니다.\n",
      "남은 커피의 양은 3개입니다.\n",
      "돈을 받았으니 커피를 줍니다.\n",
      "남은 커피의 양은 2개입니다.\n",
      "돈을 받았으니 커피를 줍니다.\n",
      "남은 커피의 양은 1개입니다.\n",
      "돈을 받았으니 커피를 줍니다.\n",
      "남은 커피의 양은 0개입니다.\n",
      "커피가 다 떨어졌습니다. 판매를 중지합니다.\n"
     ]
    }
   ],
   "source": [
    ">>> coffee = 10\n",
    ">>> money = 300\n",
    ">>> while money:                                                # while 조건문, money가 300으로 고정되어 있고 money는 0이나 거짓이 아니기 때문에 항상 참이다.무한 루프 돌게된다.\n",
    "...     print(\"돈을 받았으니 커피를 줍니다.\")                      # 수행할 문장, \"돈을 받았으니 커피를 줍니다\" 출력\n",
    "...     coffee = coffee -1                                      # 수행할 문장, while 문 내용을 한 번 수행할 때마다 coffee 개수 1씩 줄어든다.\n",
    "...     print(\"남은 커피의 양은 %d개입니다.\" % coffee)            #  문자열 포맷팅-문자열 안에 어떤 값을 삽입하는 방법,문자열 포맷팅 코드: %d-정수, %s-문자열 (02-2 문자열 자료형)              \n",
    "...     if coffee == 0:                                         # if 조건문, 비교연산자: x==y x와 y가 같다.(03-1 참고)\n",
    "...         print(\"커피가 다 떨어졌습니다. 판매를 중지합니다.\")            \n",
    "...         break                                               # break문 호출되어 while문 빠져나온다.break를 사용하지 않으면 money는 0이 아니기 때문에 항상 참으로 무한루프 돌게된다.\n",
    "..."
   ]
  },
  {
   "cell_type": "markdown",
   "id": "3676aa71-f753-40ce-b56d-b792846289d2",
   "metadata": {},
   "source": [
    "money가 300으로 고정되어 있고 `while money:`에서 조건문인 money는 0이 아니기 때문에 항상 참이다. 따라서 무한히 반복되는 무한 루프를 돌게 된다. 그리고 while 문의 내용을 한 번 수행할 때마다 `coffee = coffee - 1`에 의해 coffee의 개수가 1개씩 줄어든다. 만약 coffee가 0이 되면 `if coffee == 0:` 문장에서 `coffee == 0`이 참이 되므로 if 문 다음 문장 \"커피가 다 떨어졌습니다. 판매를 중지합니다.\"가 출력되고 break 문이 호출되어 while 문을 빠져나가게 된다.\n",
    "\n",
    "하지만 실제 자판기는 위 예처럼 작동하지는 않을 것이다. 다음은 자판기의 실제 작동 과정과 비슷하게 만들어 본 예이다.<Br> \n",
    "다음 예는 조금 복잡하므로 대화형 인터프리터를 사용하지 말고 IDLE 에디터를 사용해서 작성해 보자."
   ]
  },
  {
   "cell_type": "code",
   "execution_count": null,
   "id": "c7cd3ba0-a9f1-46e7-b022-ff0fb3fa289e",
   "metadata": {},
   "outputs": [],
   "source": [
    "# coffee.py                                                       # 기기데이터> JW 중외제약 > JYK > coffee.py\n",
    "coffee = 10\n",
    "while True:                                                        # while 조건문, 참일 경우 아래 문장들 수행.무한 루프\n",
    "    money = int(input(\"돈을 넣어 주세요: \"))                         # 사용자 입력을 받는 숫자를 money 변수에 대입 (05-5 내장함수)\n",
    "    if money == 300:                                               # 다양한 조건을 판단하는 elif 조건문, 비교연산자: x==y x와 y가 같다.(03-1 참고)\n",
    "        print(\"커피를 줍니다.\")\n",
    "        coffee = coffee -1                                         # while문을 한 번 수행할 때마다 coffee 개수 1개씩 줄어든다.\n",
    "    elif money > 300:\n",
    "        print(\"거스름돈 %d를 주고 커피를 줍니다.\" % (money -300))     #문자열 포맷팅-문자열 안에 어떤 값을 삽입하는 방법,문자열 포맷팅 코드: %d-정수, %s-문자열 (02-2 문자열 자료형)   \n",
    "        coffee = coffee -1\n",
    "    else:\n",
    "        print(\"돈을 다시 돌려주고 커피를 주지 않습니다.\")\n",
    "        print(\"남은 커피의 양은 %d개 입니다.\" % coffee)\n",
    "    if coffee == 0:\n",
    "        print(\"커피가 다 떨어졌습니다. 판매를 중지 합니다.\")\n",
    "        break                                                     # break문 호출되어 while문 빠져나온다. # 500,300,100 입력해보기!!!"
   ]
  },
  {
   "cell_type": "markdown",
   "id": "9e3609cb-8201-4fdb-ba8d-01504fc9a003",
   "metadata": {},
   "source": [
    "위 프로그램 소스를 따로 설명하지는 않겠다. 여러분이 소스를 입력하면서 무슨 내용인지 이해할 수 있다면 지금까지 배운 if 문이나 while 문을 이해했다고 보면 된다.<br>\n",
    "만약 money = int(input(\"돈을 넣어 주세요: \")) 문장이 이해되지 않는다면 이 문장은 사용자로부터 값을 입력받는 부분이고 입력받은 숫자를 money 변수에 대입하는 것이라고만 알아 두자.\n",
    "\n",
    "이제 coffee.py 파일을 저장한 후 명령 프롬프트 창을 열어 프로그램을 직접 실행해 보자."
   ]
  },
  {
   "cell_type": "markdown",
   "id": "531b74a2-4d54-4412-9dbb-bac7adf58417",
   "metadata": {},
   "source": [
    ">프로그램 소스를 에디터로 작성해서 실행하는 방법이 기억나지 않는다면 01-6절을 참고하기 바란다."
   ]
  },
  {
   "cell_type": "markdown",
   "id": "4c05b5f2-7b83-40e2-b010-c7d8022b38e9",
   "metadata": {},
   "source": [
    "다음과 같은 입력란이 나타난다."
   ]
  },
  {
   "cell_type": "raw",
   "id": "e40207a9-4a31-4a00-b985-9dcc81f3bd6b",
   "metadata": {},
   "source": [
    "C:\\doit>python coffee.py\n",
    "돈을 넣어 주세요:"
   ]
  },
  {
   "cell_type": "markdown",
   "id": "ed60cf43-f2e1-4366-97e5-e3c515ebff13",
   "metadata": {},
   "source": [
    "입력란에 여러 숫자를 입력해 보면서 결과를 확인하자."
   ]
  },
  {
   "cell_type": "raw",
   "id": "752c9fa0-9e01-4f1c-9a32-534a4571207f",
   "metadata": {},
   "source": [
    "돈을 넣어 주세요: 500\n",
    "거스름돈 200를 주고 커피를 줍니다.\n",
    "돈을 넣어 주세요: 300\n",
    "커피를 줍니다.\n",
    "돈을 넣어 주세요: 100\n",
    "돈을 다시 돌려주고 커피를 주지 않습니다.\n",
    "남은 커피의 양은 8개입니다.\n",
    "돈을 넣어 주세요:"
   ]
  },
  {
   "cell_type": "markdown",
   "id": "cdeee42a-0e47-442a-9519-d945dd9da118",
   "metadata": {},
   "source": [
    "## **4. while 문의 맨 처음으로 돌아가기 자료형**"
   ]
  },
  {
   "cell_type": "markdown",
   "id": "ae38fbbb-6259-49c7-886d-47a954a47d86",
   "metadata": {},
   "source": [
    "while 문 안의 문장을 수행할 때 입력 조건을 검사해서 조건에 맞지 않으면 while 문을 빠져나간다. 그런데 프로그래밍을 하다 보면 while 문을 빠져나가지 않고<br> \n",
    "while 문의 맨 처음(조건문)으로 다시 돌아가게 만들고 싶은 경우가 생기게 된다. 이때 사용하는 것이 바로 <span style=\"background-color:#fff5b1\">**continue문**</span>이다.\n",
    "\n",
    "1부터 10까지의 숫자 중에서 홀수만 출력하는 것을 while 문을 사용해서 작성한다고 생각해 보자. 어떤 방법이 좋을까?"
   ]
  },
  {
   "cell_type": "code",
   "execution_count": 1,
   "id": "93b80725-c40a-480c-a0ef-a9197b893b20",
   "metadata": {
    "scrolled": true
   },
   "outputs": [
    {
     "name": "stdout",
     "output_type": "stream",
     "text": [
      "1\n",
      "3\n",
      "5\n",
      "7\n",
      "9\n"
     ]
    }
   ],
   "source": [
    "a = 0                             \n",
    ">>> while a < 10:                           # while 문, a가 10보다 작은 동안 아래 문장 수행\n",
    "...     a = a + 1                           # a<10 보다 작은 동안 a는 1만큼 증가\n",
    "...     if a % 2 == 0: continue             # 만약 a를 2로 나누었을때 나머지가 0이 참이 되는 경우 continue문 수행- while 문의 맨 처음 조건인 a<10으로 돌아감\n",
    "...     print(a)                            # a가 홀수인 경우 출력"
   ]
  },
  {
   "cell_type": "markdown",
   "id": "bebb8c84-0722-4b27-a383-6374b1810dc3",
   "metadata": {},
   "source": [
    "위는 1부터 10까지의 숫자 중 홀수만 출력하는 예이다. a가 10보다 작은 동안 a는 1만큼씩 계속 증가한다. a % 2 == 0 (a를 2로 나누었을 때 나머지가 0인 경우)이 참이 되는 경우는 a가 짝수일 때이다. 즉, a가 짝수이면 continue 문을 수행한다. 이 continue 문은 while 문의 맨 처음인 조건문 (a < 10)으로 돌아가게 하는 명령어이다. 따라서 위 예에서 a가 짝수이면 print(a) 문장은 수행되지 않을 것이다."
   ]
  },
  {
   "cell_type": "markdown",
   "id": "34fd3271-c786-4f30-affe-93ab7411b67b",
   "metadata": {},
   "source": [
    "## **5. 무한 루프**"
   ]
  },
  {
   "cell_type": "markdown",
   "id": "3fade12e-4eb0-4593-ad23-e9efb3f34b90",
   "metadata": {},
   "source": [
    "이번에는 무한 루프(endless loop)에 대해 알아보자. <span style=\"background-color:#fff5b1\">**무한 루프란 무한히 반복한다는 의미이다.**</span> 우리가 사용하는 일반 프로그램 중에서 무한 루프 개념을 사용하지 않는 프로그램은 거의 없다. 그만큼 자주 사용한다는 뜻이다. <span style=\"background-color:#fff5b1\">**파이썬에서 무한 루프는 while 문으로 구현할 수 있다.**</span> 다음은 무한 루프의 기본 형태이다."
   ]
  },
  {
   "cell_type": "code",
   "execution_count": null,
   "id": "17d46ad7-4361-42de-81fb-8e8f630f0b91",
   "metadata": {},
   "outputs": [],
   "source": [
    "while True: \n",
    "    수행할_문장1 \n",
    "    수행할_문장2\n",
    "    ..."
   ]
  },
  {
   "cell_type": "markdown",
   "id": "c61a7939-f86d-4356-8e0f-bd20b631c193",
   "metadata": {},
   "source": [
    "while 문의 조건문이 True이므로 항상 참이 된다. 따라서 while 문 안에 있는 문장들은 무한히 수행될 것이다.\n",
    "\n",
    "다음은 무한 루프의 예이다."
   ]
  },
  {
   "cell_type": "code",
   "execution_count": null,
   "id": "ccc1a05f-fca2-448e-829b-6ea6dafc7d3f",
   "metadata": {},
   "outputs": [],
   "source": [
    ">>> while True:\n",
    "...     print(\"Ctrl+C를 눌러야 while문을 빠져나갈 수 있습니다.\")\n",
    "...\n",
    "Ctrl+C를 눌러야 while문을 빠져나갈 수 있습니다.\n",
    "Ctrl+C를 눌러야 while문을 빠져나갈 수 있습니다.\n",
    "Ctrl+C를 눌러야 while문을 빠져나갈 수 있습니다.\n",
    "...."
   ]
  },
  {
   "cell_type": "markdown",
   "id": "eb442234-63f6-4014-bae7-b8f9717bf264",
   "metadata": {},
   "source": [
    "위 문장은 영원히 출력된다. 하지만 이 예처럼 아무 의미 없이 무한 루프를 돌리는 경우는 거의 없을 것이다. <span style=\"background-color:#fff5b1\">**[Ctrl+C]를 눌러 빠져나가자.**</span>"
   ]
  },
  {
   "cell_type": "markdown",
   "id": "04e35b42-573e-4cea-8326-f24384c06808",
   "metadata": {},
   "source": [
    "## **03-3. for 문** <img width=\"91\" alt=\"star3\" src=\"https://user-images.githubusercontent.com/78655692/151471989-9e21d7a8-a7b6-44b0-b598-2bb204b56b00.png\">\n",
    "---"
   ]
  },
  {
   "cell_type": "markdown",
   "id": "cce7fd48-b57d-4e06-ba37-4059c4fd4049",
   "metadata": {},
   "source": [
    "파이썬의 직관적인 특징을 가장 잘 보여 주는 것이 바로 이 for 문이다. while 문과 비슷한 반복문인 for 문은 <span style=\"background-color:#fff5b1\">**문장 구조가 한눈에 들어온다는 장점이 있다.**</span> <br> \n",
    "<span style=\"background-color:#ffdce0\">**for 문을 잘 사용하면 프로그래밍이 즐거워질 것이다.**</span>\n"
   ]
  },
  {
   "cell_type": "markdown",
   "id": "5ca24221-7f4a-4eb0-9a31-d15ecb98ccf7",
   "metadata": {},
   "source": [
    "**목차**  \n",
    "[1. for 문의 기본 구조](#1.-for-문의-기본-구조)  \n",
    "[2. 예제를 통해 for 문 이해하기](#2.-예제를-통해-for-문-이해하기)  \n",
    "&nbsp;&nbsp;&nbsp;&nbsp;&nbsp;[1. 전형적인 for 문](#1.-전형적인-for-문) <br>\n",
    "&nbsp;&nbsp;&nbsp;&nbsp;&nbsp;[2. 다양한 for 문의 사용](#2.-다양한-for-문의-사용) <br>\n",
    "&nbsp;&nbsp;&nbsp;&nbsp;&nbsp;[3. for 문의 응용](#3.-for-문의-응용) <br>\n",
    "[3. for 문과 continue 문](#3.-for-문과-continue-문)  \n",
    "[4. for 문과 함께 자주 사용하는 range 함수](#4.-for-문과-함께-자주-사용하는-range-함수)  \n",
    "&nbsp;&nbsp;&nbsp;&nbsp;&nbsp;[1. range 함수의 예시 살펴보기](#1.-range-함수의-예시-살펴보기) <br>\n",
    "&nbsp;&nbsp;&nbsp;&nbsp;&nbsp;[2. for와 range를 이용한 구구단](#2.-for와-range를-이용한-구구단) <br>\n",
    "[5. 리스트 컴프리헨션 사용하기](#5.-리스트-컴프리헨션-사용하기)"
   ]
  },
  {
   "cell_type": "markdown",
   "id": "616f0c0b-1019-49e8-a911-e63b92b68afc",
   "metadata": {},
   "source": [
    "## **1. for 문의 기본 구조**\n",
    "---"
   ]
  },
  {
   "cell_type": "markdown",
   "id": "dfd0412e-37f1-4938-8ca1-fd9c7a07be7e",
   "metadata": {},
   "source": [
    "for 문의 **기본 구조**는 다음과 같다."
   ]
  },
  {
   "cell_type": "raw",
   "id": "746fae5e-4e23-4a0e-84f0-b7585cb83e27",
   "metadata": {},
   "source": [
    "for 변수 in 리스트(또는 튜플, 문자열):\n",
    "    수행할_문장1\n",
    "    수행할_문장2\n",
    "    ..."
   ]
  },
  {
   "cell_type": "markdown",
   "id": "9caf4c2f-3bb9-4047-a2e6-7091def4478a",
   "metadata": {},
   "source": [
    "리스트나 튜플, 문자열의 <span style=\"background-color:#fff5b1\">**첫 번째 요소부터 마지막 요소까지 차례로 변수에 대입되어 ‘수행할_문장1’, ‘수행할_문장2’ 등이 수행된다.**</span>"
   ]
  },
  {
   "cell_type": "markdown",
   "id": "3fd67036-1dc6-4ba0-a5f6-cdc8c9a4d47c",
   "metadata": {},
   "source": [
    "## **2. 예제를 통해 for 문 이해하기**\n",
    "---"
   ]
  },
  {
   "cell_type": "markdown",
   "id": "e86c0c34-2aa5-4d6a-bed9-bcfaa9444ac0",
   "metadata": {},
   "source": [
    "for 문은 예제를 통해서 살펴보는 것이 가장 알기 쉽다. 다음 예제를 직접 입력해 보자."
   ]
  },
  {
   "cell_type": "markdown",
   "id": "b3b0021d-e080-44a1-8f8b-538c26042b9d",
   "metadata": {},
   "source": [
    "### **1. 전형적인 for 문**"
   ]
  },
  {
   "cell_type": "code",
   "execution_count": 5,
   "id": "75ed0397-c362-47a5-99ad-e77852970724",
   "metadata": {},
   "outputs": [
    {
     "name": "stdout",
     "output_type": "stream",
     "text": [
      "one\n",
      "two\n",
      "three\n"
     ]
    }
   ],
   "source": [
    ">>> test_list = ['one', 'two', 'three']               #test_list 리스트의 요소인 one,two,three가 변수에 차례로 대입되어 출력된다.\n",
    ">>> for i in test_list: \n",
    "...     print(i)"
   ]
  },
  {
   "cell_type": "markdown",
   "id": "c35ed385-446f-46ec-b5bb-b51919237fbe",
   "metadata": {},
   "source": [
    "['one', 'two', 'three'] 리스트의 첫 번째 요소인 'one'이 먼저 i 변수에 대입된 후 print(i) 문장을 수행한다. 다음에 두 번째 요소 'two'가 i 변수에 대입된 후 print(i) 문장을 수행하고 리스트의 마지막 요소까지 이것을 반복한다."
   ]
  },
  {
   "cell_type": "markdown",
   "id": "1df8cf04-8174-482d-8df4-b337c4278370",
   "metadata": {},
   "source": [
    "### **2. 다양한 for 문의 사용**"
   ]
  },
  {
   "cell_type": "code",
   "execution_count": 47,
   "id": "ca70577f-fa0b-493f-9e5e-5d990860b3fe",
   "metadata": {},
   "outputs": [
    {
     "name": "stdout",
     "output_type": "stream",
     "text": [
      "3\n",
      "7\n",
      "11\n"
     ]
    }
   ],
   "source": [
    ">>> a = [(1,2), (3,4), (5,6)]            # a 리스트의 요소값이 튜플이기 때문에 각 요소가 (first,last)변수에 대입되어 first+last 출력\n",
    ">>> for (first, last) in a:\n",
    "...     print(first + last)\n",
    "..."
   ]
  },
  {
   "cell_type": "markdown",
   "id": "077c8439-e53f-48ed-bc9f-30bb98d7956c",
   "metadata": {},
   "source": [
    "위 예는 a 리스트의 요솟값이 튜플이기 때문에 각각의 요소가 자동으로 (first, last) 변수에 대입된다."
   ]
  },
  {
   "cell_type": "markdown",
   "id": "d20c4644-c3b2-4af6-a7c2-19e1bec5ade4",
   "metadata": {},
   "source": [
    "### **3. for 문의 응용**"
   ]
  },
  {
   "cell_type": "markdown",
   "id": "6afa8f87-a921-4487-9650-d349964c0b13",
   "metadata": {},
   "source": [
    "for 문의 쓰임새를 알기 위해 다음과 같은 문제를 생각해 보자."
   ]
  },
  {
   "cell_type": "markdown",
   "id": "7191dcf6-701f-46e3-ac88-80f89a50a168",
   "metadata": {},
   "source": [
    "총 5명의 학생이 시험을 보았는데 시험 점수가 60점 이상이면 합격이고 그렇지 않으면 불합격이다. 합격인지, 불합격인지 결과를 보여 주시오."
   ]
  },
  {
   "cell_type": "markdown",
   "id": "147e249c-1a80-4687-ab50-8f1ca45e5985",
   "metadata": {},
   "source": [
    "먼저 학생 5명의 시험 점수를 리스트로 표현해 보자."
   ]
  },
  {
   "cell_type": "code",
   "execution_count": null,
   "id": "8065ba81-cf5e-4a74-9ec9-76a60bfe3ab9",
   "metadata": {},
   "outputs": [],
   "source": [
    "marks = [90, 25, 67, 45, 80]"
   ]
  },
  {
   "cell_type": "markdown",
   "id": "ce0f8f3f-92e7-4e5a-ba87-6171a485e6e4",
   "metadata": {},
   "source": [
    "1번 학생은 90점이고 5번 학생은 80점이다.\n",
    "\n",
    "이런 점수를 차례로 검사해서 합격했는지, 불합격했는지 통보해 주는 프로그램을 만들어 보자. IDLE 에디터로 작성하자."
   ]
  },
  {
   "cell_type": "code",
   "execution_count": 61,
   "id": "089b1f97-11a2-4603-9e8e-8766d577c10c",
   "metadata": {},
   "outputs": [
    {
     "name": "stdout",
     "output_type": "stream",
     "text": [
      "1번 학생은 합격입니다.\n",
      "2번 학생은 불합격입니다.\n",
      "3번 학생은 합격입니다.\n",
      "4번 학생은 불합격입니다.\n",
      "5번 학생은 합격입니다.\n"
     ]
    }
   ],
   "source": [
    "# marks1.py                                                           # 기기데이터> JW 중외제약 > JYK > coffee.py\n",
    "marks = [90, 25, 67, 45, 80]                                          # 학생들의 시험 점수 리스트\n",
    "\n",
    "number = 0                                                            # 학생에게 붙여 줄 번호\n",
    "for mark in marks:                                                    # marks 리스트의 90, 25, 67, 45, 80을 순서대로 mark 변수에 대입\n",
    "    number = number +1                                                # for 문 안의 문장들을 수행\n",
    "    if mark >= 60:                                                    # if 조건문, 만약 mark변수가 60 이상이 참이면 바로 다음 문장 수행\n",
    "        print(\"%d번 학생은 합격입니다.\" % number)\n",
    "    else:                                                             # if 조건문, 만약 mark변수가 60 이상이 거짓이면 다음 문장 수행\n",
    "        print(\"%d번 학생은 불합격입니다.\" % number)"
   ]
  },
  {
   "cell_type": "markdown",
   "id": "10e14f7e-8e3a-46c1-9416-b448e331604d",
   "metadata": {},
   "source": [
    "각각의 학생에게 번호를 붙여 주기 위해 number 변수를 사용하였다. 점수 리스트 marks에서 차례로 점수를 꺼내어 mark라는 변수에 대입하고 for 문 안의 문장들을 수행한다. 먼저 for 문이 한 번씩 수행될 때마다 number는 1씩 증가한다."
   ]
  },
  {
   "cell_type": "markdown",
   "id": "a9076116-3647-4316-afe6-d83eb74914be",
   "metadata": {},
   "source": [
    "![](https://wikidocs.net/images/page/22/03_3_for1.png)"
   ]
  },
  {
   "cell_type": "markdown",
   "id": "41a3a367-6be4-413d-b93d-d8efd645d02b",
   "metadata": {},
   "source": [
    "이 프로그램을 실행하면 mark가 60 이상일 때 합격 메시지를 출력하고 60을 넘지 않을 때 불합격 메시지를 출력한다. 명령 프롬프트 창을 열어 실행해 보자."
   ]
  },
  {
   "cell_type": "markdown",
   "id": "c80749bf-bdd4-4233-9349-3bbe3d392c13",
   "metadata": {},
   "source": [
    "## **3. for 문과 continue문**\n",
    "---"
   ]
  },
  {
   "cell_type": "markdown",
   "id": "04bd2a74-251d-489e-9e9c-8f2f6bac09a3",
   "metadata": {},
   "source": [
    "<span style=\"background-color:#fff5b1\">**while 문에서 살펴본 continue 문을 for 문에서도 사용할 수 있다.**</span> 즉, for 문 안의 문장을 수행하는 도중 continue 문을 만나면 for 문의 처음으로 돌아가게 된다.\n",
    "\n",
    "앞에서 for 문 응용 예제를 그대로 사용해서 60점 이상인 사람에게는 축하 메시지를 보내고 나머지 사람에게는 아무런 메시지도 전하지 않는 프로그램을 IDLE 에디터로 작성해 보자."
   ]
  },
  {
   "cell_type": "code",
   "execution_count": 65,
   "id": "b4273087-0613-4e02-9e99-e42f292a5c13",
   "metadata": {},
   "outputs": [
    {
     "name": "stdout",
     "output_type": "stream",
     "text": [
      "1번 학생 축하합니다. 합격입니다. \n",
      "3번 학생 축하합니다. 합격입니다. \n",
      "5번 학생 축하합니다. 합격입니다. \n"
     ]
    }
   ],
   "source": [
    "# marks2.py\n",
    "marks = [90, 25, 67, 45, 80]\n",
    "\n",
    "number = 0 \n",
    "for mark in marks: \n",
    "    number = number +1 \n",
    "    if mark < 60:\n",
    "        continue                                            # 만약 mark<60이 참이 되는 경우 continue문 수행-for 문의 맨 처음 조건인 number+1로 돌아감\n",
    "    print(\"%d번 학생 축하합니다. 합격입니다. \" % number)       # 만약 mark<60이 거짓이 되는 경우 다음 문장 출력"
   ]
  },
  {
   "cell_type": "markdown",
   "id": "a8359b1b-486d-4b87-afb0-642ce8026772",
   "metadata": {},
   "source": [
    "점수가 60점 이하인 학생인 경우에는 mark < 60이 참이 되어 continue 문이 수행된다. 따라서 축하 메시지를 출력하는 부분인 print 문을 수행하지 않고 for 문의 처음으로 돌아가게 된다."
   ]
  },
  {
   "cell_type": "markdown",
   "id": "5627252b-224d-42ea-9050-187996fbb7bb",
   "metadata": {},
   "source": [
    "## **4. for 문과 함께 자주 사용하는 range 함수**\n",
    "---"
   ]
  },
  {
   "cell_type": "markdown",
   "id": "722857a1-e739-40e1-bafd-cda80a93c318",
   "metadata": {},
   "source": [
    "<span style=\"background-color:#fff5b1\">**for 문은 숫자 리스트를 자동으로 만들어 주는 range 함수와 함께 사용하는 경우가 많다.**</span> 다음은 range 함수의 간단한 사용법이다."
   ]
  },
  {
   "cell_type": "code",
   "execution_count": 101,
   "id": "0d4d04db-f4c7-4764-9b0f-a180dd4cb96f",
   "metadata": {},
   "outputs": [
    {
     "data": {
      "text/plain": [
       "range(0, 10)"
      ]
     },
     "execution_count": 101,
     "metadata": {},
     "output_type": "execute_result"
    }
   ],
   "source": [
    ">>> a = range(10)\n",
    ">>> a\n",
    "range(0, 10)"
   ]
  },
  {
   "cell_type": "markdown",
   "id": "2507bc17-8f61-4189-9bcc-d4306382b1e1",
   "metadata": {},
   "source": [
    "range(10)은 0부터 10 미만의 숫자를 포함하는 range 객체를 만들어 준다."
   ]
  },
  {
   "cell_type": "markdown",
   "id": "b1086450-bd6c-447d-9bba-5f6ffaf7717a",
   "metadata": {},
   "source": [
    "시작 숫자와 끝 숫자를 지정하려면 range(시작_숫자, 끝_숫자) 형태를 사용하는데, 이때 끝 숫자는 포함되지 않는다."
   ]
  },
  {
   "cell_type": "code",
   "execution_count": 105,
   "id": "81f96077-9678-402d-936a-ccd6579182cd",
   "metadata": {},
   "outputs": [
    {
     "data": {
      "text/plain": [
       "range(1, 11)"
      ]
     },
     "execution_count": 105,
     "metadata": {},
     "output_type": "execute_result"
    }
   ],
   "source": [
    ">>> a = range(1, 11)\n",
    ">>> a\n",
    "range(1, 11)"
   ]
  },
  {
   "cell_type": "markdown",
   "id": "38633e03-b859-428d-aa51-cc8ba30fb8c1",
   "metadata": {},
   "source": [
    "### **1. range 함수의 예시 살펴보기**"
   ]
  },
  {
   "cell_type": "markdown",
   "id": "9919e448-6b69-4e36-b2b7-e36e95d5791e",
   "metadata": {},
   "source": [
    "for와 range 함수를 사용하면 1부터 10까지 더하는 것을 다음과 같이 쉽게 구현할 수 있다."
   ]
  },
  {
   "cell_type": "code",
   "execution_count": 75,
   "id": "294e73c3-3ede-49c8-9651-9ad80ff92052",
   "metadata": {
    "scrolled": true
   },
   "outputs": [
    {
     "name": "stdout",
     "output_type": "stream",
     "text": [
      "55\n"
     ]
    }
   ],
   "source": [
    ">>> add = 0                         # add 변수에 0을 대입\n",
    ">>> for i in range(1, 11):          # 변수 i에 숫자가 1부터 10까지 하나씩 대입되면서 add=add+1 문장을 반복적으로 수행 \n",
    "...     add = add + i               # 0(add1)+1(i1)=1(add2) -> 1(add2)+2(i2)=3(add3) -> 3(add3)+3(i3)=6(add4) -> 6(add4)+4(i4)=10(add5) ...\n",
    "... \n",
    ">>> print(add)"
   ]
  },
  {
   "cell_type": "markdown",
   "id": "de1fc895-bbc3-4aaa-8234-aa08efca6924",
   "metadata": {},
   "source": [
    "range(1, 11)은 숫자 1부터 10까지(1 이상 11 미만)의 숫자를 데이터로 가지는 객체이다. 따라서 위 예에서 i 변수에 숫자가 1부터 10까지 하나씩 차례로 대입되면서<br>\n",
    "add = add + i 문장을 반복적으로 수행하고 add는 최종적으로 55가 된다.\n",
    "\n",
    "또한 우리가 앞에서 살펴본 합격 축하 문장을 출력하는 예제도 range 함수를 사용해서 다음과 같이 바꿀 수 있다."
   ]
  },
  {
   "cell_type": "code",
   "execution_count": 82,
   "id": "d4a8a1a0-a761-473e-9912-87821e6856bd",
   "metadata": {},
   "outputs": [
    {
     "name": "stdout",
     "output_type": "stream",
     "text": [
      "1번 학생 축하합니다. 합격입니다.\n",
      "3번 학생 축하합니다. 합격입니다.\n",
      "5번 학생 축하합니다. 합격입니다.\n"
     ]
    }
   ],
   "source": [
    "# marks3.py\n",
    "marks = [90, 25, 67, 45, 80]\n",
    "for number in range(len(marks)):                          # len 함수: 리스트 안의 요소 개수를 리턴하는 함수 len(marks)는 5이다.\n",
    "    if marks[number] < 60:                                # 리스트의 인덱싱: a[0]은 리스트 a의 첫번째 요솟값을 의미 (02-3 리스트 자료형)\n",
    "        continue                                          # 앞에서는 먼저 number변수에 0을 대입한 후, number=munber+1을 사용하여 수행\n",
    "    print(\"%d번 학생 축하합니다. 합격입니다.\" % (number+1))"
   ]
  },
  {
   "cell_type": "markdown",
   "id": "b761b445-1af9-4338-af07-f167b07c674e",
   "metadata": {},
   "source": [
    "len는 리스트 안의 요소 개수를 리턴하는 함수이다. 따라서 len(marks)는 5, range(len(marks))는 range(5)가 될 것이다.number 변수에는 차례로 0부터 4까지의 숫자가 대입되고 marks[number]는 차례대로 90, 25, 67, 45, 80 값을 가지게 된다.결과는 marks2.py 예제와 동일하다."
   ]
  },
  {
   "cell_type": "markdown",
   "id": "d22d607e-6a4c-40ed-a70e-7b7afab49826",
   "metadata": {},
   "source": [
    "### **2. for와 range를 이용한 구구단**"
   ]
  },
  {
   "cell_type": "markdown",
   "id": "908a4ec9-8a2f-45bf-9287-683f472392c0",
   "metadata": {},
   "source": [
    "for와 range 함수를 사용하면 소스 코드 단 4줄만으로 구구단을 출력할 수 있다. 들여쓰기에 주의하면서 입력해 보자."
   ]
  },
  {
   "cell_type": "code",
   "execution_count": 1,
   "id": "4f603a23-0468-4e92-8cda-4366970c73a0",
   "metadata": {
    "scrolled": true
   },
   "outputs": [
    {
     "name": "stdout",
     "output_type": "stream",
     "text": [
      "2 4 6 8 10 12 14 16 18 \n",
      "3 6 9 12 15 18 21 24 27 \n",
      "4 8 12 16 20 24 28 32 36 \n",
      "5 10 15 20 25 30 35 40 45 \n",
      "6 12 18 24 30 36 42 48 54 \n",
      "7 14 21 28 35 42 49 56 63 \n",
      "8 16 24 32 40 48 56 64 72 \n",
      "9 18 27 36 45 54 63 72 81 \n"
     ]
    }
   ],
   "source": [
    ">>> for i in range(2,10):        # 1번 for문: 2부터 9까지 숫자가 변수 i에 대입\n",
    "...     for j in range(1, 10):   # 2번 for문: 1부터 10까지 숫자가 변수 j에 대입\n",
    "...         print(i*j, end=\" \")  # print 함수는 기본적으로 한 줄을 출력한 뒤 자동으로 줄바꿈을 수행한다. \n",
    "...     print('')                # end 파라미터를 사용한 이유는 해당 결과값을 출력할때 다음줄로 넘기지 않고 해당 줄에 작성하려고 (end=\"\"는 이어쓰되 \"\"안의 것을 끼워 넣으면서 붙여쓴다)\n",
    "...                              # print 문에서 ''를 사용한 이유는 2단 3단을 구분하기 위해 두번째 for문이 끝나면 다음 줄부터 출력 (04-2 print문) "
   ]
  },
  {
   "cell_type": "code",
   "execution_count": 10,
   "id": "d463a8b7-734f-4e64-bda5-580a0b857944",
   "metadata": {},
   "outputs": [
    {
     "name": "stdout",
     "output_type": "stream",
     "text": [
      "2 4 6 8 10 12 14 16 18 3 6 9 12 15 18 21 24 27 4 8 12 16 20 24 28 32 36 5 10 15 20 25 30 35 40 45 6 12 18 24 30 36 42 48 54 7 14 21 28 35 42 49 56 63 8 16 24 32 40 48 56 64 72 9 18 27 36 45 54 63 72 81 "
     ]
    }
   ],
   "source": [
    ">>> for i in range(2,10):        # 1번 for문: 2부터 9까지 숫자가 변수 i에 대입\n",
    "...     for j in range(1, 10):   # 2번 for문: 1부터 10까지 숫자가 변수 j에 대입\n",
    "...         print(i*j, end=\" \")  # print 함수는 기본적으로 한 줄을 출력한 뒤 자동으로 줄바꿈을 수행한다. \n",
    "...                              # end 파라미터를 사용한 이유는 해당 결과값을 출력할때 다음줄로 넘기지 않고 해당 줄에 작성하려고 (end=\"\"는 이어쓰되 \"\"안의 것을 끼워 넣으면서 붙여쓴다)\n",
    "...                              # print 문에서 ''를 사용한 이유는 2단 3단을 구분하기 위해 두번째 for문이 끝나면 다음 줄부터 출력 (04-2 print문)"
   ]
  },
  {
   "cell_type": "markdown",
   "id": "599a397f-f22d-45d1-909c-f5b15dd8ce79",
   "metadata": {},
   "source": [
    "위 예를 보면 for 문을 두 번 사용했다. 1번 for 문에서 2부터 9까지의 숫자(range(2, 10))가 차례대로 i에 대입된다. i가 처음 2일 때 2번 for 문을 만나게 된다. 2번 for 문에서 1부터 9까지의 숫자(range(1, 10))가 j에 대입되고 그다음 문장인 print(i*j, end=\" \")를 수행한다. 따라서 i가 2일 때 2 * 1, 2 * 2, 2 * 3, … 2 * 9까지 차례대로 수행되며 그 값을 출력하게 된다. 그다음으로 i가 3일 때 역시 2일 때와 마찬가지로 수행될 것이고 i가 9일 때까지 계속 반복된다.\n",
    "\n"
   ]
  },
  {
   "cell_type": "markdown",
   "id": "3a0e7dce-2256-4cc1-add6-6d11e9d5f46e",
   "metadata": {},
   "source": [
    "![](https://wikidocs.net/images/page/22/03_3_for2.png)"
   ]
  },
  {
   "cell_type": "markdown",
   "id": "36cfc5f3-96df-4ce8-9b10-7da565cacbe1",
   "metadata": {},
   "source": [
    "print(i*j, end=\" \")와 같이 print 함수에 end 파라미터를 설정한 이유는 해당 결괏값을 출력할 때 다음 줄로 넘기지 않고 그 줄에 계속 출력하기 위해서이다. 그다음에 이어지는 print('')는 2단, 3단 등을 구분하기 위해 사용했다. 두 번째 for 문이 끝나면 결괏값을 다음 줄부터 출력하게 하는 역할을 한다."
   ]
  },
  {
   "cell_type": "markdown",
   "id": "9f795588-e17b-4a21-a468-7be5675daf40",
   "metadata": {},
   "source": [
    "- print 문의 end 매개변수에는 줄바꿈 문자(\\n)가 기본값으로 설정되어 있다.\n",
    "- print 문은 04-2에서 보다 자세히 다룬다."
   ]
  },
  {
   "cell_type": "markdown",
   "id": "5a612795-65a4-49a7-8c35-2c1a3334c135",
   "metadata": {},
   "source": [
    "## **5. 리스트 컴프리헨션 사용하기** <img width=\"91\" alt=\"star3\" src=\"https://user-images.githubusercontent.com/78655692/151471989-9e21d7a8-a7b6-44b0-b598-2bb204b56b00.png\">"
   ]
  },
  {
   "cell_type": "markdown",
   "id": "8b13d760-35b9-40a0-bd7e-d6aa7761ab48",
   "metadata": {},
   "source": [
    "<span style=\"background-color:#fff5b1\">**리스트 안에 for 문을 포함하는 리스트 컴프리헨션(list comprehension)을 사용하면 좀 더 편리하고 직관적인 프로그램을 만들 수 있다.**</span> 다음 예제를 살펴보자."
   ]
  },
  {
   "cell_type": "code",
   "execution_count": 11,
   "id": "a5b1928a-50f4-41b4-be90-348e53bba578",
   "metadata": {},
   "outputs": [
    {
     "name": "stdout",
     "output_type": "stream",
     "text": [
      "[3, 6, 9, 12]\n"
     ]
    }
   ],
   "source": [
    ">>> a = [1,2,3,4]                    # a라는 리스트에 1,2,3,4 라는 요소가 있다\n",
    ">>> result = []                      # result라는 빈 리스트 생성\n",
    ">>> for num in a:                    # a리스트의 요소를 num변수에 하나씩 대입되면서 num변수에 3을 곱한 결과를 result 리스트에 담는걸 반복적으로 수행\n",
    "...     result.append(num*3)         \n",
    "...\n",
    ">>> print(result)"
   ]
  },
  {
   "cell_type": "markdown",
   "id": "2e2a06b9-ac04-4bd1-a63b-f42b30632bbf",
   "metadata": {},
   "source": [
    "위 예제에서는 a 리스트의 각 항목에 3을 곱한 결과를 result 리스트에 담았다.\n",
    "\n",
    "리스트 컴프리헨션을 사용하면 다음과 같이 좀 더 간단하게 작성할 수 있다."
   ]
  },
  {
   "cell_type": "code",
   "execution_count": 7,
   "id": "72ede592-5081-4d94-adbf-101355e2f0e8",
   "metadata": {},
   "outputs": [
    {
     "name": "stdout",
     "output_type": "stream",
     "text": [
      "[3, 6, 9, 12]\n"
     ]
    }
   ],
   "source": [
    ">>> a = [1,2,3,4]\n",
    ">>> result = [num * 3 for num in a]\n",
    ">>> print(result)"
   ]
  },
  {
   "cell_type": "markdown",
   "id": "c57d8525-b9d6-4183-97df-9ed3c1402bf1",
   "metadata": {},
   "source": [
    "만약 [1, 2, 3, 4] 중에서 짝수에만 3을 곱하여 담고 싶다면 리스트 컴프리헨션 안에 ‘if 조건문’을 사용하면 된다."
   ]
  },
  {
   "cell_type": "code",
   "execution_count": 9,
   "id": "10f874ee-e33b-462b-89ee-d9eccfcf0567",
   "metadata": {},
   "outputs": [
    {
     "name": "stdout",
     "output_type": "stream",
     "text": [
      "[6, 12]\n"
     ]
    }
   ],
   "source": [
    ">>> a = [1,2,3,4]\n",
    ">>> result = [num * 3 for num in a if num % 2 == 0]\n",
    ">>> print(result)"
   ]
  },
  {
   "cell_type": "markdown",
   "id": "35cce5da-2e43-4c50-b96f-62ff1386ff00",
   "metadata": {},
   "source": [
    "리스트 컴프리헨션의 문법은 다음과 같다. ‘if 조건문’ 부분은 앞의 예제에서 볼 수 있듯이 생략할 수 있다."
   ]
  },
  {
   "cell_type": "markdown",
   "id": "35bb5b0a-73bb-433a-8069-862dcb0046f5",
   "metadata": {},
   "source": [
    "&nbsp;&nbsp;**[표현식 for 항목 in 반복_가능_객체 if 조건문]**"
   ]
  },
  {
   "cell_type": "markdown",
   "id": "c2daa050-f43b-48fd-866a-adbb18c0e40a",
   "metadata": {},
   "source": [
    "조금 복잡하지만, for 문을 2개 이상 사용하는 것도 가능하다. for 문을 여러 개 사용할 때의 문법은 다음과 같다."
   ]
  },
  {
   "cell_type": "markdown",
   "id": "ffffc81c-bdcd-43ed-ad82-fdb24775e9e2",
   "metadata": {},
   "source": [
    "&nbsp;&nbsp;**[표현식 for 항목1 in 반복_가능_객체1 if 조건문1**<br>\n",
    "&nbsp;&nbsp;&nbsp;&nbsp;&nbsp;&nbsp;&nbsp;&nbsp;&nbsp;&nbsp;&nbsp;&nbsp; **for 항목2 in 반복_가능_객체2 if 조건문2**<br>\n",
    "&nbsp;&nbsp;&nbsp;&nbsp;&nbsp;&nbsp;&nbsp;&nbsp;&nbsp;&nbsp;&nbsp;&nbsp; ...<br>\n",
    "&nbsp;&nbsp;&nbsp;&nbsp;&nbsp;&nbsp;&nbsp;&nbsp;&nbsp;&nbsp;&nbsp;&nbsp; **for 항목n in 반복_가능_객체n if 조건문n]**<br>"
   ]
  },
  {
   "cell_type": "markdown",
   "id": "32c114b6-fba0-4fa5-90a7-560ca59913b1",
   "metadata": {},
   "source": [
    "만약 구구단의 모든 결과를 리스트에 담고 싶다면 리스트 컴프리헨션을 사용하여 다음과 같이 간단하게 구현할 수도 있다."
   ]
  },
  {
   "cell_type": "code",
   "execution_count": 12,
   "id": "af8baa32-c0d5-4310-a9dd-a2716df3727f",
   "metadata": {
    "scrolled": true
   },
   "outputs": [
    {
     "name": "stdout",
     "output_type": "stream",
     "text": [
      "[2, 4, 6, 8, 10, 12, 14, 16, 18, 3, 6, 9, 12, 15, 18, 21, 24, 27, 4, 8, 12, 16, 20, 24, 28, 32, 36, 5, 10, 15, 20, 25, 30, 35, 40, 45, 6, 12, 18, 24, 30, 36, 42, 48, 54, 7, 14, 21, 28, 35, 42, 49, 56, 63, 8, 16, 24, 32, 40, 48, 56, 64, 72, 9, 18, 27, 36, 45, 54, 63, 72, 81]\n"
     ]
    }
   ],
   "source": [
    ">>> result = [x*y for x in range(2,10)\n",
    "...               for y in range(1,10)]\n",
    ">>> print(result)"
   ]
  },
  {
   "cell_type": "markdown",
   "id": "c762cc37-b801-4bc2-b3c2-cb7ca5e8dae1",
   "metadata": {},
   "source": [
    "지금까지 우리는 프로그램 흐름을 제어하는 if 문, while 문, for 문에 대해 알아보았다. 아마도 여러분은 while 문과 for 문을 보면서 2가지가 매우 비슷하다는 느낌을 받았을 것이다. 실제로 for 문으로 작성한 코드를 while 문으로 바꿀 수 있는 경우도 많고 while 문을 for 문으로 바꾸어서 사용할 수 있는 경우도 많다."
   ]
  },
  {
   "cell_type": "markdown",
   "id": "7d4a2f10-1628-4e12-bfb8-f4fcc29325ca",
   "metadata": {},
   "source": [
    "<span style=\"background-color:#E6E6FA\"> **응용 in CADD**</span>\n",
    "---"
   ]
  },
  {
   "cell_type": "markdown",
   "id": "165c32c6-e43b-4f6c-881b-12ff2e9bae2c",
   "metadata": {},
   "source": [
    "CADD (Computer-Aided Drug Design) 연구에서 사용될 수 있는 간단한 예시"
   ]
  },
  {
   "cell_type": "markdown",
   "id": "60756cb0-a10e-4d48-95a5-42f9ff7906a1",
   "metadata": {},
   "source": [
    "1. **if 문 예시**: 분자 구조가 주어졌을 때, 특정 조건에 따라 해당 분자가 생물학적으로 활성이 있는지 확인하는 예시입니다."
   ]
  },
  {
   "cell_type": "code",
   "execution_count": 36,
   "id": "fe2fae36-dcf0-4cc1-9490-eb09e38bfb78",
   "metadata": {},
   "outputs": [
    {
     "name": "stdout",
     "output_type": "stream",
     "text": [
      "이 분자는 활성이 있을 수 있습니다.\n"
     ]
    }
   ],
   "source": [
    "molecule = \"COC1=CC=C(C=C1)C(=O)NC2=C(C=C(C=C2)Cl)S(=O)(=O)N\"\n",
    "\n",
    "# 생물학적 활성을 판단하는 함수\n",
    "def check_bio_activity(molecule):\n",
    "    if len(molecule) > 20:\n",
    "        print(\"이 분자는 활성이 있을 수 있습니다.\")\n",
    "    else:\n",
    "        print(\"이 분자는 활성이 없을 수 있습니다.\")\n",
    "\n",
    "check_bio_activity(molecule)"
   ]
  },
  {
   "cell_type": "markdown",
   "id": "9f10513d-601f-4537-8713-38ffe2ca7e89",
   "metadata": {},
   "source": [
    "2. **while 문 예시**: 분자의 화학적 특성에 따라 계산을 반복하는 예시입니다."
   ]
  },
  {
   "cell_type": "code",
   "execution_count": 41,
   "id": "2094fa4c-9c4a-4ee1-a3ad-22be4867fe41",
   "metadata": {},
   "outputs": [
    {
     "name": "stdout",
     "output_type": "stream",
     "text": [
      "분자의 화학적 특성:\n",
      "{'carbon_count': 15, 'oxygen_count': 4, 'hydrogen_count': 0, 'nitrogen_count': 2}\n"
     ]
    }
   ],
   "source": [
    "def calculate_properties(molecule):\n",
    "    properties = {}\n",
    "    atoms = len(molecule)\n",
    "    carbon_count = 0\n",
    "    oxygen_count = 0\n",
    "    hydrogen_count = 0\n",
    "    nitrogen_count = 0\n",
    "    \n",
    "    i = 0\n",
    "    while i < atoms:\n",
    "        if molecule[i] == 'C':\n",
    "            carbon_count += 1\n",
    "        elif molecule[i] == 'O':\n",
    "            oxygen_count += 1\n",
    "        elif molecule[i] == 'H':\n",
    "            hydrogen_count += 1\n",
    "        elif molecule[i] == 'N':\n",
    "            nitrogen_count += 1\n",
    "        i += 1\n",
    "    \n",
    "    properties['carbon_count'] = carbon_count\n",
    "    properties['oxygen_count'] = oxygen_count\n",
    "    properties['hydrogen_count'] = hydrogen_count\n",
    "    properties['nitrogen_count'] = nitrogen_count\n",
    "    \n",
    "    return properties\n",
    "\n",
    "molecule_properties = calculate_properties(molecule)\n",
    "print(\"분자의 화학적 특성:\")\n",
    "print(molecule_properties)\n"
   ]
  },
  {
   "cell_type": "markdown",
   "id": "b30489f7-525a-4392-9446-06c329f1ec59",
   "metadata": {},
   "source": [
    "3. **for 문 예시**: 분자 내의 특정 원자의 위치를 찾는 예시입니다."
   ]
  },
  {
   "cell_type": "code",
   "execution_count": 46,
   "id": "23bed66e-883d-4252-a4b9-9bf97ab030e0",
   "metadata": {},
   "outputs": [
    {
     "name": "stdout",
     "output_type": "stream",
     "text": [
      "탄소 원자의 위치:\n",
      "[0, 2, 5, 6, 8, 10, 12, 15, 21, 24, 26, 28, 30, 32, 35]\n"
     ]
    }
   ],
   "source": [
    "def find_atom_positions(molecule, atom):\n",
    "    positions = []\n",
    "    for i, char in enumerate(molecule):\n",
    "        if char == atom:\n",
    "            positions.append(i)\n",
    "    return positions\n",
    "\n",
    "carbon_positions = find_atom_positions(molecule, 'C')\n",
    "print(\"탄소 원자의 위치:\")\n",
    "print(carbon_positions)"
   ]
  },
  {
   "cell_type": "code",
   "execution_count": null,
   "id": "c0cc68eb-54cc-4259-ad3f-2350ec1345ba",
   "metadata": {},
   "outputs": [],
   "source": []
  }
 ],
 "metadata": {
  "kernelspec": {
   "display_name": "anaconda-panel-2023.05-py310",
   "language": "python",
   "name": "conda-env-anaconda-panel-2023.05-py310-py"
  },
  "language_info": {
   "codemirror_mode": {
    "name": "ipython",
    "version": 3
   },
   "file_extension": ".py",
   "mimetype": "text/x-python",
   "name": "python",
   "nbconvert_exporter": "python",
   "pygments_lexer": "ipython3",
   "version": "3.11.5"
  }
 },
 "nbformat": 4,
 "nbformat_minor": 5
}
