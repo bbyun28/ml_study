{
 "cells": [
  {
   "cell_type": "markdown",
   "id": "e34b245b-8100-4e76-9b71-b435e1f261e1",
   "metadata": {},
   "source": [
    "# **Data Science ML 스터디-02장**\n",
    "---"
   ]
  },
  {
   "cell_type": "markdown",
   "id": "34f5bd86-03e0-44ef-878b-3d4d2f500e6a",
   "metadata": {},
   "source": [
    "**목차**  \n",
    "[1. 숫자형](#1.-숫자형)  \n",
    "[2. 문자열 자료형](#2.-문자열-자료형)  \n",
    "[3. 리스트 자료형](#3.-리스트-자료형)  \n",
    "[4. 튜플 자료형](#4.-튜플-자료형)  \n",
    "[5. 딕셔너리 자료형](#5.-딕셔너리-자료형)  \n",
    "[6. 집합 자료형](#6.-집합-자료형)  \n",
    "[7. 불 자료형](#7.-불-자료형)  \n",
    "[8. 변수](#8.-변수)"
   ]
  },
  {
   "cell_type": "markdown",
   "id": "80217759-cf25-45d1-ad74-74f3963f0fb9",
   "metadata": {},
   "source": [
    "## **1. 숫자형**"
   ]
  },
  {
   "cell_type": "markdown",
   "id": "ac1dd4ee-ced5-4902-8533-351abc196077",
   "metadata": {},
   "source": [
    "[동영상 강의](https://www.youtube.com/watch?v=u_u-41d6V3k&list=PLGSQkvB9T6rvnDop8b1onBT5wOAHF0sCY&index=3)  \n",
    "  \n",
    "숫자형(Number)이란 숫자 형태로 이루어진 자료형으로, 우리가 이미 잘 알고 있는 것이다. 우리가 흔히 사용하는 숫자들을 생각해 보자. 123과 같은 정수, 12.34와 같은 실수, 8진수나 16진수도 있다."
   ]
  },
  {
   "cell_type": "markdown",
   "id": "48b8577c-3e38-43e2-8b6d-28c71a826630",
   "metadata": {},
   "source": [
    "### **숫자형 종류**\n",
    "정수형(integer)이란 말 그대로 정수를 뜻하는 자료형을 말한다. 다음은 양의 정수와 음의 정수, 숫자 0을 변수 a에 대입하는 예이다."
   ]
  },
  {
   "cell_type": "code",
   "execution_count": 1,
   "id": "35c46530-20bc-46d1-99d1-f9878c4a8480",
   "metadata": {},
   "outputs": [
    {
     "data": {
      "text/plain": [
       "0"
      ]
     },
     "execution_count": 1,
     "metadata": {},
     "output_type": "execute_result"
    }
   ],
   "source": [
    "a = 123\n",
    "a = -178\n",
    "a = 0\n",
    "a"
   ]
  },
  {
   "cell_type": "markdown",
   "id": "4a6c74f9-67a1-48b2-8fa0-114ac7fc8080",
   "metadata": {},
   "source": [
    "실수형(floating-point)은 소수점이 포함된 숫자를 말한다. 다음은 실수를 변수 a에 대입하는 예이다. 일반적으로 볼 수 있는 실수형의 소수점 표현 방식이다."
   ]
  },
  {
   "cell_type": "code",
   "execution_count": 2,
   "id": "990d39a6-4a00-4033-9a14-7fda130682e3",
   "metadata": {},
   "outputs": [
    {
     "data": {
      "text/plain": [
       "-3.45"
      ]
     },
     "execution_count": 2,
     "metadata": {},
     "output_type": "execute_result"
    }
   ],
   "source": [
    "a = 1.2\n",
    "a = -3.45\n",
    "a"
   ]
  },
  {
   "cell_type": "markdown",
   "id": "e642812d-683c-4134-960a-f1385b17dcd1",
   "metadata": {},
   "source": [
    "### **연산자**"
   ]
  },
  {
   "cell_type": "markdown",
   "id": "e3dea4a5-cbf4-48ab-97d1-a03f5f0292c3",
   "metadata": {},
   "source": [
    "**사칙연산**  \n",
    "프로그래밍을 한 번도 해 본 적이 없는 독자라도 사칙 연산(+, -, *, /)은 알고 있을 것이다. 파이썬 역시 계산기와 마찬가지로 다음처럼 연산자를 사용해 사칙 연산을 수행한다."
   ]
  },
  {
   "cell_type": "code",
   "execution_count": 3,
   "id": "465be7f9-3e52-41e3-99c1-55602eee222f",
   "metadata": {},
   "outputs": [],
   "source": [
    "a = 3\n",
    "b = 4"
   ]
  },
  {
   "cell_type": "code",
   "execution_count": 4,
   "id": "a3167dd6-d800-4c30-a765-08ec80cff455",
   "metadata": {},
   "outputs": [
    {
     "data": {
      "text/plain": [
       "7"
      ]
     },
     "execution_count": 4,
     "metadata": {},
     "output_type": "execute_result"
    }
   ],
   "source": [
    "a + b"
   ]
  },
  {
   "cell_type": "code",
   "execution_count": 5,
   "id": "09e9ab2d-aaf6-421f-a2ac-566517fd4248",
   "metadata": {},
   "outputs": [
    {
     "data": {
      "text/plain": [
       "-1"
      ]
     },
     "execution_count": 5,
     "metadata": {},
     "output_type": "execute_result"
    }
   ],
   "source": [
    "a - b"
   ]
  },
  {
   "cell_type": "code",
   "execution_count": 6,
   "id": "bed636f5-6553-4175-92d1-b44bc132e6e4",
   "metadata": {},
   "outputs": [
    {
     "data": {
      "text/plain": [
       "12"
      ]
     },
     "execution_count": 6,
     "metadata": {},
     "output_type": "execute_result"
    }
   ],
   "source": [
    "a * b"
   ]
  },
  {
   "cell_type": "code",
   "execution_count": 7,
   "id": "fb0177cb-faee-4a5a-a476-c429f913d985",
   "metadata": {},
   "outputs": [
    {
     "data": {
      "text/plain": [
       "0.75"
      ]
     },
     "execution_count": 7,
     "metadata": {},
     "output_type": "execute_result"
    }
   ],
   "source": [
    "a / b"
   ]
  },
  {
   "cell_type": "markdown",
   "id": "5ec25ac4-2456-4bd1-9639-3b0944987c7d",
   "metadata": {},
   "source": [
    "다음으로 알아야 할 연산자로 **라는 연산자가 있다. 이 연산자는 x ** y처럼 사용했을 때 x의 y제곱) 값을 리턴한다. 다음 예를 통해 알아보자."
   ]
  },
  {
   "cell_type": "code",
   "execution_count": 8,
   "id": "2099aa5b-0f95-4185-acd1-b5882929090b",
   "metadata": {},
   "outputs": [
    {
     "data": {
      "text/plain": [
       "81"
      ]
     },
     "execution_count": 8,
     "metadata": {},
     "output_type": "execute_result"
    }
   ],
   "source": [
    "a = 3\n",
    "b = 4\n",
    "a ** b"
   ]
  },
  {
   "cell_type": "markdown",
   "id": "8aabf471-e542-44c8-a149-93e26b6055c0",
   "metadata": {},
   "source": [
    "프로그래밍을 처음 접하는 독자라면 % 연산자는 본 적이 없을 것이다. %는 나눗셈의 나머지 값을 리턴하는 연산자이다. 7을 3으로 나누면 나머지는 1, 3을 7로 나누면 나머지는 3이 될 것이다. 다음 예로 확인해 보자."
   ]
  },
  {
   "cell_type": "code",
   "execution_count": 9,
   "id": "6102cbaf-b732-47d7-b64d-185bf917fc07",
   "metadata": {},
   "outputs": [
    {
     "data": {
      "text/plain": [
       "1"
      ]
     },
     "execution_count": 9,
     "metadata": {},
     "output_type": "execute_result"
    }
   ],
   "source": [
    "7 % 3"
   ]
  },
  {
   "cell_type": "code",
   "execution_count": 10,
   "id": "aa401b2a-d6c6-4d2a-819b-3e1c0d2fa206",
   "metadata": {},
   "outputs": [
    {
     "data": {
      "text/plain": [
       "3"
      ]
     },
     "execution_count": 10,
     "metadata": {},
     "output_type": "execute_result"
    }
   ],
   "source": [
    "3 % 7"
   ]
  },
  {
   "cell_type": "markdown",
   "id": "52cbff0b-8b82-455d-b132-868c098dce0d",
   "metadata": {},
   "source": [
    "/ 연산자를 사용하여 7 나누기 4를 하면 그 결과는 예상대로 1.75가 된다."
   ]
  },
  {
   "cell_type": "code",
   "execution_count": 11,
   "id": "c306161c-77c8-4aba-aa1a-5f6c99c47161",
   "metadata": {},
   "outputs": [
    {
     "data": {
      "text/plain": [
       "1.75"
      ]
     },
     "execution_count": 11,
     "metadata": {},
     "output_type": "execute_result"
    }
   ],
   "source": [
    "7 / 4"
   ]
  },
  {
   "cell_type": "markdown",
   "id": "363f1573-eed9-46da-b5b6-efff6895f94c",
   "metadata": {},
   "source": [
    "이번에는 나눗셈 후 몫을 리턴하는 // 연산자를 사용한 경우를 살펴보자."
   ]
  },
  {
   "cell_type": "code",
   "execution_count": 12,
   "id": "3a9d7cc2-094b-4f3a-988b-732e09172eed",
   "metadata": {},
   "outputs": [
    {
     "data": {
      "text/plain": [
       "1"
      ]
     },
     "execution_count": 12,
     "metadata": {},
     "output_type": "execute_result"
    }
   ],
   "source": [
    "7 // 4"
   ]
  },
  {
   "cell_type": "markdown",
   "id": "a7f8520f-7f2b-412e-aad9-badb6350dc5e",
   "metadata": {},
   "source": [
    "## **2. 문자열 자료형**"
   ]
  },
  {
   "cell_type": "markdown",
   "id": "77eb23c3-bd0c-451f-9073-04abebe1b323",
   "metadata": {},
   "source": [
    "문자열(string)이란 연속된 문자들의 나열을 말한다. 예를 들면 다음과 같다."
   ]
  },
  {
   "cell_type": "markdown",
   "id": "4a04c454-81ab-458b-a10c-00606e92dae0",
   "metadata": {},
   "source": [
    "\"Life is too short, You need Python\"\n",
    "\"a\"\n",
    "\"123\""
   ]
  },
  {
   "cell_type": "markdown",
   "id": "6b26896b-88d9-49bd-be89-4e4622758ac2",
   "metadata": {},
   "source": [
    "모든 예문이 큰따옴표(\")로 둘러싸여 있다. ‘123은 숫자인데 왜 문자열이지?’라는 의문이 드는 독자도 있을 것이다. 따옴표로 둘러싸여 있으면 모두 문자열이라고 보면 된다."
   ]
  },
  {
   "cell_type": "markdown",
   "id": "2b5e547f-93e3-4aa7-83d7-03889bd9a6e9",
   "metadata": {},
   "source": [
    "### **문자열은 어떻게 만들고 사용할까?**"
   ]
  },
  {
   "cell_type": "markdown",
   "id": "108164fa-e8e3-4591-b8a1-71f0ecb9049c",
   "metadata": {},
   "source": [
    "앞에서는 문자열을 만들 때 큰따옴표만 사용했지만, 이 밖에도 문자열을 만드는 방법은 3가지가 더 있다. 즉, 파이썬에서 문자열을 만드는 방법은 총 4가지이다."
   ]
  },
  {
   "cell_type": "markdown",
   "id": "5bbf2e75-84c7-4d3f-a1fd-4b3acf292380",
   "metadata": {},
   "source": [
    "### 1. 큰따옴표로 양쪽 둘러싸기"
   ]
  },
  {
   "cell_type": "code",
   "execution_count": 13,
   "id": "1203dcdb-a678-4cb2-a78f-7b80e4645185",
   "metadata": {},
   "outputs": [
    {
     "data": {
      "text/plain": [
       "'Hello World'"
      ]
     },
     "execution_count": 13,
     "metadata": {},
     "output_type": "execute_result"
    }
   ],
   "source": [
    "\"Hello World\""
   ]
  },
  {
   "cell_type": "markdown",
   "id": "510dc1c8-b57c-496f-9063-d3c0749bdd2a",
   "metadata": {},
   "source": [
    "### 2. 작은따옴표로 양쪽 둘러싸기"
   ]
  },
  {
   "cell_type": "code",
   "execution_count": 14,
   "id": "b3ec3806-35b7-4d64-8423-40f418a8acda",
   "metadata": {},
   "outputs": [
    {
     "data": {
      "text/plain": [
       "'Python is fun'"
      ]
     },
     "execution_count": 14,
     "metadata": {},
     "output_type": "execute_result"
    }
   ],
   "source": [
    "'Python is fun'"
   ]
  },
  {
   "cell_type": "markdown",
   "id": "73aa542e-7681-46a4-990d-88f95f6e53ce",
   "metadata": {},
   "source": [
    "### 3. 큰따옴표 3개를 연속으로 써서 양쪽 둘러싸기"
   ]
  },
  {
   "cell_type": "code",
   "execution_count": 15,
   "id": "d91080d7-ce86-4c42-b867-befd6456f0c0",
   "metadata": {},
   "outputs": [
    {
     "data": {
      "text/plain": [
       "'Life is too short, You need python'"
      ]
     },
     "execution_count": 15,
     "metadata": {},
     "output_type": "execute_result"
    }
   ],
   "source": [
    "\"\"\"Life is too short, You need python\"\"\""
   ]
  },
  {
   "cell_type": "markdown",
   "id": "409a2a60-185e-4f01-99c1-cbf9c9b0ca65",
   "metadata": {},
   "source": [
    "### 4. 작은따옴표 3개를 연속으로 써서 양쪽 둘러싸기"
   ]
  },
  {
   "cell_type": "code",
   "execution_count": 16,
   "id": "867ef2e0-28ff-41c9-a88e-c8d3d255f70b",
   "metadata": {},
   "outputs": [
    {
     "data": {
      "text/plain": [
       "'Life is too short, You need python'"
      ]
     },
     "execution_count": 16,
     "metadata": {},
     "output_type": "execute_result"
    }
   ],
   "source": [
    "'''Life is too short, You need python'''"
   ]
  },
  {
   "cell_type": "markdown",
   "id": "93f92c1d-529a-452a-85b0-2c6eb2c7d6d7",
   "metadata": {},
   "source": [
    "단순함이 자랑인 파이썬이 문자열을 만드는 방법은 왜 4가지일까? 그 이유에 대해 알아보자."
   ]
  },
  {
   "cell_type": "markdown",
   "id": "9f9559c6-b963-4f02-82ad-9a5d3baf453b",
   "metadata": {},
   "source": [
    "### **문자열 안에 작은따옴표나 큰따옴표를 포함시키고 싶을 때**"
   ]
  },
  {
   "cell_type": "markdown",
   "id": "b02c21db-4f9b-4ae8-a3a1-a200643c8654",
   "metadata": {},
   "source": [
    "문자열을 만들어 주는 주인공은 작은따옴표(')와 큰따옴표(\")이다. 그런데 문자열 안에도 작은따옴표와 큰따옴표가 들어 있어야 할 경우가 있다. 이때는 좀 더 특별한 기술이 필요하다. 예제를 하나씩 살펴보면서 원리를 익혀 보자."
   ]
  },
  {
   "cell_type": "markdown",
   "id": "183b515a-5fc6-41d5-b1ff-8f2a5bd923fb",
   "metadata": {},
   "source": [
    "### 1. 문자열에 작은따옴표 포함하기"
   ]
  },
  {
   "cell_type": "markdown",
   "id": "c8eb4e11-dc9c-4a77-ac63-744f3c6cf670",
   "metadata": {},
   "source": [
    "Python's favorite food is perl"
   ]
  },
  {
   "cell_type": "markdown",
   "id": "abb92cca-beb3-485a-93bd-5132758622e0",
   "metadata": {},
   "source": [
    "위와 같은 문자열을 food 변수에 저장하고 싶다고 가정해 보자. 문자열 중 Python's에 작은따옴표(')가 포함되어 있다.\n",
    "\n",
    "이 경우에는 문자열을 큰따옴표로 둘러싸야 한다. 큰따옴표 안에 들어 있는 작은따옴표는 문자열을 나타내기 위한 기호로 인식되지 않는다. 대화형 인터프리터를 열고 다음과 같이 입력해 보자."
   ]
  },
  {
   "cell_type": "code",
   "execution_count": 17,
   "id": "2ded7e90-eadf-40fd-af0c-b3634e7afe9d",
   "metadata": {},
   "outputs": [],
   "source": [
    "food = \"Python's favorite food is perl\""
   ]
  },
  {
   "cell_type": "markdown",
   "id": "19777a86-2f5e-48a0-9c6e-1f41f149dd53",
   "metadata": {},
   "source": [
    "프롬프트에 ‘food’를 입력해서 결과를 확인해 보면 변수에 저장된 문자열이 그대로 출력되는 것을 볼 수 있다."
   ]
  },
  {
   "cell_type": "code",
   "execution_count": 18,
   "id": "32d91d1a-3258-45ac-afac-2f4519d10a0a",
   "metadata": {},
   "outputs": [
    {
     "data": {
      "text/plain": [
       "\"Python's favorite food is perl\""
      ]
     },
     "execution_count": 18,
     "metadata": {},
     "output_type": "execute_result"
    }
   ],
   "source": [
    "food"
   ]
  },
  {
   "cell_type": "markdown",
   "id": "8f221aff-f725-4ace-8e0f-8b5d3974ab48",
   "metadata": {},
   "source": [
    "시험 삼아 다음과 같이 문자열을 큰따옴표가 아닌 작은따옴표로 둘러싼 후 다시 실행해 보자. 'Python'이 문자열로 인식되어 구문 오류(SyntaxError)가 발생할 것이다."
   ]
  },
  {
   "cell_type": "code",
   "execution_count": 19,
   "id": "b21879aa-9c1e-410d-8d32-44fdbd03f47f",
   "metadata": {},
   "outputs": [
    {
     "ename": "SyntaxError",
     "evalue": "invalid syntax (3264339671.py, line 1)",
     "output_type": "error",
     "traceback": [
      "\u001b[0;36m  Cell \u001b[0;32mIn[19], line 1\u001b[0;36m\u001b[0m\n\u001b[0;31m    food = 'Python's favorite food is perl'\u001b[0m\n\u001b[0m                   ^\u001b[0m\n\u001b[0;31mSyntaxError\u001b[0m\u001b[0;31m:\u001b[0m invalid syntax\n"
     ]
    }
   ],
   "source": [
    "food = 'Python's favorite food is perl'"
   ]
  },
  {
   "cell_type": "code",
   "execution_count": 20,
   "id": "e8064b5f-cb7c-4c3b-a21c-1fcbd2c013a6",
   "metadata": {},
   "outputs": [
    {
     "data": {
      "text/plain": [
       "\"Python's favorite food is perl\""
      ]
     },
     "execution_count": 20,
     "metadata": {},
     "output_type": "execute_result"
    }
   ],
   "source": [
    "food"
   ]
  },
  {
   "cell_type": "markdown",
   "id": "69c88410-0ce5-4d5b-90af-61d50dc12498",
   "metadata": {},
   "source": [
    "### 2. 문자열에 큰따옴표 포함하기"
   ]
  },
  {
   "cell_type": "markdown",
   "id": "e5ed05ec-8a0f-4c9d-9693-c9c6fa93ff36",
   "metadata": {},
   "source": [
    "\"Python is very easy.\" he says."
   ]
  },
  {
   "cell_type": "markdown",
   "id": "364bf2bc-f6f1-4458-839c-80318e6be392",
   "metadata": {},
   "source": [
    "위와 같이 큰따옴표가 포함된 문자열이라면 어떻게 해야 큰따옴표가 제대로 표현될까?\n",
    "\n",
    "문자열을 작은따옴표로 둘러싸면 된다. 다음과 같이 입력해 보자."
   ]
  },
  {
   "cell_type": "code",
   "execution_count": 21,
   "id": "3575981f-998a-4dfd-8de2-a0f46de5d8a2",
   "metadata": {},
   "outputs": [],
   "source": [
    "say = '\"Python is very easy.\" he says.'"
   ]
  },
  {
   "cell_type": "code",
   "execution_count": 22,
   "id": "c1489135-e887-42c9-a077-e06b94f32e27",
   "metadata": {},
   "outputs": [
    {
     "data": {
      "text/plain": [
       "'\"Python is very easy.\" he says.'"
      ]
     },
     "execution_count": 22,
     "metadata": {},
     "output_type": "execute_result"
    }
   ],
   "source": [
    "say"
   ]
  },
  {
   "cell_type": "markdown",
   "id": "2aac0167-3c16-4b95-8abf-865daba35e2d",
   "metadata": {},
   "source": [
    "이렇게 작은따옴표 안에 사용된 큰따옴표는 문자열을 만드는 기호로 인식되지 않는다."
   ]
  },
  {
   "cell_type": "markdown",
   "id": "e3af2f99-6fb2-4d15-b3e7-e72fa43a527d",
   "metadata": {},
   "source": [
    "### 3. 역슬래시를 사용해서 작은따옴표와 큰따옴표를 문자열에 포함하기"
   ]
  },
  {
   "cell_type": "code",
   "execution_count": 23,
   "id": "21731317-bcb0-4790-88d9-0feb70e97c21",
   "metadata": {},
   "outputs": [],
   "source": [
    "food = 'Python\\'s favorite food is perl'"
   ]
  },
  {
   "cell_type": "code",
   "execution_count": 24,
   "id": "4180de95-0152-46aa-a86e-a594f0f9b0d9",
   "metadata": {},
   "outputs": [
    {
     "data": {
      "text/plain": [
       "\"Python's favorite food is perl\""
      ]
     },
     "execution_count": 24,
     "metadata": {},
     "output_type": "execute_result"
    }
   ],
   "source": [
    "food"
   ]
  },
  {
   "cell_type": "code",
   "execution_count": 25,
   "id": "2648292f-b4b7-434c-9972-d74964838e27",
   "metadata": {},
   "outputs": [],
   "source": [
    "say = \"\\\"Python is very easy.\\\" he says.\""
   ]
  },
  {
   "cell_type": "code",
   "execution_count": 26,
   "id": "92e126bf-1120-4778-adde-54c73319ff06",
   "metadata": {},
   "outputs": [
    {
     "data": {
      "text/plain": [
       "'\"Python is very easy.\" he says.'"
      ]
     },
     "execution_count": 26,
     "metadata": {},
     "output_type": "execute_result"
    }
   ],
   "source": [
    "say"
   ]
  },
  {
   "cell_type": "markdown",
   "id": "125ee633-3143-447c-9b2d-cc6baf9fc80f",
   "metadata": {},
   "source": [
    "작은따옴표나 큰따옴표를 문자열에 포함시키는 또 다른 방법은 역슬래시(\\)를 사용하는 것이다. 즉, 역슬래시를 작은따옴표나 큰따옴표 앞에 삽입하면 역슬래시 뒤의 작은따옴표나 큰따옴표는 문자열을 둘러싸는 기호의 의미가 아니라 '나 \" 자체를 뜻하게 된다.\n",
    "\n",
    "어떤 방법을 사용해서 문자열 안에 작은따옴표(')와 큰따옴표(\")를 포함시킬 것인지는 각자의 선택이다. 대화형 인터프리터를 실행한 후 위 예문을 꼭 직접 작성해 보자."
   ]
  },
  {
   "cell_type": "markdown",
   "id": "f8d02f66-8e1e-4fa2-a0d3-5596c3994af2",
   "metadata": {},
   "source": [
    "### **여러 줄인 문자열을 변수에 대입하고 싶을 때**"
   ]
  },
  {
   "cell_type": "markdown",
   "id": "70ff073a-e366-43d9-a6e4-8fc4cd064a7d",
   "metadata": {},
   "source": [
    "문자열이 항상 한 줄짜리만 있는 것은 아니다. 다음과 같은 여러 줄의 문자열을 변수에 대입하려면 어떻게 해야 할까?"
   ]
  },
  {
   "cell_type": "markdown",
   "id": "b692c98c-90a0-4717-a7d0-40fb35ea09a3",
   "metadata": {},
   "source": [
    "Life is too short\n",
    "You need python"
   ]
  },
  {
   "cell_type": "markdown",
   "id": "7afccc52-9a9e-4750-bb20-43cb1d98fa49",
   "metadata": {},
   "source": [
    "### 1. 줄을 바꾸기 위한 이스케이프 코드 |n 삽입하기"
   ]
  },
  {
   "cell_type": "code",
   "execution_count": 27,
   "id": "ef0e3497-7da2-473e-be23-ebb62097449d",
   "metadata": {},
   "outputs": [],
   "source": [
    "multiline = \"Life is too short\\nYou need python\""
   ]
  },
  {
   "cell_type": "code",
   "execution_count": 28,
   "id": "dd80f710-372a-45d3-90b4-3e7837d7dfa9",
   "metadata": {},
   "outputs": [
    {
     "name": "stdout",
     "output_type": "stream",
     "text": [
      "Life is too short\n",
      "You need python\n"
     ]
    }
   ],
   "source": [
    "print(multiline)"
   ]
  },
  {
   "cell_type": "markdown",
   "id": "da0f4fd2-6618-4e54-ad07-6245a7168c88",
   "metadata": {},
   "source": [
    "위 예처럼 줄바꿈 문자인 |n을 삽입하는 방법이 있지만, 읽기가 불편하고 줄이 길어지는 단점이 있다."
   ]
  },
  {
   "cell_type": "markdown",
   "id": "538298cb-090b-49ee-abb5-8203e5cbbca6",
   "metadata": {},
   "source": [
    "### 2. 연속된 작은따옴표 3개 또는 큰따옴표 3개 사용하기"
   ]
  },
  {
   "cell_type": "markdown",
   "id": "167365f0-5a2e-4e55-a86f-960ec2cd22e5",
   "metadata": {},
   "source": [
    "1번 방법의 단점을 극복하기 위해 파이썬에서는 다음과 같이 작은따옴표 3개(''') 또는 큰따옴표 3개(\"\"\")를 사용한다."
   ]
  },
  {
   "cell_type": "code",
   "execution_count": 29,
   "id": "f7e5b560-5599-44d9-be0c-57a6799e9da8",
   "metadata": {},
   "outputs": [],
   "source": [
    "multiline='''\n",
    "... Life is too short\n",
    "... You need python\n",
    "... '''"
   ]
  },
  {
   "cell_type": "markdown",
   "id": "23909ee4-0e63-43ff-a399-97dd548aac67",
   "metadata": {},
   "source": [
    "*작은따옴표 3개를 사용한 경우*"
   ]
  },
  {
   "cell_type": "code",
   "execution_count": 30,
   "id": "fd79e165-a7ae-4f6f-9288-9cebc6412ff1",
   "metadata": {},
   "outputs": [],
   "source": [
    "multiline=\"\"\"\n",
    "... Life is too short\n",
    "... You need python\n",
    "... \"\"\""
   ]
  },
  {
   "cell_type": "markdown",
   "id": "9a3bc054-4786-41a4-a97d-9b212edaf557",
   "metadata": {},
   "source": [
    "*큰따옴표 3개를 사용한 경우*"
   ]
  },
  {
   "cell_type": "markdown",
   "id": "7ee4f869-5723-4f1f-8092-bf06e9c6e3f2",
   "metadata": {},
   "source": [
    "‘print(multiline)’을 입력하면 어떻게 출력되는지 확인해 보자."
   ]
  },
  {
   "cell_type": "code",
   "execution_count": 31,
   "id": "87aff700-c50c-43f8-bf31-e81a9d7d39c3",
   "metadata": {},
   "outputs": [
    {
     "name": "stdout",
     "output_type": "stream",
     "text": [
      "\n",
      "Life is too short\n",
      "You need python\n",
      "\n"
     ]
    }
   ],
   "source": [
    "print(multiline)"
   ]
  },
  {
   "cell_type": "markdown",
   "id": "4034e9ed-2ffa-4b93-8c7c-fb2fbfff0fd1",
   "metadata": {},
   "source": [
    "두 경우 모두 결과는 동일하다. 위 예에서도 확인할 수 있듯이 문자열이 여러 줄인 경우, 이스케이프 코드를 쓰는 것보다 따옴표 3개를 사용하는 것이 훨씬 깔끔하다."
   ]
  },
  {
   "attachments": {
    "d8429c2a-0c56-442e-9969-8317c0062bed.JPG": {
     "image/jpeg": "[encoded data removed]"
    }
   },
   "cell_type": "markdown",
   "id": "000f9ef7-c798-4bda-9fbd-6923def8e6a2",
   "metadata": {},
   "source": [
    "![2-2-1.JPG](attachment:d8429c2a-0c56-442e-9969-8317c0062bed.JPG)"
   ]
  },
  {
   "cell_type": "markdown",
   "id": "0e049eb7-31f8-4700-9c5b-5540c52d0a9a",
   "metadata": {},
   "source": [
    "### **문자열 연산하기**"
   ]
  },
  {
   "cell_type": "markdown",
   "id": "4fa85bcc-9d89-40b5-bf78-a44c26bc3c90",
   "metadata": {},
   "source": [
    "파이썬에서는 문자열을 더하거나 곱할 수 있다. 이는 다른 언어에서는 쉽게 찾아볼 수 없는 재미있는 기능으로, 우리 생각을 그대로 반영해 주는 파이썬만의 장점이라고 할 수 있다. 문자열을 더하거나 곱하는 방법에 대해 알아보자."
   ]
  },
  {
   "cell_type": "markdown",
   "id": "9d345775-6a29-4fad-be74-47b53368d696",
   "metadata": {},
   "source": [
    "### 문자열 더해서 연결하기"
   ]
  },
  {
   "cell_type": "code",
   "execution_count": 32,
   "id": "e1180652-755e-4e55-b3fc-b3826dd9adcb",
   "metadata": {},
   "outputs": [
    {
     "data": {
      "text/plain": [
       "'Python is fun!'"
      ]
     },
     "execution_count": 32,
     "metadata": {},
     "output_type": "execute_result"
    }
   ],
   "source": [
    "head = \"Python\"\n",
    "tail = \" is fun!\"\n",
    "head + tail\n",
    "'Python is fun!'"
   ]
  },
  {
   "cell_type": "code",
   "execution_count": 33,
   "id": "00f6ff6b-1bb5-4b59-a0fe-e4b634b9fbc2",
   "metadata": {},
   "outputs": [
    {
     "data": {
      "text/plain": [
       "'Python is fun!'"
      ]
     },
     "execution_count": 33,
     "metadata": {},
     "output_type": "execute_result"
    }
   ],
   "source": [
    "head+tail"
   ]
  },
  {
   "cell_type": "markdown",
   "id": "cb1b0c35-4273-4c44-94c8-431ce2ecc477",
   "metadata": {},
   "source": [
    "위 소스 코드에서 세 번째 줄을 살펴보자. 복잡하게 생각하지 말고 눈에 보이는 대로 생각해 보자. \"Python\"이라는 head 변수와 \" is fun!\"이라는 tail 변수를 더한 것이다. 결과는 'Python is fun!'이다. 즉, head와 tail 변수가 +에 의해 합쳐진 것이다. 직접 실행해 보고 결괏값이 제시한 것과 똑같이 나오는지 확인해 보자."
   ]
  },
  {
   "cell_type": "markdown",
   "id": "5f2aaa9a-99f2-422a-a65e-78654c5ed205",
   "metadata": {},
   "source": [
    "### 문자열 곱하기"
   ]
  },
  {
   "cell_type": "code",
   "execution_count": 34,
   "id": "41d276b4-a6ee-4a7d-a723-b2d83a024f1a",
   "metadata": {},
   "outputs": [
    {
     "data": {
      "text/plain": [
       "'pythonpython'"
      ]
     },
     "execution_count": 34,
     "metadata": {},
     "output_type": "execute_result"
    }
   ],
   "source": [
    "a = \"python\"\n",
    "a * 2\n",
    "'pythonpython'"
   ]
  },
  {
   "cell_type": "code",
   "execution_count": 35,
   "id": "4639433c-78ec-4d7e-8283-34982a2e5f4c",
   "metadata": {},
   "outputs": [
    {
     "data": {
      "text/plain": [
       "'pythonpython'"
      ]
     },
     "execution_count": 35,
     "metadata": {},
     "output_type": "execute_result"
    }
   ],
   "source": [
    "a*2"
   ]
  },
  {
   "cell_type": "markdown",
   "id": "ab806475-2f4f-40f7-a383-f527c2e69bc1",
   "metadata": {},
   "source": [
    "위 소스 코드에서 *의 의미는 우리가 일반적으로 사용하는 숫자 곱하기의 의미와는 다르다. 위 소스 코드에서 a * 2라는 문장은 a를 2번 반복하라는 뜻이다. 즉, *는 문자열의 반복을 뜻하는 의미로 사용되었다. 굳이 코드의 의미를 설명할 필요가 없을 정도로 직관적이다."
   ]
  },
  {
   "cell_type": "markdown",
   "id": "597288b6-0586-46c4-ac2a-6f7bea1ef7c0",
   "metadata": {},
   "source": [
    "### 문자열 곱하기를 응용하기"
   ]
  },
  {
   "cell_type": "markdown",
   "id": "d0ad67a3-6375-4ae7-b01c-cd2e1bf1b49d",
   "metadata": {},
   "source": [
    "문자열 곱하기를 좀 더 응용해 보자. 다음 소스를 IDLE 에디터를 열어 작성해 보자."
   ]
  },
  {
   "cell_type": "code",
   "execution_count": null,
   "id": "3a362d76-84dd-4071-a7f5-92a92a376195",
   "metadata": {},
   "outputs": [],
   "source": []
  },
  {
   "cell_type": "markdown",
   "id": "73dd1b6d-0408-42ed-98f1-fa44dec0afc9",
   "metadata": {},
   "source": [
    "### **문자열 길이 구하기**"
   ]
  },
  {
   "cell_type": "markdown",
   "id": "4f859d74-3235-4873-b453-38f7239d487d",
   "metadata": {},
   "source": [
    "문자열의 길이는 다음과 같이 len 함수를 사용하면 구할 수 있다. len 함수는 print 함수처럼 파이썬의 기본 내장 함수로, 별다른 설정 없이 바로 사용할 수 있다."
   ]
  },
  {
   "cell_type": "markdown",
   "id": "acc0ea22-f2c6-4be2-a6be-38c66050ca29",
   "metadata": {},
   "source": [
    ">문자열의 길이에는 공백 문자도 포함된다."
   ]
  },
  {
   "cell_type": "code",
   "execution_count": 36,
   "id": "483d0c26-50fd-4e34-900d-c007b556b9e6",
   "metadata": {},
   "outputs": [
    {
     "data": {
      "text/plain": [
       "17"
      ]
     },
     "execution_count": 36,
     "metadata": {},
     "output_type": "execute_result"
    }
   ],
   "source": [
    "a = \"Life is too short\"\n",
    "len(a)\n",
    "17"
   ]
  },
  {
   "cell_type": "code",
   "execution_count": 37,
   "id": "12be9f2a-51f7-47f2-99d2-ecf17e1538dd",
   "metadata": {},
   "outputs": [
    {
     "data": {
      "text/plain": [
       "17"
      ]
     },
     "execution_count": 37,
     "metadata": {},
     "output_type": "execute_result"
    }
   ],
   "source": [
    "len(a)"
   ]
  },
  {
   "cell_type": "markdown",
   "id": "24d673d5-d216-46e1-9b56-f44f1c97116b",
   "metadata": {},
   "source": [
    "### **문자열 인덱싱과 슬라이싱**"
   ]
  },
  {
   "cell_type": "markdown",
   "id": "ebae0fb8-8d76-499a-8883-bebe5c8f1779",
   "metadata": {},
   "source": [
    "인덱싱(indexing)이란 무엇인가를 ‘가리킨다’, 슬라이싱(slicing)은 무엇인가를 ‘잘라 낸다’라는 의미이다. 이런 의미를 생각하면서 다음 내용을 살펴보자."
   ]
  },
  {
   "cell_type": "markdown",
   "id": "5df8d9bd-5b38-4586-add8-bd2de5145e47",
   "metadata": {},
   "source": [
    "### 문자열 인덱싱"
   ]
  },
  {
   "cell_type": "code",
   "execution_count": 38,
   "id": "250adcc1-2c79-4e27-9679-f88c89f5706b",
   "metadata": {},
   "outputs": [],
   "source": [
    "a = \"Life is too short, You need Python\""
   ]
  },
  {
   "cell_type": "markdown",
   "id": "336f5c4d-2004-4f55-a715-d36ad7e536f5",
   "metadata": {},
   "source": [
    "위 코드에서 변수 a에 저장한 문자열의 각 문자마다 번호를 매겨 보면 다음과 같다."
   ]
  },
  {
   "attachments": {
    "34ba5890-ffac-4001-9a8f-eab73f483b08.png": {
     "image/png": "[encoded data removed]"
    },
    "e7a26016-2757-43d8-b28e-87496c040f8a.png": {
     "image/png": "[encoded data removed]"
    }
   },
   "cell_type": "markdown",
   "id": "570d2218-38e5-472d-b607-60ab4a8da6aa",
   "metadata": {},
   "source": [
    "![image.png](attachment:e7a26016-2757-43d8-b28e-87496c040f8a.png)![image.png](attachment:34ba5890-ffac-4001-9a8f-eab73f483b08.png)"
   ]
  },
  {
   "cell_type": "markdown",
   "id": "2871771f-c896-46cb-850c-6eefbb683ae5",
   "metadata": {},
   "source": [
    "\"Life is too short, You need Python\" 문자열에서 L은 첫 번째 자리를 뜻하는 숫자 0, i는 1 이런 식으로 계속 번호를 붙인 것이다. 즉, 중간에 있는 short의 s는 12가 된다.\n",
    "\n",
    "이제 다음 예를 실행해 보자."
   ]
  },
  {
   "cell_type": "code",
   "execution_count": 39,
   "id": "aa1354d4-c25e-4be8-85a4-d99bb3a991d2",
   "metadata": {},
   "outputs": [
    {
     "data": {
      "text/plain": [
       "'e'"
      ]
     },
     "execution_count": 39,
     "metadata": {},
     "output_type": "execute_result"
    }
   ],
   "source": [
    "a = \"Life is too short, You need Python\"\n",
    "a[3]\n",
    "'e'"
   ]
  },
  {
   "cell_type": "code",
   "execution_count": 40,
   "id": "455d3816-1db3-4388-942a-afbe0a3f87ba",
   "metadata": {},
   "outputs": [
    {
     "data": {
      "text/plain": [
       "'e'"
      ]
     },
     "execution_count": 40,
     "metadata": {},
     "output_type": "execute_result"
    }
   ],
   "source": [
    "a[3]"
   ]
  },
  {
   "cell_type": "markdown",
   "id": "9c456f89-b8fd-4409-87cf-ff9946b071eb",
   "metadata": {},
   "source": [
    "a[3]이 뜻하는 것은 a라는 문자열의 네 번째 문자 e를 말한다. 프로그래밍을 처음 접하는 독자라면 a[3]에서 숫자 3이 왜 네 번째 문자를 뜻하는지 의아할 수도 있다. 사실 이 부분이 헷갈릴 수 있는 부분인데, 다음과 같이 생각하면 쉽게 알 수 있을 것이다.\n",
    "\n",
    "**\"파이썬은 0부터 숫자를 센다.\"**\n",
    "\n",
    "따라서 파이썬은 위 문자열을 다음과 같이 바라보고 있다."
   ]
  },
  {
   "cell_type": "markdown",
   "id": "3d20dbca-fbe1-4fba-803d-9f424bc006cb",
   "metadata": {},
   "source": [
    "a[0]:'L', a[1]:'i', a[2]:'f', a[3]:'e', a[4]:' ', ..."
   ]
  },
  {
   "cell_type": "markdown",
   "id": "7c2bbeb6-159d-4f90-a7c6-3be30696b460",
   "metadata": {},
   "source": [
    "0부터 숫자를 센다는 것이 처음에는 익숙하지 않겠지만, 계속 사용하다 보면 자연스러워질 것이다. 위 예에서 볼 수 있듯이 a[번호]는 문자열 안의 특정한 값을 뽑아 내는 역할을 한다. 이러한 작업을 ‘인덱싱’이라고 한다."
   ]
  },
  {
   "cell_type": "markdown",
   "id": "ac7e43e5-4965-422f-96ee-90b903693ac0",
   "metadata": {},
   "source": [
    "### 문자열 인덱싱 활용하기"
   ]
  },
  {
   "cell_type": "markdown",
   "id": "96d0b1de-e49a-4890-a211-f38b1707ddf7",
   "metadata": {},
   "source": [
    "인덱싱의 예를 몇 가지 더 살펴보자."
   ]
  },
  {
   "cell_type": "code",
   "execution_count": 41,
   "id": "71d4452b-b283-41f8-af59-0ca7691bd571",
   "metadata": {},
   "outputs": [
    {
     "data": {
      "text/plain": [
       "'n'"
      ]
     },
     "execution_count": 41,
     "metadata": {},
     "output_type": "execute_result"
    }
   ],
   "source": [
    "a = \"Life is too short, You need Python\"\n",
    "a[0]\n",
    "'L'\n",
    "a[12]\n",
    "'s'\n",
    "a[-1]\n",
    "'n'"
   ]
  },
  {
   "cell_type": "markdown",
   "id": "0f8be54b-c2b3-4a42-9714-efedbc51c8cf",
   "metadata": {},
   "source": [
    "앞의 a[0]과 a[12]는 쉽게 이해할 수 있는데, 마지막의 a[-1]이 뜻하는 것은 뭘까? 눈치 빠른 독자는 이미 알아챘겠지만, 문자열을 뒤에서부터 읽기 위해 -(빼기) 기호를 붙인 것이다. 즉, a[-1]은 뒤에서부터 세어 첫 번째가 되는 문자를 말한다. a의 값은 \"Life is too short, You need Python\" 문자열이므로 뒤에서부터 첫 번째 문자는 가장 마지막 문자 'n'이다.\n",
    "\n",
    "뒤에서부터 첫 번째 문자를 표시할 때도 0부터 세어 ‘a[-0]이라고 해야 하지 않을까?’라는 의문이 들 수도 있겠지만, 잘 생각해 보자. 0과 -0은 똑같은 것이기 때문에 a[-0]은 a[0]과 똑같은 값을 보여 준다."
   ]
  },
  {
   "cell_type": "code",
   "execution_count": 42,
   "id": "e1b7d0e2-94c5-4549-9b8f-514477c4c446",
   "metadata": {},
   "outputs": [
    {
     "data": {
      "text/plain": [
       "'L'"
      ]
     },
     "execution_count": 42,
     "metadata": {},
     "output_type": "execute_result"
    }
   ],
   "source": [
    "a[-0]\n",
    "'L'"
   ]
  },
  {
   "cell_type": "markdown",
   "id": "4e0e9b13-2ac8-43b1-8f65-f53fb04b010a",
   "metadata": {},
   "source": [
    "계속해서 몇 가지 예를 더 살펴보자."
   ]
  },
  {
   "cell_type": "code",
   "execution_count": 43,
   "id": "04e58ef0-6e02-41cd-9b7d-8a57ec38b912",
   "metadata": {},
   "outputs": [
    {
     "data": {
      "text/plain": [
       "'o'"
      ]
     },
     "execution_count": 43,
     "metadata": {},
     "output_type": "execute_result"
    }
   ],
   "source": [
    "a[-2]"
   ]
  },
  {
   "cell_type": "code",
   "execution_count": 44,
   "id": "565fe2b4-d16f-4cc7-8d0c-b9b0b009bc75",
   "metadata": {},
   "outputs": [
    {
     "data": {
      "text/plain": [
       "'y'"
      ]
     },
     "execution_count": 44,
     "metadata": {},
     "output_type": "execute_result"
    }
   ],
   "source": [
    "a[-5]"
   ]
  },
  {
   "cell_type": "markdown",
   "id": "37cfe36d-e2b6-4c32-bf45-5c3543c8c5ee",
   "metadata": {},
   "source": [
    "첫 번째 예는 뒤에서부터 두 번째 문자, 두 번째 예는 뒤에서부터 다섯 번째 문자를 가리키는 것이다."
   ]
  },
  {
   "cell_type": "markdown",
   "id": "35c7c52c-5e8c-4166-b79d-f9267cbb8481",
   "metadata": {},
   "source": [
    "### 문자열 슬라이싱"
   ]
  },
  {
   "cell_type": "markdown",
   "id": "da9e5784-844d-4e13-b6ad-9688903110bb",
   "metadata": {},
   "source": [
    "그렇다면 \"Life is too short, You need Python\" 문자열에서 단순히 한 문자만을 뽑아 내는 것이 아니라 ‘Life’ 또는 ‘You’와 같은 단어를 뽑아 내는 방법은 없을까?\n",
    "\n",
    "다음과 같이 하면 된다."
   ]
  },
  {
   "cell_type": "code",
   "execution_count": 45,
   "id": "3fecc2b8-f5c2-47a1-a2b1-cb55b6056706",
   "metadata": {},
   "outputs": [
    {
     "data": {
      "text/plain": [
       "'Life'"
      ]
     },
     "execution_count": 45,
     "metadata": {},
     "output_type": "execute_result"
    }
   ],
   "source": [
    "a = \"Life is too short, You need Python\"\n",
    "b = a[0] + a[1] + a[2] + a[3]\n",
    "b\n",
    "'Life'"
   ]
  },
  {
   "cell_type": "code",
   "execution_count": 46,
   "id": "35892e94-9622-4eae-a728-819bf01ea3b7",
   "metadata": {},
   "outputs": [
    {
     "data": {
      "text/plain": [
       "'Life'"
      ]
     },
     "execution_count": 46,
     "metadata": {},
     "output_type": "execute_result"
    }
   ],
   "source": [
    "b"
   ]
  },
  {
   "cell_type": "markdown",
   "id": "d68d2446-1aff-4f12-8f4a-dfefc3585a29",
   "metadata": {},
   "source": [
    "위와 같이 단순하게 접근할 수도 있지만 파이썬에서는 더 좋은 방법을 제공한다. 바로 슬라이싱(slicing) 기법이다. 위 예는 슬라이싱 기법으로 다음과 같이 간단하게 처리할 수 있다."
   ]
  },
  {
   "cell_type": "markdown",
   "id": "318ae15f-0989-4d30-a1c2-744beb9aa28a",
   "metadata": {},
   "source": [
    ">인덱싱 기법과 슬라이싱 기법은 뒤에서 배울 자료형인 리스트나 튜플에서도 사용할 수 있다."
   ]
  },
  {
   "cell_type": "code",
   "execution_count": 47,
   "id": "2719020a-71a0-45c8-9cf6-b8671823cda7",
   "metadata": {},
   "outputs": [
    {
     "data": {
      "text/plain": [
       "'Life'"
      ]
     },
     "execution_count": 47,
     "metadata": {},
     "output_type": "execute_result"
    }
   ],
   "source": [
    "a = \"Life is too short, You need Python\"\n",
    "a[0:4]\n",
    "'Life'"
   ]
  },
  {
   "cell_type": "code",
   "execution_count": 48,
   "id": "b0a5409b-14d3-4202-8ac3-8d358ce84f5e",
   "metadata": {},
   "outputs": [
    {
     "data": {
      "text/plain": [
       "'Life'"
      ]
     },
     "execution_count": 48,
     "metadata": {},
     "output_type": "execute_result"
    }
   ],
   "source": [
    "a[0:4]"
   ]
  },
  {
   "cell_type": "markdown",
   "id": "8b8c177e-2074-4be0-bc4e-990f52be6a65",
   "metadata": {},
   "source": [
    "a[0:4]는 a 문자열, 즉 \"Life is too short, You need Python\" 문자열에서 자리 번호 0부터 4까지의 문자를 뽑아 낸다는 뜻이다.\n",
    "\n",
    "하지만 ‘a[0]은 L, a[1]은 i, a[2]는 f, a[3]은 e이므로 a[0:3]으로도 Life라는 단어를 뽑아 낼 수 있지 않을까?’라는 의문이 생길 것이다. 다음 예로 확인해 보자."
   ]
  },
  {
   "cell_type": "code",
   "execution_count": 49,
   "id": "240cf9de-2869-4caa-8f16-0ab3872bae4a",
   "metadata": {},
   "outputs": [
    {
     "data": {
      "text/plain": [
       "'Lif'"
      ]
     },
     "execution_count": 49,
     "metadata": {},
     "output_type": "execute_result"
    }
   ],
   "source": [
    "a[0:3]\n",
    "'Lif'"
   ]
  },
  {
   "cell_type": "code",
   "execution_count": 50,
   "id": "84acb0d2-db77-45e4-997b-1ddec8660a43",
   "metadata": {},
   "outputs": [
    {
     "data": {
      "text/plain": [
       "'Lif'"
      ]
     },
     "execution_count": 50,
     "metadata": {},
     "output_type": "execute_result"
    }
   ],
   "source": [
    "a[0:3]"
   ]
  },
  {
   "cell_type": "markdown",
   "id": "fcd29fac-6d34-4498-b3dc-2f38b2019798",
   "metadata": {},
   "source": [
    "이렇게 되는 이유는 슬라이싱 기법으로 a[시작_번호:끝_번호]를 지정할 때 끝 번호에 해당하는 문자는 포함하지 않기 때문이다. 즉, a[0:3]을 수식으로 나타내면 다음과 같다."
   ]
  },
  {
   "cell_type": "markdown",
   "id": "4cfe5cab-8d33-49b1-8410-9f72604c5d16",
   "metadata": {},
   "source": [
    "0 <= a < 3"
   ]
  },
  {
   "cell_type": "markdown",
   "id": "828f50cb-ac15-4bc2-b1d8-571326de00bb",
   "metadata": {},
   "source": [
    "이 수식을 만족하는 것은 a[0], a[1], a[2]이다. 따라서 a[0:3]은 'Lif', a[0:4]는 'Life'가 되는 것이다. 이 부분이 문자열 연산에서 가장 혼동하기 쉬운 부분이므로 02장의 마지막 부분에 있는 되새김 문제를 많이 풀어 보면서 몸에 익히기 바란다."
   ]
  },
  {
   "cell_type": "markdown",
   "id": "13adb544-cced-45f7-bbbc-56832c84bda8",
   "metadata": {},
   "source": [
    "### 문자열을 슬라이싱하는 방법"
   ]
  },
  {
   "cell_type": "markdown",
   "id": "97936410-4f25-4fd6-bb13-fc3c8cbcbc90",
   "metadata": {},
   "source": [
    "슬라이싱의 예를 좀 더 살펴보자."
   ]
  },
  {
   "cell_type": "code",
   "execution_count": 51,
   "id": "3759333e-0c8a-419b-bf86-2a86a420caa4",
   "metadata": {},
   "outputs": [
    {
     "data": {
      "text/plain": [
       "'Life '"
      ]
     },
     "execution_count": 51,
     "metadata": {},
     "output_type": "execute_result"
    }
   ],
   "source": [
    "a[0:5]\n",
    "'Life '"
   ]
  },
  {
   "cell_type": "code",
   "execution_count": 52,
   "id": "ebfbc7e6-a65d-4bdc-b17b-4a351137d436",
   "metadata": {},
   "outputs": [
    {
     "data": {
      "text/plain": [
       "'Life '"
      ]
     },
     "execution_count": 52,
     "metadata": {},
     "output_type": "execute_result"
    }
   ],
   "source": [
    "a[0:5]"
   ]
  },
  {
   "cell_type": "markdown",
   "id": "5218979d-b28c-4013-9f09-e6e2bf227217",
   "metadata": {},
   "source": [
    "위 예는 a[0] + a[1] + a[2] + a[3] + a[4]와 동일하다. a[4]는 공백 문자이기 때문에 'Life'가 아닌 'Life '가 출력된다. 공백 문자 역시 L, i, f, e 와 같은 문자와 동일하게 취급되는 것을 잊지 말자. 'Life'와 'Life '는 완전히 다른 문자열이다.\n",
    "\n",
    "슬라이싱할 때 항상 시작 번호가 0일 필요는 없다."
   ]
  },
  {
   "cell_type": "code",
   "execution_count": 53,
   "id": "9d39dd1e-5b82-4d8e-98d1-d203b20ffdd1",
   "metadata": {},
   "outputs": [
    {
     "data": {
      "text/plain": [
       "'short'"
      ]
     },
     "execution_count": 53,
     "metadata": {},
     "output_type": "execute_result"
    }
   ],
   "source": [
    "a[0:2]\n",
    "'Li'\n",
    "a[5:7]\n",
    "'is'\n",
    "a[12:17]\n",
    "'short'"
   ]
  },
  {
   "cell_type": "markdown",
   "id": "cb537dc5-9a98-45e4-a937-015876faeaf4",
   "metadata": {},
   "source": [
    "a[시작_번호:끝_번호]에서 끝 번호 부분을 생략하면 시작 번호부터 그 문자열의 끝까지 뽑아 낸다."
   ]
  },
  {
   "cell_type": "code",
   "execution_count": 54,
   "id": "b8c09758-193e-417b-b219-73995ba1119b",
   "metadata": {},
   "outputs": [
    {
     "data": {
      "text/plain": [
       "'You need Python'"
      ]
     },
     "execution_count": 54,
     "metadata": {},
     "output_type": "execute_result"
    }
   ],
   "source": [
    "a[19:]"
   ]
  },
  {
   "cell_type": "markdown",
   "id": "c5ee3796-66ad-4ac3-ae8d-36559b7a2c9b",
   "metadata": {},
   "source": [
    "a[시작_번호:끝_번호]에서 시작 번호를 생략하면 문자열의 처음부터 끝 번호까지 뽑아 낸다."
   ]
  },
  {
   "cell_type": "code",
   "execution_count": 55,
   "id": "73ab3e84-2b59-4930-b7b1-d1fdffa1ec8a",
   "metadata": {},
   "outputs": [
    {
     "data": {
      "text/plain": [
       "'Life is too short'"
      ]
     },
     "execution_count": 55,
     "metadata": {},
     "output_type": "execute_result"
    }
   ],
   "source": [
    "a[:17]"
   ]
  },
  {
   "cell_type": "markdown",
   "id": "3385bc87-2ca3-4d5c-8552-7402e462d8b0",
   "metadata": {},
   "source": [
    "a[시작_번호:끝_번호]에서 시작 번호와 끝 번호를 생략하면 문자열의 처음부터 끝까지 뽑아 낸다."
   ]
  },
  {
   "cell_type": "code",
   "execution_count": 56,
   "id": "c147fc2b-2192-4add-8a55-4971e49c4502",
   "metadata": {},
   "outputs": [
    {
     "data": {
      "text/plain": [
       "'Life is too short, You need Python'"
      ]
     },
     "execution_count": 56,
     "metadata": {},
     "output_type": "execute_result"
    }
   ],
   "source": [
    "a[:]"
   ]
  },
  {
   "cell_type": "markdown",
   "id": "1486dbba-0566-46ac-8d18-91d8470fcd25",
   "metadata": {},
   "source": [
    "슬라이싱에서도 인덱싱과 마찬가지로 -(빼기) 기호를 사용할 수 있다."
   ]
  },
  {
   "cell_type": "code",
   "execution_count": 57,
   "id": "d08a8a30-d3b4-4abc-980a-086b0493acc2",
   "metadata": {},
   "outputs": [
    {
     "data": {
      "text/plain": [
       "'You need'"
      ]
     },
     "execution_count": 57,
     "metadata": {},
     "output_type": "execute_result"
    }
   ],
   "source": [
    "a[19:-7]"
   ]
  },
  {
   "cell_type": "markdown",
   "id": "f161c28b-cdc6-44a6-9b3c-1d107a84c133",
   "metadata": {},
   "source": [
    "a[19:-7]은 a[19]에서 a[-8]까지를 의미한다. 이때에도 a[-7]은 포함하지 않는다."
   ]
  },
  {
   "cell_type": "markdown",
   "id": "f094e14a-fd40-423f-b954-09034024f26f",
   "metadata": {},
   "source": [
    "### 슬라이싱으로 문자열 나누기"
   ]
  },
  {
   "cell_type": "markdown",
   "id": "d4fd27dc-07d5-4a45-8b9a-d030abd240da",
   "metadata": {},
   "source": [
    "다음은 자주 사용하는 슬라이싱 기법 중 하나이다."
   ]
  },
  {
   "cell_type": "code",
   "execution_count": 58,
   "id": "d067cefe-fa0b-48b2-a82d-8bdf32f6513e",
   "metadata": {},
   "outputs": [
    {
     "data": {
      "text/plain": [
       "'Rainy'"
      ]
     },
     "execution_count": 58,
     "metadata": {},
     "output_type": "execute_result"
    }
   ],
   "source": [
    "a = \"20230331Rainy\"\n",
    "date = a[:8]\n",
    "weather = a[8:]\n",
    "date\n",
    "'20230331'\n",
    "weather\n",
    "'Rainy'"
   ]
  },
  {
   "cell_type": "code",
   "execution_count": 59,
   "id": "5d37c18f-1526-42a4-aa71-f431ce2b19f8",
   "metadata": {},
   "outputs": [
    {
     "data": {
      "text/plain": [
       "'20230331'"
      ]
     },
     "execution_count": 59,
     "metadata": {},
     "output_type": "execute_result"
    }
   ],
   "source": [
    "date"
   ]
  },
  {
   "cell_type": "markdown",
   "id": "25a3acf4-9b0d-4119-a881-8de0ffcbe5d8",
   "metadata": {},
   "source": [
    "위 예는 문자열 a를 두 부분으로 나누는 기법이다. 숫자 8을 기준으로 문자열 a를 양쪽으로 한 번씩 슬라이싱했다. a[:8]은 a[8]을 포함하지 않고 a[8:]은 a[8]을 포함하기 때문에 8을 기준으로 해서 두 부분으로 나눌 수 있는 것이다. 위 예에서는 \"20230331Rainy\" 문자열을 날짜를 나타내는 부분인 '20230331'과 날씨를 나타내는 부분인 'Rainy'로 나누는 방법을 보여 준다.\n",
    "\n",
    "\"20230331Rainy\"를 연도인 2023, 월과 일을 나타내는 0331, 날씨를 나타내는 Rainy까지 세 부분으로 나누는 방법은 다음과 같다."
   ]
  },
  {
   "cell_type": "code",
   "execution_count": 60,
   "id": "50df0233-576b-4504-ab56-dbc6bed7fda4",
   "metadata": {},
   "outputs": [
    {
     "data": {
      "text/plain": [
       "'Rainy'"
      ]
     },
     "execution_count": 60,
     "metadata": {},
     "output_type": "execute_result"
    }
   ],
   "source": [
    "a = \"20230331Rainy\"\n",
    "year = a[:4]\n",
    "day = a[4:8]\n",
    "weather = a[8:]\n",
    "year\n",
    "'2023'\n",
    "day\n",
    "'0331'\n",
    "weather\n",
    "'Rainy'"
   ]
  },
  {
   "cell_type": "markdown",
   "id": "803bbfc4-d19d-4bdf-ad6d-738dfb14abde",
   "metadata": {},
   "source": [
    "위 예는 숫자 4와 8로 \"20230331Rainy\" 문자열을 세 부분으로 나누는 방법을 보여 준다.\n",
    "\n",
    "지금까지 인덱싱과 슬라이싱에 대해서 살펴보았다. 인덱싱과 슬라이싱은 프로그래밍할 때 자주 사용하는 기법이므로 꼭 반복해서 연습해 두자."
   ]
  },
  {
   "attachments": {
    "d5f56a8f-60a2-446b-92fc-2506bc57eead.JPG": {
     "image/jpeg": "[encoded data removed]"
    }
   },
   "cell_type": "markdown",
   "id": "e6b8295a-7636-47a0-821f-1f8d96cc4ccd",
   "metadata": {},
   "source": [
    "![2-2-2.JPG](attachment:d5f56a8f-60a2-446b-92fc-2506bc57eead.JPG)"
   ]
  },
  {
   "cell_type": "markdown",
   "id": "a36b4ef4-9488-4605-8ffc-e3dbfa59bb07",
   "metadata": {},
   "source": [
    "### **문자열 포매팅이란?**"
   ]
  },
  {
   "cell_type": "markdown",
   "id": "8fa24d53-c5ce-4a16-b650-f2dfa912b9d5",
   "metadata": {},
   "source": [
    "문자열에서 또 하나 알아야 할 것으로는 ‘문자열 포매팅(string formatting)’이 있다. 문자열 포매팅을 공부하기 전에 다음과 같은 문자열을 출력하는 프로그램을 작성했다고 가정해 보자."
   ]
  },
  {
   "cell_type": "code",
   "execution_count": 61,
   "id": "3ab9601e-0a4c-4fd3-80f5-a50d09546c01",
   "metadata": {},
   "outputs": [
    {
     "data": {
      "text/plain": [
       "'현재 온도는 18도입니다.'"
      ]
     },
     "execution_count": 61,
     "metadata": {},
     "output_type": "execute_result"
    }
   ],
   "source": [
    "\"현재 온도는 18도입니다.\""
   ]
  },
  {
   "cell_type": "markdown",
   "id": "5ec47148-5372-42a8-80f5-679fb88e8379",
   "metadata": {},
   "source": [
    "시간이 지나서 20도가 되면 다음 문장을 출력한다."
   ]
  },
  {
   "cell_type": "code",
   "execution_count": 62,
   "id": "f8862994-dc8d-4df6-80be-1994db29f848",
   "metadata": {},
   "outputs": [
    {
     "data": {
      "text/plain": [
       "'현재 온도는 20도입니다'"
      ]
     },
     "execution_count": 62,
     "metadata": {},
     "output_type": "execute_result"
    }
   ],
   "source": [
    "\"현재 온도는 20도입니다\""
   ]
  },
  {
   "cell_type": "markdown",
   "id": "00d220b1-e9b9-4faf-acdf-8164ec228597",
   "metadata": {},
   "source": [
    "두 문자열은 모두 같은데 20이라는 숫자와 18이라는 숫자만 다르다. 이렇게 문자열 안의 특정한 값을 바꿔야 할 경우가 있을 때 이것을 가능하게 해 주는 것이 바로 문자열 포매팅이다.\n",
    "\n",
    "쉽게 말해 문자열 포매팅이란 문자열 안에 어떤 값을 삽입하는 방법이다. 다음 예를 직접 실행해 보면서 그 사용법을 알아보자."
   ]
  },
  {
   "cell_type": "markdown",
   "id": "6af4cfba-21c8-48bc-ac69-738500673830",
   "metadata": {},
   "source": [
    "### **문자열 포매팅 따라 하기**"
   ]
  },
  {
   "cell_type": "markdown",
   "id": "19f1ae32-fe5d-44f8-ba87-1379251a4c73",
   "metadata": {},
   "source": [
    "### 1. 숫자 바로 대입"
   ]
  },
  {
   "cell_type": "code",
   "execution_count": 63,
   "id": "df9d6586-9939-40ea-8cab-fb264b004092",
   "metadata": {},
   "outputs": [
    {
     "data": {
      "text/plain": [
       "'I eat 3 apples.'"
      ]
     },
     "execution_count": 63,
     "metadata": {},
     "output_type": "execute_result"
    }
   ],
   "source": [
    "\"I eat %d apples.\" % 3\n",
    "'I eat 3 apples.'"
   ]
  },
  {
   "cell_type": "markdown",
   "id": "2fbc1128-abd8-47ec-8246-3a27466e9766",
   "metadata": {},
   "source": [
    "결괏값을 보면 알겠지만, 위 예제는 문자열 안에 정수 3을 삽입하는 방법을 보여 준다. 문자열 안의 숫자를 넣고 싶은 자리에 %d 문자를 넣어 주고 삽입할 숫자 3은 가장 뒤에 있는 % 문자 다음에 써 넣었다. 여기에서 %d는 ‘문자열 포맷 코드’라고 부른다."
   ]
  },
  {
   "cell_type": "code",
   "execution_count": 64,
   "id": "e9ee5fbe-8a9d-4cd8-aaf4-cc06300f71f4",
   "metadata": {},
   "outputs": [
    {
     "data": {
      "text/plain": [
       "'i eat 2 apples.'"
      ]
     },
     "execution_count": 64,
     "metadata": {},
     "output_type": "execute_result"
    }
   ],
   "source": [
    "\"i eat %d apples.\" % 2"
   ]
  },
  {
   "cell_type": "markdown",
   "id": "ce2ae2f3-2dd1-4879-81f8-b21cb69bb391",
   "metadata": {},
   "source": [
    "### 2. 문자열 바로 대입"
   ]
  },
  {
   "cell_type": "markdown",
   "id": "849fd62a-7826-48f3-87fc-5f8e386245c8",
   "metadata": {},
   "source": [
    "문자열 안에 꼭 숫자만 넣으라는 법은 없다. 이번에는 숫자 대신 문자열을 넣어 보자."
   ]
  },
  {
   "cell_type": "code",
   "execution_count": 65,
   "id": "c7e0355b-6746-454b-a95e-17e8b513215c",
   "metadata": {},
   "outputs": [
    {
     "data": {
      "text/plain": [
       "'I eat five apples.'"
      ]
     },
     "execution_count": 65,
     "metadata": {},
     "output_type": "execute_result"
    }
   ],
   "source": [
    "\"I eat %s apples.\" % \"five\"\n",
    "'I eat five apples.'"
   ]
  },
  {
   "cell_type": "markdown",
   "id": "dd8e8782-c677-4920-aa75-67b854e35361",
   "metadata": {},
   "source": [
    "문자열 안에 또 다른 문자열을 삽입하기 위해 앞에서 사용한 문자열 포맷 코드 %d가 아닌 %s를 썼다. 어쩌면 눈치 빠른 독자는 숫자를 넣기 위해서는 %d, 문자열을 넣기 위해서는 %s를 써야 한다는 사실을 눈치챘을 것이다."
   ]
  },
  {
   "cell_type": "markdown",
   "id": "c410792a-3476-4d76-b162-b8543d289317",
   "metadata": {},
   "source": [
    ">앞에서 배운 것처럼 문자열을 대입할 때는 반드시 큰따옴표나 작은따옴표를 써야 한다."
   ]
  },
  {
   "cell_type": "markdown",
   "id": "ce7fd0ba-4343-4073-9cd0-5f26c4cb2e39",
   "metadata": {},
   "source": [
    "### 3. 숫자 값을 나타내는 변수로 대입"
   ]
  },
  {
   "cell_type": "code",
   "execution_count": 66,
   "id": "20dd57d1-3abf-444d-9c35-d44f1ec14d08",
   "metadata": {},
   "outputs": [
    {
     "data": {
      "text/plain": [
       "'I eat 3 apples.'"
      ]
     },
     "execution_count": 66,
     "metadata": {},
     "output_type": "execute_result"
    }
   ],
   "source": [
    "number = 3\n",
    "\"I eat %d apples.\" % number\n",
    "'I eat 3 apples.'"
   ]
  },
  {
   "cell_type": "markdown",
   "id": "ca5b334d-3578-42da-a8f4-5a461e9ced91",
   "metadata": {},
   "source": [
    "1번처럼 숫자를 바로 대입하든, 위 예제처럼 숫자 값을 나타내는 변수를 대입하든 결과는 같다."
   ]
  },
  {
   "cell_type": "markdown",
   "id": "94287eed-816d-4df1-8a57-07710e84c949",
   "metadata": {},
   "source": [
    "### 4. 2개 이상의 값 넣기"
   ]
  },
  {
   "cell_type": "markdown",
   "id": "aa97c28f-f95d-45e8-a5f9-4046fdafd825",
   "metadata": {},
   "source": [
    "그렇다면 문자열 안에 1개가 아닌 여러 개의 값을 넣고 싶을 때는 어떻게 해야 할까?"
   ]
  },
  {
   "cell_type": "code",
   "execution_count": 67,
   "id": "d56c09a3-bdc2-4201-9627-675341e714e0",
   "metadata": {},
   "outputs": [
    {
     "data": {
      "text/plain": [
       "'I ate 10 apples. so I was sick for three days.'"
      ]
     },
     "execution_count": 67,
     "metadata": {},
     "output_type": "execute_result"
    }
   ],
   "source": [
    "number = 10\n",
    "day = \"three\"\n",
    "\"I ate %d apples. so I was sick for %s days.\" % (number, day)\n",
    "'I ate 10 apples. so I was sick for three days.'"
   ]
  },
  {
   "cell_type": "code",
   "execution_count": 68,
   "id": "7f2c4dab-e2cd-4c3c-a20e-187938a9c6b4",
   "metadata": {},
   "outputs": [
    {
     "data": {
      "text/plain": [
       "'I ate 7 apples, so I was sick for two days.'"
      ]
     },
     "execution_count": 68,
     "metadata": {},
     "output_type": "execute_result"
    }
   ],
   "source": [
    "number = 7\n",
    "day = \"two\"\n",
    "\"I ate %d apples, so I was sick for %s days.\" % (number, day)"
   ]
  },
  {
   "cell_type": "markdown",
   "id": "34e19c66-e3cf-4935-84e3-92c00bef2449",
   "metadata": {},
   "source": [
    "2개 이상의 값을 넣으려면 마지막 % 다음 괄호 안에 쉼표(,)로 구분하여 각각의 값을 넣어 주면 된다."
   ]
  },
  {
   "cell_type": "markdown",
   "id": "816392a6-febf-45cc-94d7-029d2070513f",
   "metadata": {},
   "source": [
    "### **문자열 포맷 코드**"
   ]
  },
  {
   "cell_type": "markdown",
   "id": "5e943078-46d0-44a1-b49d-17053828d1a1",
   "metadata": {},
   "source": [
    "문자열 포매팅 예제에서는 대입해 넣는 자료형으로 정수와 문자열을 사용했지만, 이 밖에도 다양한 것을 대입할 수 있다. 문자열 포맷 코드의 종류는 다음과 같다"
   ]
  },
  {
   "attachments": {
    "3179a3fa-a79b-4e78-9a6d-06fc6b99ce6c.JPG": {
     "image/jpeg": "[encoded data removed]"
    }
   },
   "cell_type": "markdown",
   "id": "a095c2f6-866f-4df3-a374-6428b4e95ca4",
   "metadata": {},
   "source": [
    "![2-2-3.JPG](attachment:3179a3fa-a79b-4e78-9a6d-06fc6b99ce6c.JPG)"
   ]
  },
  {
   "cell_type": "markdown",
   "id": "f533616d-f1e4-47d5-8a50-061df7408bde",
   "metadata": {},
   "source": [
    "여기에서 재미있는 것은 %s 포맷 코드인데, 이 코드에는 어떤 형태의 값이든 변환해 넣을 수 있다. 무슨 말인지 예를 통해 확인해 보자."
   ]
  },
  {
   "cell_type": "code",
   "execution_count": 69,
   "id": "0e380f6e-ce70-4c6d-9871-151e746c9fb5",
   "metadata": {},
   "outputs": [
    {
     "data": {
      "text/plain": [
       "'rate is 3.234'"
      ]
     },
     "execution_count": 69,
     "metadata": {},
     "output_type": "execute_result"
    }
   ],
   "source": [
    "\"I have %s apples\" % 3\n",
    "'I have 3 apples'\n",
    "\"rate is %s\" % 3.234\n",
    "'rate is 3.234'"
   ]
  },
  {
   "cell_type": "markdown",
   "id": "600ce18d-30ec-402b-a46e-fa30f6c21699",
   "metadata": {},
   "source": [
    "3을 문자열 안에 삽입하려면 %d를 사용해야 하고 3.234를 삽입하려면 %f를 사용해야 한다. 하지만 %s를 사용하면 %s는 자동으로 % 뒤에 있는 3이나 3.234와 같은 값을 문자열로 바꾸어 대입하기 때문에 이런 것을 생각하지 않아도 된다."
   ]
  },
  {
   "attachments": {
    "c971730e-442c-46c6-a77c-fc55d9048286.JPG": {
     "image/jpeg": "[encoded data removed]"
    }
   },
   "cell_type": "markdown",
   "id": "400b9716-5ae9-40da-97f9-7123076deee3",
   "metadata": {},
   "source": [
    "![2-2-4.JPG](attachment:c971730e-442c-46c6-a77c-fc55d9048286.JPG)"
   ]
  },
  {
   "cell_type": "code",
   "execution_count": 70,
   "id": "c0347e12-bd4c-48f8-a297-1d0aace3029d",
   "metadata": {},
   "outputs": [
    {
     "data": {
      "text/plain": [
       "'Error is 50%.'"
      ]
     },
     "execution_count": 70,
     "metadata": {},
     "output_type": "execute_result"
    }
   ],
   "source": [
    "\"Error is %s%%.\" % 50"
   ]
  },
  {
   "cell_type": "markdown",
   "id": "26681f15-538f-48c6-b694-32b1bd8cf84c",
   "metadata": {},
   "source": [
    "### **포맷 코드와 숫자 함께 사용하기**"
   ]
  },
  {
   "cell_type": "markdown",
   "id": "0dded7b8-5d71-47d7-9e93-db29549bbfd6",
   "metadata": {},
   "source": [
    "앞에서 살펴보았듯이 %d, %s 등과 같은 포맷 코드는 문자열 안에 어떤 값을 삽입할 때 사용한다. 하지만 포맷 코드를 숫자와 함께 사용하면 더 유용하다. 다음 예를 따라해 보자."
   ]
  },
  {
   "cell_type": "markdown",
   "id": "8dfca81c-acbe-4e95-8989-a19cb4aca62a",
   "metadata": {},
   "source": [
    "### 1. 정렬과 공백"
   ]
  },
  {
   "cell_type": "code",
   "execution_count": 71,
   "id": "0d170408-bcc7-4e9b-8473-75180731630e",
   "metadata": {},
   "outputs": [
    {
     "data": {
      "text/plain": [
       "'        hi'"
      ]
     },
     "execution_count": 71,
     "metadata": {},
     "output_type": "execute_result"
    }
   ],
   "source": [
    "\"%10s\" % \"hi\"\n",
    "'        hi'"
   ]
  },
  {
   "cell_type": "markdown",
   "id": "7204b81c-dc2e-4fbd-88cb-97dd7be561fd",
   "metadata": {},
   "source": [
    "%10s는 전체 길이가 10개인 문자열 공간에서 대입되는 값을 오른쪽으로 정렬하고 그 앞의 나머지는 공백으로 남겨 두라는 의미이다."
   ]
  },
  {
   "cell_type": "markdown",
   "id": "410fb819-ba3f-4e40-b95d-a94803713fe2",
   "metadata": {},
   "source": [
    "![1-1](https://wikidocs.net/images/page/13/02_2_formating1.png)"
   ]
  },
  {
   "cell_type": "markdown",
   "id": "92d30d1a-130a-4037-9c4f-bdfb82bcedd8",
   "metadata": {},
   "source": [
    "그렇다면 반대쪽인 왼쪽 정렬은 %-10s가 될 것이다."
   ]
  },
  {
   "cell_type": "code",
   "execution_count": 72,
   "id": "25bfa55b-a811-4b50-8cbd-237731371946",
   "metadata": {},
   "outputs": [
    {
     "data": {
      "text/plain": [
       "'hi        jane.'"
      ]
     },
     "execution_count": 72,
     "metadata": {},
     "output_type": "execute_result"
    }
   ],
   "source": [
    "\"%-10sjane.\" % 'hi'\n",
    "'hi        jane.'"
   ]
  },
  {
   "cell_type": "markdown",
   "id": "05f48722-5640-44e7-bb7a-c246376b54c0",
   "metadata": {},
   "source": [
    "hi를 왼쪽으로 정렬하고 나머지는 공백으로 채웠다는 것을 알 수 있다."
   ]
  },
  {
   "cell_type": "markdown",
   "id": "0db4bc7e-8070-401c-a33b-a51f22b04ba6",
   "metadata": {},
   "source": [
    "![1-2](https://wikidocs.net/images/page/13/02_2_formating2.png)"
   ]
  },
  {
   "cell_type": "markdown",
   "id": "7d2cc6ce-c922-4e18-b43d-8079a616a556",
   "metadata": {},
   "source": [
    "### 2. 소수점 표현하기"
   ]
  },
  {
   "cell_type": "code",
   "execution_count": 73,
   "id": "346ef887-fdae-4cef-8500-8afdd4ede057",
   "metadata": {},
   "outputs": [
    {
     "data": {
      "text/plain": [
       "'3.4213'"
      ]
     },
     "execution_count": 73,
     "metadata": {},
     "output_type": "execute_result"
    }
   ],
   "source": [
    "\"%0.4f\" % 3.42134234\n",
    "'3.4213'"
   ]
  },
  {
   "cell_type": "markdown",
   "id": "6a9cf1d5-7027-47e1-9caa-00149d974233",
   "metadata": {},
   "source": [
    "3.42134234를 소수점 네 번째 자리까지만 나타내고 싶은 경우에는 위와 같이 작성한다. %0.4f에서 ‘.’는 소수점 포인트, 그 뒤의 숫자 4는 소수점 뒤에 나올 숫자의 개수를 말한다. 소수점 포인트 앞의 숫자는 문자열의 전체 길이를 의미하는데, %0.4f에서 사용한 숫자 0은 길이에 상관하지 않겠다는 의미이다."
   ]
  },
  {
   "cell_type": "markdown",
   "id": "a004cb07-5a3a-43f3-9f72-71c1a43e6a83",
   "metadata": {},
   "source": [
    ">%0.4f는 0을 생략하여 %.4f처럼 사용하기도 한다."
   ]
  },
  {
   "cell_type": "markdown",
   "id": "b37900a8-be95-4a11-85ad-ab87f3d86707",
   "metadata": {},
   "source": [
    "다음 예를 살펴보자."
   ]
  },
  {
   "cell_type": "code",
   "execution_count": 74,
   "id": "c68c780b-2964-4b96-a613-b14a90007194",
   "metadata": {},
   "outputs": [
    {
     "data": {
      "text/plain": [
       "'    3.4213'"
      ]
     },
     "execution_count": 74,
     "metadata": {},
     "output_type": "execute_result"
    }
   ],
   "source": [
    "\"%10.4f\" % 3.42134234\n",
    "'    3.4213'"
   ]
  },
  {
   "cell_type": "markdown",
   "id": "7ce609a2-a277-4ea8-b93a-a844b17dcd08",
   "metadata": {},
   "source": [
    "위는 숫자 3.42134234를 소수점 네 번째 자리까지만 표시하고 전체 길이가 10개인 문자열 공간에서 오른쪽으로 정렬하는 예를 보여 준다."
   ]
  },
  {
   "cell_type": "markdown",
   "id": "0300d990-ce6b-4c8b-865b-856b74445a86",
   "metadata": {},
   "source": [
    "![1-3](https://wikidocs.net/images/page/13/02_2_formating3.png)"
   ]
  },
  {
   "cell_type": "markdown",
   "id": "d151e99d-f97f-465c-9117-2e890bb60ab6",
   "metadata": {},
   "source": [
    "### **format 함수를 사용한 포매팅**"
   ]
  },
  {
   "cell_type": "markdown",
   "id": "5d1315f2-94c2-4dca-8c21-2dbc75a9389a",
   "metadata": {},
   "source": [
    "문자열의 format 함수를 사용하면 좀 더 발전된 스타일로 문자열 포맷을 지정할 수 있다. 앞에서 살펴본 문자열 포매팅 예제를 format 함수를 사용해서 바꾸면 다음과 같다."
   ]
  },
  {
   "cell_type": "markdown",
   "id": "a750a923-9f86-4d58-8ad7-a6dc58830591",
   "metadata": {},
   "source": [
    "### 숫자 바로 대입하기"
   ]
  },
  {
   "cell_type": "code",
   "execution_count": 75,
   "id": "741b459f-fc53-4cc9-9911-391d8c9e37f0",
   "metadata": {},
   "outputs": [
    {
     "data": {
      "text/plain": [
       "'I eat 3 apples'"
      ]
     },
     "execution_count": 75,
     "metadata": {},
     "output_type": "execute_result"
    }
   ],
   "source": [
    "\"I eat {0} apples\".format(3)\n",
    "'I eat 3 apples'"
   ]
  },
  {
   "cell_type": "markdown",
   "id": "5ce15700-2316-4032-9909-3f6a77bd6ea1",
   "metadata": {},
   "source": [
    "\"I eat {0} apples\" 문자열 중 {0} 부분이 숫자 3으로 바뀌었다."
   ]
  },
  {
   "cell_type": "markdown",
   "id": "872d9493-d6a4-48e7-960d-fdc41ace04bf",
   "metadata": {},
   "source": [
    "### 문자열 바로 대입하기"
   ]
  },
  {
   "cell_type": "code",
   "execution_count": 76,
   "id": "e13e6fd3-c0f0-4aff-9b3b-2efac446aa6f",
   "metadata": {},
   "outputs": [
    {
     "data": {
      "text/plain": [
       "'I eat five apples'"
      ]
     },
     "execution_count": 76,
     "metadata": {},
     "output_type": "execute_result"
    }
   ],
   "source": [
    "\"I eat {0} apples\".format(\"five\")\n",
    "'I eat five apples'"
   ]
  },
  {
   "cell_type": "markdown",
   "id": "8175df68-7f52-45d2-a2fe-670ab7e974c8",
   "metadata": {},
   "source": [
    "문자열의 {0} 항목이 ‘five’라는 문자열로 바뀌었다."
   ]
  },
  {
   "cell_type": "markdown",
   "id": "e0497eac-fd4c-4a6f-97aa-890d82a64a98",
   "metadata": {},
   "source": [
    "### 숫자 값을 가진 변수로 대입하기"
   ]
  },
  {
   "cell_type": "code",
   "execution_count": 77,
   "id": "c20d127d-8402-4c9c-ac44-f59438991d90",
   "metadata": {},
   "outputs": [
    {
     "data": {
      "text/plain": [
       "'I eat 3 apples'"
      ]
     },
     "execution_count": 77,
     "metadata": {},
     "output_type": "execute_result"
    }
   ],
   "source": [
    "number = 3\n",
    "\"I eat {0} apples\".format(number)\n",
    "'I eat 3 apples'"
   ]
  },
  {
   "cell_type": "markdown",
   "id": "86d41a36-ffea-40ba-8594-5d3210b22b81",
   "metadata": {},
   "source": [
    "문자열의 {0} 항목이 number 변수의 값인 3으로 바뀌었다."
   ]
  },
  {
   "cell_type": "markdown",
   "id": "7909f25c-4d96-4d2b-8107-b14821458b1c",
   "metadata": {},
   "source": [
    "### 2개 이상의 값 넣기"
   ]
  },
  {
   "cell_type": "code",
   "execution_count": 78,
   "id": "46934761-4fae-4f77-a643-73a168cd0524",
   "metadata": {},
   "outputs": [
    {
     "data": {
      "text/plain": [
       "'I ate 10 apples. so I was sick for three days.'"
      ]
     },
     "execution_count": 78,
     "metadata": {},
     "output_type": "execute_result"
    }
   ],
   "source": [
    "number = 10\n",
    "day = \"three\"\n",
    "\"I ate {0} apples. so I was sick for {1} days.\".format(number, day)\n",
    "'I ate 10 apples. so I was sick for three days.'"
   ]
  },
  {
   "cell_type": "code",
   "execution_count": 79,
   "id": "de96be9f-ec6b-4986-a7a7-ef9a879d47f3",
   "metadata": {},
   "outputs": [
    {
     "data": {
      "text/plain": [
       "'I ate 5 apples. so I was sick for two days, one year.'"
      ]
     },
     "execution_count": 79,
     "metadata": {},
     "output_type": "execute_result"
    }
   ],
   "source": [
    "number = 5\n",
    "day = \"two\"\n",
    "year = \"one\"\n",
    "\"I ate {0} apples. so I was sick for {1} days, {2} year.\".format(number, day, year)"
   ]
  },
  {
   "cell_type": "markdown",
   "id": "aac2327f-3dd0-493d-9b93-5ab6118c6e95",
   "metadata": {},
   "source": [
    "2개 이상의 값을 넣을 경우, 문자열의 {0}, {1}과 같은 인덱스 항목이 format 함수의 입력값으로 순서에 맞게 바뀐다. 위 예에서 {0}은 format 함수의 첫 번째 입력값인 number, {1}은 format 함수의 두 번째 입력값인 day로 바뀐다."
   ]
  },
  {
   "cell_type": "markdown",
   "id": "98eb67b2-2e91-4ea0-9a82-475350e75ba3",
   "metadata": {},
   "source": [
    "### 이름으로 넣기"
   ]
  },
  {
   "cell_type": "code",
   "execution_count": 80,
   "id": "a5fb13c1-1b6f-457a-ac02-c084363e3285",
   "metadata": {},
   "outputs": [
    {
     "data": {
      "text/plain": [
       "'I ate 10 apples. so I was sick for 3 days.'"
      ]
     },
     "execution_count": 80,
     "metadata": {},
     "output_type": "execute_result"
    }
   ],
   "source": [
    "\"I ate {number} apples. so I was sick for {day} days.\".format(number=10, day=3)\n",
    "'I ate 10 apples. so I was sick for 3 days.'"
   ]
  },
  {
   "cell_type": "markdown",
   "id": "268dcd85-574d-498b-b1ef-933c3a793719",
   "metadata": {},
   "source": [
    "{0}, {1}과 같은 인덱스 항목 대신 더 편리한 {name} 형태를 사용하는 방법도 있다. {name} 형태를 사용할 경우, format 함수에는 반드시 name=value와 같은 형태의 입력값이 있어야 한다. 위 예는 문자열의 {number}, {day}가 format 함수의 입력값인 number=10, day=3 값으로 각각 바뀌는 것을 보여 주고 있다."
   ]
  },
  {
   "cell_type": "markdown",
   "id": "a420e2fe-2397-41fd-ad7e-0c7fc3cb27da",
   "metadata": {},
   "source": [
    "### 인덱스와 이름을 혼용해서 넣기"
   ]
  },
  {
   "cell_type": "code",
   "execution_count": 81,
   "id": "c1bffb78-d1c9-46ec-b72d-0e46b99056c7",
   "metadata": {},
   "outputs": [
    {
     "data": {
      "text/plain": [
       "'I ate 10 apples. so I was sick for 3 days.'"
      ]
     },
     "execution_count": 81,
     "metadata": {},
     "output_type": "execute_result"
    }
   ],
   "source": [
    "\"I ate {0} apples. so I was sick for {day} days.\".format(10, day=3)\n",
    "'I ate 10 apples. so I was sick for 3 days.'"
   ]
  },
  {
   "cell_type": "markdown",
   "id": "3f75e04c-0186-4b39-b938-c3af35c25820",
   "metadata": {},
   "source": [
    "인덱스 항목과 name=value 형태를 혼용하는 것도 가능하다."
   ]
  },
  {
   "cell_type": "markdown",
   "id": "a4d762dd-3bef-4e0e-8922-7241c06861ec",
   "metadata": {},
   "source": [
    "### 왼쪽 정렬"
   ]
  },
  {
   "cell_type": "code",
   "execution_count": 82,
   "id": "dc13b24f-3f0e-4293-8138-57a90b2b289b",
   "metadata": {},
   "outputs": [
    {
     "data": {
      "text/plain": [
       "'hi        '"
      ]
     },
     "execution_count": 82,
     "metadata": {},
     "output_type": "execute_result"
    }
   ],
   "source": [
    "\"{0:<10}\".format(\"hi\")"
   ]
  },
  {
   "cell_type": "markdown",
   "id": "a9be8f25-1634-413a-be1f-e9745bc92119",
   "metadata": {},
   "source": [
    ":<10 표현식을 사용하면 치환되는 문자열을 왼쪽으로 정렬하고 문자열의 총 자릿수를 10으로 맞출 수 있다."
   ]
  },
  {
   "cell_type": "markdown",
   "id": "9f18b867-112d-4c5f-a3dd-f3017af5c8b5",
   "metadata": {},
   "source": [
    "### 오른쪽 정렬"
   ]
  },
  {
   "cell_type": "code",
   "execution_count": 83,
   "id": "6d6e6555-9fba-47b3-83c5-7674a08d41d5",
   "metadata": {},
   "outputs": [
    {
     "data": {
      "text/plain": [
       "'        hi'"
      ]
     },
     "execution_count": 83,
     "metadata": {},
     "output_type": "execute_result"
    }
   ],
   "source": [
    "\"{0:>10}\".format(\"hi\")"
   ]
  },
  {
   "cell_type": "markdown",
   "id": "b20f9021-7bc4-4d9d-8eaf-bbcc23870b50",
   "metadata": {},
   "source": [
    "오른쪽 정렬은 :< 대신 :>을 사용하면 된다. 화살표의 방향을 생각하면 어느 쪽으로 정렬되는지 바로 알 수 있을 것이다."
   ]
  },
  {
   "cell_type": "markdown",
   "id": "db24ec97-79f0-4775-80da-66376f0c20cb",
   "metadata": {},
   "source": [
    "### 가운데 정렬"
   ]
  },
  {
   "cell_type": "code",
   "execution_count": 84,
   "id": "cd6f54a3-b119-4809-b842-5bc8914b6b94",
   "metadata": {},
   "outputs": [
    {
     "data": {
      "text/plain": [
       "'    hi    '"
      ]
     },
     "execution_count": 84,
     "metadata": {},
     "output_type": "execute_result"
    }
   ],
   "source": [
    "\"{0:^10}\".format(\"hi\")"
   ]
  },
  {
   "cell_type": "markdown",
   "id": "e56bb527-2481-4d6c-a65b-c4cef4495ec8",
   "metadata": {},
   "source": [
    ":^를 사용하면 가운데 정렬도 가능하다."
   ]
  },
  {
   "cell_type": "markdown",
   "id": "ab081b49-a6e5-4e4f-8abc-c21984236512",
   "metadata": {},
   "source": [
    "### 공백 채우기"
   ]
  },
  {
   "cell_type": "code",
   "execution_count": 85,
   "id": "22ba18f6-e0fc-4342-a1e9-37ed41411931",
   "metadata": {},
   "outputs": [
    {
     "data": {
      "text/plain": [
       "'====hi===='"
      ]
     },
     "execution_count": 85,
     "metadata": {},
     "output_type": "execute_result"
    }
   ],
   "source": [
    "\"{0:=^10}\".format(\"hi\")"
   ]
  },
  {
   "cell_type": "code",
   "execution_count": 86,
   "id": "1f740863-6140-4fdf-86b8-6561c8937cc3",
   "metadata": {},
   "outputs": [
    {
     "data": {
      "text/plain": [
       "'hi!!!!!!!!'"
      ]
     },
     "execution_count": 86,
     "metadata": {},
     "output_type": "execute_result"
    }
   ],
   "source": [
    "\"{0:!<10}\".format(\"hi\")"
   ]
  },
  {
   "cell_type": "code",
   "execution_count": 87,
   "id": "b03d15cb-911c-4106-b71e-793858e92a56",
   "metadata": {},
   "outputs": [
    {
     "data": {
      "text/plain": [
       "'!!!!!!!!hi'"
      ]
     },
     "execution_count": 87,
     "metadata": {},
     "output_type": "execute_result"
    }
   ],
   "source": [
    "\"{0:!>10}\".format(\"hi\")"
   ]
  },
  {
   "cell_type": "markdown",
   "id": "50f5566c-d970-4dec-88ad-eca9b162f0f2",
   "metadata": {},
   "source": [
    "정렬할 때 공백 문자 대신 지정한 문자 값으로 채워 넣을 수도 있다. 채워 넣을 문자 값은 정렬 문자 <, >, ^ 바로 앞에 넣어야 한다. 위 예에서 첫 번째 예제는 가운데(^)로 정렬하고 빈 공간을 =로 채웠고, 두 번째 예제는 왼쪽(<)으로 정렬하고 빈 공간을 !로 채웠다."
   ]
  },
  {
   "cell_type": "markdown",
   "id": "94ad80ed-0831-4edd-b603-419e4196b4cc",
   "metadata": {},
   "source": [
    "### 소수점 표현하기"
   ]
  },
  {
   "cell_type": "code",
   "execution_count": 88,
   "id": "87226675-9aee-42e4-86ee-276c55ba251e",
   "metadata": {},
   "outputs": [
    {
     "data": {
      "text/plain": [
       "'3.4213'"
      ]
     },
     "execution_count": 88,
     "metadata": {},
     "output_type": "execute_result"
    }
   ],
   "source": [
    "y = 3.42134234\n",
    "\"{0:0.4f}\".format(y)"
   ]
  },
  {
   "cell_type": "markdown",
   "id": "bc49bb0b-b8e0-4b7c-be58-1d26ce28402d",
   "metadata": {},
   "source": [
    "위는 format 함수를 사용해 소수점을 4자리까지만 표현하는 방법을 보여 준다. 앞에서 살펴보았던 표현식 0.4f를 그대로 사용한 것을 알 수 있다."
   ]
  },
  {
   "cell_type": "code",
   "execution_count": 89,
   "id": "33db2ce1-e1d5-4767-9db4-faff2f1a9168",
   "metadata": {},
   "outputs": [
    {
     "data": {
      "text/plain": [
       "'    3.4213'"
      ]
     },
     "execution_count": 89,
     "metadata": {},
     "output_type": "execute_result"
    }
   ],
   "source": [
    "\"{0:10.4f}\".format(y)"
   ]
  },
  {
   "cell_type": "markdown",
   "id": "73814e09-4203-4ae5-be41-c100728c9347",
   "metadata": {},
   "source": [
    "위와 같이 자릿수를 10으로 맞출 수도 있다. 이 또한 앞에서 살펴본 10.4f의 표현식을 그대로 사용한 것을 알 수 있다."
   ]
  },
  {
   "cell_type": "code",
   "execution_count": 90,
   "id": "59ffebc2-6af3-4887-a759-930b0f3b90da",
   "metadata": {},
   "outputs": [
    {
     "data": {
      "text/plain": [
       "'              3.4213'"
      ]
     },
     "execution_count": 90,
     "metadata": {},
     "output_type": "execute_result"
    }
   ],
   "source": [
    "\"{0:20.4f}\".format(y)"
   ]
  },
  {
   "cell_type": "markdown",
   "id": "b96bb29a-ed45-4b4e-887e-9785bde9cf45",
   "metadata": {},
   "source": [
    "### { 또는 } 문자 표현하기"
   ]
  },
  {
   "cell_type": "code",
   "execution_count": 91,
   "id": "f55a0779-0661-4a37-99cc-17ae262baad2",
   "metadata": {},
   "outputs": [
    {
     "data": {
      "text/plain": [
       "'{ and }'"
      ]
     },
     "execution_count": 91,
     "metadata": {},
     "output_type": "execute_result"
    }
   ],
   "source": [
    "\"{{ and }}\".format()"
   ]
  },
  {
   "cell_type": "markdown",
   "id": "5d275f92-80aa-4701-9b90-691d555fd431",
   "metadata": {},
   "source": [
    "format 함수를 사용해 문자열을 포매팅할 경우, {}와 같은 중괄호 문자를 포매팅 문자가 아닌 문자 그대로 사용하고 싶은 경우에는 위 예의 {{}}처럼 2개를 연속해서 사용하면 된다."
   ]
  },
  {
   "cell_type": "markdown",
   "id": "fd87cc82-233b-4ed9-9338-f53134e8bd8b",
   "metadata": {},
   "source": [
    "### **f 문자열 포매팅**"
   ]
  },
  {
   "cell_type": "markdown",
   "id": "8e2dc527-6333-442a-8016-617e847db8bc",
   "metadata": {},
   "source": [
    "파이썬 3.6 버전부터는 f 문자열 포매팅 기능을 사용할 수 있다. 파이썬 3.6 미만 버전에서는 사용할 수 없는 기능이므로 주의해야 한다.\n",
    "\n",
    "다음과 같이 문자열 앞에 f 접두사를 붙이면 f 문자열 포매팅 기능을 사용할 수 있다."
   ]
  },
  {
   "cell_type": "code",
   "execution_count": 92,
   "id": "a7d38fee-9e85-47c7-ad44-f6af05ba5a60",
   "metadata": {},
   "outputs": [
    {
     "data": {
      "text/plain": [
       "'나의 이름은 홍길동입니다. 나이는 30입니다.'"
      ]
     },
     "execution_count": 92,
     "metadata": {},
     "output_type": "execute_result"
    }
   ],
   "source": [
    "name = '홍길동'\n",
    "age = 30\n",
    "f'나의 이름은 {name}입니다. 나이는 {age}입니다.'"
   ]
  },
  {
   "cell_type": "code",
   "execution_count": 93,
   "id": "1aa425a9-160f-4dfd-91f5-4497c3df3995",
   "metadata": {},
   "outputs": [
    {
     "data": {
      "text/plain": [
       "'나의 이름은 지영이고, 고향은 인천입니다.'"
      ]
     },
     "execution_count": 93,
     "metadata": {},
     "output_type": "execute_result"
    }
   ],
   "source": [
    "name = \"지영\"\n",
    "home = \"인천\"\n",
    "f'나의 이름은 {name}이고, 고향은 {home}입니다.'"
   ]
  },
  {
   "cell_type": "markdown",
   "id": "71e8e1f1-7bc7-4be2-9d8f-864eb812d5e7",
   "metadata": {},
   "source": [
    "f 문자열 포매팅은 위와 같이 name, age와 같은 변숫값을 생성한 후에 그 값을 참조할 수 있다. 또한 f 문자열 포매팅은 표현식을 지원하기 때문에 다음과 같은 것도 가능하다."
   ]
  },
  {
   "cell_type": "markdown",
   "id": "b169d31f-b790-496c-a398-8d605e434813",
   "metadata": {},
   "source": [
    ">표현식이란 중괄호 안의 변수를 계산식과 함께 사용하는 것을 말한다."
   ]
  },
  {
   "cell_type": "code",
   "execution_count": 94,
   "id": "95899e1f-d6f8-49c0-9880-9ce3f3b39f21",
   "metadata": {},
   "outputs": [
    {
     "data": {
      "text/plain": [
       "'나는 내년이면 31살이 된다.'"
      ]
     },
     "execution_count": 94,
     "metadata": {},
     "output_type": "execute_result"
    }
   ],
   "source": [
    "age = 30\n",
    "f'나는 내년이면 {age + 1}살이 된다.'"
   ]
  },
  {
   "cell_type": "markdown",
   "id": "6c33842c-e20d-4aa8-a847-d7c161391b36",
   "metadata": {},
   "source": [
    "딕셔너리는 f 문자열 포매팅에서 다음과 같이 사용할 수 있다."
   ]
  },
  {
   "cell_type": "code",
   "execution_count": 95,
   "id": "754c8571-aa62-40ee-93cd-2242f7c7e704",
   "metadata": {},
   "outputs": [
    {
     "data": {
      "text/plain": [
       "'나의 이름은 홍길동입니다. 나이는 30입니다.'"
      ]
     },
     "execution_count": 95,
     "metadata": {},
     "output_type": "execute_result"
    }
   ],
   "source": [
    "d = {'name':'홍길동', 'age':30}\n",
    "f'나의 이름은 {d[\"name\"]}입니다. 나이는 {d[\"age\"]}입니다.'"
   ]
  },
  {
   "cell_type": "markdown",
   "id": "d1982d80-4de1-4586-bba6-ee8e98fca6b8",
   "metadata": {},
   "source": [
    ">딕셔너리는 Key와 Value라는 것을 한 쌍으로 가지는 자료형이다. 02-5에서 자세히 알아본다."
   ]
  },
  {
   "cell_type": "markdown",
   "id": "5d600c41-95bd-41d7-a22d-1657b8c4093a",
   "metadata": {},
   "source": [
    "정렬은 다음과 같이 할 수 있다."
   ]
  },
  {
   "cell_type": "code",
   "execution_count": 96,
   "id": "33335fe4-985d-4c6d-8797-b7fa867a47dc",
   "metadata": {},
   "outputs": [
    {
     "data": {
      "text/plain": [
       "'hi        '"
      ]
     },
     "execution_count": 96,
     "metadata": {},
     "output_type": "execute_result"
    }
   ],
   "source": [
    "f'{\"hi\":<10}'  # 왼쪽 정렬"
   ]
  },
  {
   "cell_type": "code",
   "execution_count": 97,
   "id": "2d476f2e-811a-4ded-89d7-bb2a5d6f299d",
   "metadata": {},
   "outputs": [
    {
     "data": {
      "text/plain": [
       "'        hi'"
      ]
     },
     "execution_count": 97,
     "metadata": {},
     "output_type": "execute_result"
    }
   ],
   "source": [
    "f'{\"hi\":>10}'  # 오른쪽 정렬"
   ]
  },
  {
   "cell_type": "code",
   "execution_count": 98,
   "id": "da94a94a-4fe0-4622-aa4a-466c6a7231b1",
   "metadata": {},
   "outputs": [
    {
     "data": {
      "text/plain": [
       "'    hi    '"
      ]
     },
     "execution_count": 98,
     "metadata": {},
     "output_type": "execute_result"
    }
   ],
   "source": [
    "f'{\"hi\":^10}'  # 가운데 정렬"
   ]
  },
  {
   "cell_type": "markdown",
   "id": "4d88d05a-136f-4d0b-a05f-9513ab099303",
   "metadata": {},
   "source": [
    "공백 채우기는 다음과 같이 할 수 있다."
   ]
  },
  {
   "cell_type": "code",
   "execution_count": 99,
   "id": "591f72b0-e519-4d4f-9df6-09d4dbeef7f1",
   "metadata": {},
   "outputs": [
    {
     "data": {
      "text/plain": [
       "'====hi===='"
      ]
     },
     "execution_count": 99,
     "metadata": {},
     "output_type": "execute_result"
    }
   ],
   "source": [
    "f'{\"hi\":=^10}'  # 가운데 정렬하고 '=' 문자로 공백 채우기"
   ]
  },
  {
   "cell_type": "code",
   "execution_count": 100,
   "id": "1f60bf96-12f9-4273-b82e-779e74dece4c",
   "metadata": {},
   "outputs": [
    {
     "data": {
      "text/plain": [
       "'hi!!!!!!!!'"
      ]
     },
     "execution_count": 100,
     "metadata": {},
     "output_type": "execute_result"
    }
   ],
   "source": [
    "f'{\"hi\":!<10}'  # 왼쪽 정렬하고 '!' 문자로 공백 채우기"
   ]
  },
  {
   "cell_type": "code",
   "execution_count": 101,
   "id": "33d533aa-3687-4a80-b387-1189398b54ed",
   "metadata": {},
   "outputs": [
    {
     "data": {
      "text/plain": [
       "'!!!!!!!!hi'"
      ]
     },
     "execution_count": 101,
     "metadata": {},
     "output_type": "execute_result"
    }
   ],
   "source": [
    "f'{\"hi\":!>10}'"
   ]
  },
  {
   "cell_type": "markdown",
   "id": "278f504e-ab61-4ec1-bfbc-7659b5a09fb8",
   "metadata": {},
   "source": [
    "소수점은 다음과 같이 표현할 수 있다."
   ]
  },
  {
   "cell_type": "code",
   "execution_count": 102,
   "id": "f89c0764-010f-45f4-b993-fd8a97ca601c",
   "metadata": {},
   "outputs": [
    {
     "data": {
      "text/plain": [
       "'3.4213'"
      ]
     },
     "execution_count": 102,
     "metadata": {},
     "output_type": "execute_result"
    }
   ],
   "source": [
    "y = 3.42134234\n",
    "f'{y:0.4f}'  # 소수점 4자리까지만 표현"
   ]
  },
  {
   "cell_type": "code",
   "execution_count": 103,
   "id": "473d691f-49d1-4745-9bd6-8611c460d1c5",
   "metadata": {},
   "outputs": [
    {
     "data": {
      "text/plain": [
       "'    3.4213'"
      ]
     },
     "execution_count": 103,
     "metadata": {},
     "output_type": "execute_result"
    }
   ],
   "source": [
    "f'{y:10.4f}'  # 소수점 4자리까지 표현하고 총 자리수를 10으로 맞춤"
   ]
  },
  {
   "cell_type": "code",
   "execution_count": 104,
   "id": "f083d91b-d0f4-4ca8-aee5-8539f0d4d607",
   "metadata": {},
   "outputs": [
    {
     "data": {
      "text/plain": [
       "'             3.42134'"
      ]
     },
     "execution_count": 104,
     "metadata": {},
     "output_type": "execute_result"
    }
   ],
   "source": [
    "f'{y:20.5f}'"
   ]
  },
  {
   "cell_type": "markdown",
   "id": "48f2e7a5-7ae0-4829-ae84-4836f88daacf",
   "metadata": {},
   "source": [
    "f 문자열에서 {}를 문자 그대로 표시하려면 다음과 같이 2개를 동시에 사용해야 한다."
   ]
  },
  {
   "cell_type": "code",
   "execution_count": 105,
   "id": "0999b8ba-1b01-4a86-b30f-5c54bd4c7b19",
   "metadata": {},
   "outputs": [
    {
     "data": {
      "text/plain": [
       "'{ and }'"
      ]
     },
     "execution_count": 105,
     "metadata": {},
     "output_type": "execute_result"
    }
   ],
   "source": [
    "f'{{ and }}'"
   ]
  },
  {
   "cell_type": "markdown",
   "id": "6e65502e-7ed0-4c16-bbaf-ff4a724da93b",
   "metadata": {},
   "source": [
    "지금까지는 문자열을 가지고 할 수 있는 기본적인 것에 대해 알아보았다. 이제부터는 문자열을 좀 더 자유자재로 다루기 위해 공부해야 할 것을 설명한다."
   ]
  },
  {
   "cell_type": "markdown",
   "id": "37f72c10-8714-4770-8bb9-1843ed1cf424",
   "metadata": {},
   "source": [
    "### **문자열 관련 함수들**"
   ]
  },
  {
   "cell_type": "markdown",
   "id": "21a2fa8e-f25c-4395-9301-bbb93e9838f1",
   "metadata": {},
   "source": [
    "문자열 자료형은 자체적으로 함수를 가지고 있다. 이들 함수를 다른 말로 ‘문자열 내장 함수’라고 한다. 이 내장 함수를 사용하려면 문자열 변수 이름 뒤에 ‘.’를 붙인 후 함수 이름을 써 주면 된다. 이제 문자열의 내장 함수에 대해서 알아보자."
   ]
  },
  {
   "cell_type": "markdown",
   "id": "c9c5cb55-32f0-48dc-a8b1-7ac2a59fa7fd",
   "metadata": {},
   "source": [
    "### 문자 개수 세기 - count"
   ]
  },
  {
   "cell_type": "code",
   "execution_count": 106,
   "id": "b6cf3e0e-2f25-49a0-a537-4c0367a567b4",
   "metadata": {},
   "outputs": [
    {
     "data": {
      "text/plain": [
       "2"
      ]
     },
     "execution_count": 106,
     "metadata": {},
     "output_type": "execute_result"
    }
   ],
   "source": [
    "a = \"hobby\"\n",
    "a.count('b')"
   ]
  },
  {
   "cell_type": "markdown",
   "id": "95206146-0931-4375-ba60-bf868fb01ab8",
   "metadata": {},
   "source": [
    "count 함수로 문자열 중 문자 b의 개수를 리턴했다."
   ]
  },
  {
   "cell_type": "markdown",
   "id": "948830ef-85e3-439b-94ce-51f806eb81a5",
   "metadata": {},
   "source": [
    "### 위치 알려 주기 1 - find"
   ]
  },
  {
   "cell_type": "code",
   "execution_count": 107,
   "id": "97fe88f7-c0c9-4a3f-942e-445ac2ff3eb6",
   "metadata": {},
   "outputs": [
    {
     "data": {
      "text/plain": [
       "14"
      ]
     },
     "execution_count": 107,
     "metadata": {},
     "output_type": "execute_result"
    }
   ],
   "source": [
    "a = \"Python is the best choice\"\n",
    "a.find('b')"
   ]
  },
  {
   "cell_type": "code",
   "execution_count": 108,
   "id": "8889d644-be1d-4309-a308-888cf216753b",
   "metadata": {},
   "outputs": [
    {
     "data": {
      "text/plain": [
       "-1"
      ]
     },
     "execution_count": 108,
     "metadata": {},
     "output_type": "execute_result"
    }
   ],
   "source": [
    "a.find('k')"
   ]
  },
  {
   "cell_type": "markdown",
   "id": "8347f7d2-1ff3-4c9f-9049-b41f9157e2fe",
   "metadata": {},
   "source": [
    "find 함수로 문자열 중 문자 b가 처음으로 나온 위치를 반환했다. 만약 찾는 문자나 문자열이 존재하지 않는다면 -1을 반환한다."
   ]
  },
  {
   "cell_type": "markdown",
   "id": "00883a5f-744d-48c7-b418-4157bd0fd91b",
   "metadata": {},
   "source": [
    ">파이썬은 숫자를 0부터 세기 때문에 b의 위치는 15가 아닌 14가 된다."
   ]
  },
  {
   "cell_type": "markdown",
   "id": "6f70329c-7320-44a6-9cb6-886286c08959",
   "metadata": {},
   "source": [
    "### 위치 알려 주기 2 - index"
   ]
  },
  {
   "cell_type": "code",
   "execution_count": 109,
   "id": "1e0aef04-1074-42be-8ccf-7c7939f764dc",
   "metadata": {},
   "outputs": [
    {
     "data": {
      "text/plain": [
       "8"
      ]
     },
     "execution_count": 109,
     "metadata": {},
     "output_type": "execute_result"
    }
   ],
   "source": [
    "a = \"Life is too short\"\n",
    "a.index('t')"
   ]
  },
  {
   "cell_type": "code",
   "execution_count": 110,
   "id": "5508f2ab-eb6f-4472-bcb6-d01d4fa47007",
   "metadata": {},
   "outputs": [
    {
     "ename": "ValueError",
     "evalue": "substring not found",
     "output_type": "error",
     "traceback": [
      "\u001b[0;31m---------------------------------------------------------------------------\u001b[0m",
      "\u001b[0;31mValueError\u001b[0m                                Traceback (most recent call last)",
      "Cell \u001b[0;32mIn[110], line 1\u001b[0m\n\u001b[0;32m----> 1\u001b[0m \u001b[43ma\u001b[49m\u001b[38;5;241;43m.\u001b[39;49m\u001b[43mindex\u001b[49m\u001b[43m(\u001b[49m\u001b[38;5;124;43m'\u001b[39;49m\u001b[38;5;124;43mk\u001b[39;49m\u001b[38;5;124;43m'\u001b[39;49m\u001b[43m)\u001b[49m\n",
      "\u001b[0;31mValueError\u001b[0m: substring not found"
     ]
    }
   ],
   "source": [
    "a.index('k')"
   ]
  },
  {
   "cell_type": "markdown",
   "id": "e0c2dd8b-c3fc-40d4-b823-e05a26b3c153",
   "metadata": {},
   "source": [
    "index 함수로 문자열 중 문자 t가 맨 처음으로 나온 위치를 반환했다. 만약 찾는 문자나 문자열이 존재하지 않는다면 오류가 발생한다. 앞의 find 함수와 다른 점은 문자열 안에 존재하지 않는 문자를 찾으면 오류가 발생한다는 것이다."
   ]
  },
  {
   "cell_type": "markdown",
   "id": "98a21f1e-d86b-49db-8fbf-c2453fe367b8",
   "metadata": {},
   "source": [
    "### 문자열 삽입 - join"
   ]
  },
  {
   "cell_type": "code",
   "execution_count": 111,
   "id": "08dec3eb-2ca1-48dc-91c4-704cb8d69ca5",
   "metadata": {},
   "outputs": [
    {
     "data": {
      "text/plain": [
       "'a,b,c,d'"
      ]
     },
     "execution_count": 111,
     "metadata": {},
     "output_type": "execute_result"
    }
   ],
   "source": [
    "\",\".join('abcd')"
   ]
  },
  {
   "cell_type": "code",
   "execution_count": 112,
   "id": "f5fc04b5-29ba-4adc-bc55-574d239b6b2c",
   "metadata": {},
   "outputs": [
    {
     "data": {
      "text/plain": [
       "'가.나.다'"
      ]
     },
     "execution_count": 112,
     "metadata": {},
     "output_type": "execute_result"
    }
   ],
   "source": [
    "\".\".join('가나다')"
   ]
  },
  {
   "cell_type": "markdown",
   "id": "ec708c04-02c8-46b2-9168-75c1bb7ba744",
   "metadata": {},
   "source": [
    "join 함수로 abcd 문자열의 각각의 문자 사이에 ‘,’를 삽입했다.\n",
    "\n",
    "join 함수는 문자열뿐만 아니라 앞으로 배울 리스트나 튜플도 입력으로 사용할 수 있다(리스트와 튜플은 곧 배울 내용이므로 여기에서는 잠시 눈으로만 살펴보자). join 함수의 입력으로 리스트를 사용하는 예는 다음과 같다."
   ]
  },
  {
   "cell_type": "code",
   "execution_count": 113,
   "id": "69d2cf2c-0119-4864-b847-5ab161b6999b",
   "metadata": {},
   "outputs": [
    {
     "data": {
      "text/plain": [
       "'a,b,c,d'"
      ]
     },
     "execution_count": 113,
     "metadata": {},
     "output_type": "execute_result"
    }
   ],
   "source": [
    "\",\".join(['a', 'b', 'c', 'd'])"
   ]
  },
  {
   "cell_type": "code",
   "execution_count": 114,
   "id": "1e563661-c72b-4e69-a96b-20ff6730c574",
   "metadata": {},
   "outputs": [
    {
     "data": {
      "text/plain": [
       "'가.나.다'"
      ]
     },
     "execution_count": 114,
     "metadata": {},
     "output_type": "execute_result"
    }
   ],
   "source": [
    "\".\".join(['가','나','다'])"
   ]
  },
  {
   "cell_type": "markdown",
   "id": "c5a66601-8e6b-4c3d-be08-180a828c22e5",
   "metadata": {},
   "source": [
    "### 소문자를 대문자로 바꾸기 - upper"
   ]
  },
  {
   "cell_type": "code",
   "execution_count": 115,
   "id": "c29b1d1b-a02c-4161-b8a5-3ff0a6a04fd7",
   "metadata": {},
   "outputs": [
    {
     "data": {
      "text/plain": [
       "'HI'"
      ]
     },
     "execution_count": 115,
     "metadata": {},
     "output_type": "execute_result"
    }
   ],
   "source": [
    "a = \"hi\"\n",
    "a.upper()"
   ]
  },
  {
   "cell_type": "markdown",
   "id": "af18a94c-74f2-4741-a9a4-531cae97bd8e",
   "metadata": {},
   "source": [
    "upper 함수는 소문자를 대문자로 바꾸어 준다. 만약 문자열이 이미 대문자라면 아무런 변화도 일어나지 않을 것이다."
   ]
  },
  {
   "cell_type": "markdown",
   "id": "cde720ba-12e4-4a2e-803d-dfcf3b06f953",
   "metadata": {},
   "source": [
    "### 대문자를 소문자로 바꾸기 - lower"
   ]
  },
  {
   "cell_type": "code",
   "execution_count": 116,
   "id": "41f49821-b05e-42a5-96e5-5bfae39a0164",
   "metadata": {},
   "outputs": [
    {
     "data": {
      "text/plain": [
       "'hi'"
      ]
     },
     "execution_count": 116,
     "metadata": {},
     "output_type": "execute_result"
    }
   ],
   "source": [
    "a = \"HI\"\n",
    "a.lower()"
   ]
  },
  {
   "cell_type": "markdown",
   "id": "bcd2b604-2f36-466a-a570-c291ff6f6efc",
   "metadata": {},
   "source": [
    "lower 함수는 대문자를 소문자로 바꾸어 준다."
   ]
  },
  {
   "cell_type": "markdown",
   "id": "03cfe378-8a5c-4e26-8b1d-f1408c11931c",
   "metadata": {},
   "source": [
    "### 왼쪽 공백 지우기 - lstrip"
   ]
  },
  {
   "cell_type": "code",
   "execution_count": 117,
   "id": "c2aa15c3-3ff5-47b2-a34f-6263e515b372",
   "metadata": {},
   "outputs": [
    {
     "data": {
      "text/plain": [
       "'hi '"
      ]
     },
     "execution_count": 117,
     "metadata": {},
     "output_type": "execute_result"
    }
   ],
   "source": [
    "a = \" hi \"\n",
    "a.lstrip()"
   ]
  },
  {
   "cell_type": "markdown",
   "id": "e461b0bd-fd44-4c54-b22f-9057bac54249",
   "metadata": {},
   "source": [
    "lstrip 함수는 문자열 중 가장 왼쪽에 있는 한 칸 이상의 연속된 공백들을 모두 지운다. lstrip에서 l은 left를 의미한다."
   ]
  },
  {
   "cell_type": "markdown",
   "id": "e6b82e9b-4f3b-47fd-bac1-7dfb5552b262",
   "metadata": {},
   "source": [
    "### 오른쪽 공백 지우기 - rstrip"
   ]
  },
  {
   "cell_type": "code",
   "execution_count": 118,
   "id": "b4bceb3c-7df6-4568-94fb-c9a5c3cfe101",
   "metadata": {},
   "outputs": [
    {
     "data": {
      "text/plain": [
       "' hi'"
      ]
     },
     "execution_count": 118,
     "metadata": {},
     "output_type": "execute_result"
    }
   ],
   "source": [
    "a= \" hi \"\n",
    "a.rstrip()"
   ]
  },
  {
   "cell_type": "markdown",
   "id": "e16a4b0b-a391-4fce-8326-a72a5116059a",
   "metadata": {},
   "source": [
    "rstrip 함수는 문자열 중 가장 오른쪽에 있는 한 칸 이상의 연속된 공백을 모두 지운다. rstrip에서 r은 right를 의미한다."
   ]
  },
  {
   "cell_type": "markdown",
   "id": "60102ca5-c449-424b-90e5-585b06c908c1",
   "metadata": {},
   "source": [
    "### 양쪽 공백 지우기 - strip"
   ]
  },
  {
   "cell_type": "code",
   "execution_count": 119,
   "id": "f614ed72-9b99-44f9-a753-6ad8f55ff7c2",
   "metadata": {},
   "outputs": [
    {
     "data": {
      "text/plain": [
       "'hi'"
      ]
     },
     "execution_count": 119,
     "metadata": {},
     "output_type": "execute_result"
    }
   ],
   "source": [
    "a = \" hi \"\n",
    "a.strip()"
   ]
  },
  {
   "cell_type": "markdown",
   "id": "867518c6-d354-4080-827b-9703e8726ef9",
   "metadata": {},
   "source": [
    "strip 함수는 문자열 양쪽에 있는 한 칸 이상의 연속된 공백을 모두 지운다."
   ]
  },
  {
   "cell_type": "markdown",
   "id": "cb7d6724-52a6-4155-ac4d-60c5489f148a",
   "metadata": {},
   "source": [
    "### 문자열 바꾸기 - replace"
   ]
  },
  {
   "cell_type": "code",
   "execution_count": 120,
   "id": "bbed96ae-9314-44f7-8d68-dea69626b5b1",
   "metadata": {},
   "outputs": [
    {
     "data": {
      "text/plain": [
       "'Your leg is too short'"
      ]
     },
     "execution_count": 120,
     "metadata": {},
     "output_type": "execute_result"
    }
   ],
   "source": [
    "a = \"Life is too short\"\n",
    "a.replace(\"Life\", \"Your leg\")"
   ]
  },
  {
   "cell_type": "code",
   "execution_count": 121,
   "id": "4a2c4a4f-acac-4de3-a22d-134dc622b3cb",
   "metadata": {},
   "outputs": [
    {
     "data": {
      "text/plain": [
       "'Life is too long'"
      ]
     },
     "execution_count": 121,
     "metadata": {},
     "output_type": "execute_result"
    }
   ],
   "source": [
    "a.replace(\"short\",\"long\")"
   ]
  },
  {
   "cell_type": "markdown",
   "id": "f40c11a4-7e03-4969-9ddd-e1ef938d7c31",
   "metadata": {},
   "source": [
    "replace 함수는 replace(바뀔_문자열, 바꿀_문자열)처럼 사용해서 문자열 안의 특정한 값을 다른 값으로 치환해 준다."
   ]
  },
  {
   "cell_type": "markdown",
   "id": "28cf8740-8f7e-441a-8371-54f3b2ee04bc",
   "metadata": {},
   "source": [
    "### 문자열 나누기 - split"
   ]
  },
  {
   "cell_type": "code",
   "execution_count": 122,
   "id": "62498388-fcee-4c0d-b1fb-6826ca0eae2b",
   "metadata": {},
   "outputs": [
    {
     "data": {
      "text/plain": [
       "['Life', 'is', 'too', 'short']"
      ]
     },
     "execution_count": 122,
     "metadata": {},
     "output_type": "execute_result"
    }
   ],
   "source": [
    "a = \"Life is too short\"\n",
    "a.split()"
   ]
  },
  {
   "cell_type": "code",
   "execution_count": 123,
   "id": "3be46102-aaad-4ec6-902b-fe7d7488bde3",
   "metadata": {},
   "outputs": [
    {
     "data": {
      "text/plain": [
       "['a', 'b', 'c', 'd']"
      ]
     },
     "execution_count": 123,
     "metadata": {},
     "output_type": "execute_result"
    }
   ],
   "source": [
    "b = \"a:b:c:d\"\n",
    "b.split(':')"
   ]
  },
  {
   "cell_type": "markdown",
   "id": "468bb25c-0251-41ff-a3e0-13de3ad3aa24",
   "metadata": {},
   "source": [
    "split 함수는 a.split()처럼 괄호 안에 아무 값도 넣어 주지 않으면 공백([Space]], [Tab], [Enter])을 기준으로 문자열을 나누어 준다. 만약 b.split(':')처럼 괄호 안에 특정 값이 있을 경우에는 괄호 안의 값을 구분자로 해서 문자열을 나누어 준다. 이렇게 나눈 값은 리스트에 하나씩 들어간다. ['Life', 'is', 'too', 'short']나 ['a', 'b', 'c', 'd']가 리스트인데, 02-3에서 자세히 알아볼 것이므로 여기에서는 너무 신경 쓰지 않아도 된다.\n",
    "\n",
    "앞에서 소개한 문자열 관련 함수는 문자열 처리에서 사용 빈도가 매우 높고 유용하다. 이 밖에도 몇 가지가 더 있지만 자주 사용하지는 않는다."
   ]
  },
  {
   "attachments": {
    "89ff9a07-1129-4a24-abd1-f8ecfb7b931b.JPG": {
     "image/jpeg": "[encoded data removed]"
    }
   },
   "cell_type": "markdown",
   "id": "99022fea-da9a-44e3-a17f-5a6b179c1eec",
   "metadata": {},
   "source": [
    "![2-2-5.JPG](attachment:89ff9a07-1129-4a24-abd1-f8ecfb7b931b.JPG)"
   ]
  },
  {
   "cell_type": "markdown",
   "id": "32c2bdaf",
   "metadata": {},
   "source": [
    "## **3. 리스트 자료형**"
   ]
  },
  {
   "cell_type": "markdown",
   "id": "77c012ed-5126-4ef4-b43c-782a4dba2488",
   "metadata": {},
   "source": [
    "### **리스트는 어떻게 만들고 사용할까?**"
   ]
  },
  {
   "cell_type": "markdown",
   "id": "1a6b9a3d-1700-4bbc-8771-af3b81f82f9c",
   "metadata": {},
   "source": [
    "리스트를 사용하면 1, 3, 5, 7, 9의 **숫자 모음**을 다음과 같이 간단하게 표현할 수 있다.  \n",
    "리스트를 만들 때는 대괄호([])로 감싸 주고 각 요솟값은 쉼표(,)로 구분해 준다."
   ]
  },
  {
   "cell_type": "code",
   "execution_count": 124,
   "id": "934c0f76-d292-42c1-ab9f-e19633f79051",
   "metadata": {},
   "outputs": [
    {
     "data": {
      "text/plain": [
       "[1, 3, 5, 7, 9]"
      ]
     },
     "execution_count": 124,
     "metadata": {},
     "output_type": "execute_result"
    }
   ],
   "source": [
    "odd = [1, 3, 5, 7, 9]\n",
    "odd"
   ]
  },
  {
   "cell_type": "markdown",
   "id": "c5cbc0bf-21ec-463a-ad9f-444e9a950771",
   "metadata": {},
   "source": [
    "여러 가지 리스트의 생김새는 다음과 같다."
   ]
  },
  {
   "cell_type": "code",
   "execution_count": 125,
   "id": "32f91d17-7c87-441a-8a1c-1a413cbd1a88",
   "metadata": {},
   "outputs": [],
   "source": [
    "a = []\n",
    "b = [1, 2, 3]\n",
    "c = ['Life', 'is', 'too', 'short']\n",
    "d = [1, 2, 'Life', 'is']\n",
    "e = [1, 2, ['Life', 'is']]"
   ]
  },
  {
   "cell_type": "markdown",
   "id": "2fd73d3b-0056-4af3-95fb-8f7178c19b71",
   "metadata": {},
   "source": [
    "비어 있는 리스트는 a = list()로 생성할 수 있다.\n",
    "\n",
    "리스트는 a처럼 아무것도 포함하지 않아 비어 있는 리스트([])일 수도 있고, b처럼 숫자를 요솟값으로 가질 수도 있으며, c처럼 문자열을 요솟값으로 가질 수도 있다. 또한 d처럼 숫자와 문자열을 함께 요솟값으로 가질 수도 있고, e처럼 리스트 자체를 요솟값으로 가질 수도 있다. 즉, 리스트 안에는 어떠한 자료형도 포함할 수 있다."
   ]
  },
  {
   "cell_type": "markdown",
   "id": "4eae3652-0e9b-46a3-9741-8b3ee1e99eee",
   "metadata": {},
   "source": [
    "### **리스트의 인덱싱과 슬라이싱**"
   ]
  },
  {
   "cell_type": "markdown",
   "id": "ab51fb5e-76da-4f63-b418-f7e292154626",
   "metadata": {},
   "source": [
    "리스트도 문자열처럼 인덱싱과 슬라이싱이 가능하다. 말로 설명하는 것보다 직접 예를 실행해 보면서 리스트의 기본 구조를 이해하는 것이 쉽다. 대화형 인터프리터로 따라 하면서 확실하게 이해하자."
   ]
  },
  {
   "cell_type": "markdown",
   "id": "39180eb7-982a-42bc-8c41-9c4e206eb2e2",
   "metadata": {},
   "source": [
    "**리스트의 인덱싱**  \n",
    "리스트 역시 문자열처럼 인덱싱을 적용할 수 있다. 먼저 a 변수에 [1, 2, 3] 값을 설정한다."
   ]
  },
  {
   "cell_type": "code",
   "execution_count": 126,
   "id": "8df112fb-8e44-4542-b566-8babbac86846",
   "metadata": {},
   "outputs": [
    {
     "data": {
      "text/plain": [
       "[1, 2, 3]"
      ]
     },
     "execution_count": 126,
     "metadata": {},
     "output_type": "execute_result"
    }
   ],
   "source": [
    "a = [1, 2, 3]\n",
    "a"
   ]
  },
  {
   "cell_type": "markdown",
   "id": "a28a7a5a-318f-432b-ace7-aa1dfda71d17",
   "metadata": {},
   "source": [
    "a[0]은 리스트 a의 첫 번째 요솟값을 말한다."
   ]
  },
  {
   "cell_type": "code",
   "execution_count": 127,
   "id": "0b8a1619-f385-4c73-a321-0f2910228010",
   "metadata": {},
   "outputs": [
    {
     "data": {
      "text/plain": [
       "1"
      ]
     },
     "execution_count": 127,
     "metadata": {},
     "output_type": "execute_result"
    }
   ],
   "source": [
    "a[0]"
   ]
  },
  {
   "cell_type": "markdown",
   "id": "1546785d-eccc-47e8-9c43-1b91b4d3818e",
   "metadata": {},
   "source": [
    "다음 예는 리스트의 첫 번째 요소인 a[0]과 세 번째 요소인 a[2]의 값을 더한 것이다.  \n",
    "이것은 1 + 3으로 해석되어 값 4를 출력한다."
   ]
  },
  {
   "cell_type": "code",
   "execution_count": 128,
   "id": "c9c6f25e-b62a-4ba9-b87a-2daf61192629",
   "metadata": {},
   "outputs": [
    {
     "data": {
      "text/plain": [
       "4"
      ]
     },
     "execution_count": 128,
     "metadata": {},
     "output_type": "execute_result"
    }
   ],
   "source": [
    "a[0] + a[2]"
   ]
  },
  {
   "cell_type": "markdown",
   "id": "0852590f-62aa-4f16-aba8-18e8d0ddd824",
   "metadata": {},
   "source": [
    "문자열을 공부할 때 이미 살펴보았지만, 파이썬은 숫자를 0부터 세기 때문에 a[1]이 리스트 a의 첫 번째 요소가 아니라 a[0]이 리스트 a의 첫 번째 요소라는 것을 명심하자. a[-1]은 문자열에서와 마찬가지로 리스트 a의 마지막 요솟값을 말한다."
   ]
  },
  {
   "cell_type": "code",
   "execution_count": 129,
   "id": "b91d9f47-815b-426c-a7a5-bee2f984cb1b",
   "metadata": {},
   "outputs": [
    {
     "data": {
      "text/plain": [
       "3"
      ]
     },
     "execution_count": 129,
     "metadata": {},
     "output_type": "execute_result"
    }
   ],
   "source": [
    "a[-1]"
   ]
  },
  {
   "cell_type": "markdown",
   "id": "0268a5d8-5d32-480d-9b9c-09b9eaab0b9b",
   "metadata": {},
   "source": [
    "이번에는 다음 예처럼 리스트 a를 숫자 1, 2, 3과 또 다른 리스트인 ['a', 'b', 'c']를 포함하도록 만들어 보자."
   ]
  },
  {
   "cell_type": "code",
   "execution_count": 130,
   "id": "8085ae5d-d297-45eb-aef3-56f69404b8d1",
   "metadata": {},
   "outputs": [
    {
     "data": {
      "text/plain": [
       "1"
      ]
     },
     "execution_count": 130,
     "metadata": {},
     "output_type": "execute_result"
    }
   ],
   "source": [
    "a = [1, 2, 3, ['a', 'b', 'c']]\n",
    "a[0]"
   ]
  },
  {
   "cell_type": "code",
   "execution_count": 131,
   "id": "c0dca9c8-65c3-4a58-ba40-51d1325c3355",
   "metadata": {},
   "outputs": [
    {
     "data": {
      "text/plain": [
       "['a', 'b', 'c']"
      ]
     },
     "execution_count": 131,
     "metadata": {},
     "output_type": "execute_result"
    }
   ],
   "source": [
    "a[-1]"
   ]
  },
  {
   "cell_type": "code",
   "execution_count": 132,
   "id": "9446d025-8c50-4c43-8b1b-c0a2910fc8c6",
   "metadata": {},
   "outputs": [
    {
     "data": {
      "text/plain": [
       "['a', 'b', 'c']"
      ]
     },
     "execution_count": 132,
     "metadata": {},
     "output_type": "execute_result"
    }
   ],
   "source": [
    "a[3]"
   ]
  },
  {
   "cell_type": "markdown",
   "id": "479b20bc-251d-4acb-9ed3-ffef7a57b423",
   "metadata": {},
   "source": [
    "예상한 대로 a[-1]은 마지막 요솟값 ['a', 'b', 'c']를 나타낸다. a[3]은 리스트 a의 네 번째 요소를 나타내기 때문에 마지막 요소를 나타내는 a[-1]과 동일한 결괏값을 보여 준다.\r\n",
    "\r\n",
    "그렇다면 리스트 a에 포함된 ['a', 'b', 'c'] 리스트에서 'a' 값을 인덱싱을 사용해 끄집어 낼 수 있는 방법은 없을까? 다음 예를 살펴보자."
   ]
  },
  {
   "cell_type": "code",
   "execution_count": 133,
   "id": "acde44a2-eb67-4bf8-9471-fbcaaeebb509",
   "metadata": {},
   "outputs": [
    {
     "data": {
      "text/plain": [
       "'a'"
      ]
     },
     "execution_count": 133,
     "metadata": {},
     "output_type": "execute_result"
    }
   ],
   "source": [
    "a[-1][0]"
   ]
  },
  {
   "cell_type": "markdown",
   "id": "fe0d287a-8b2c-4e5f-a138-5a7304625fb3",
   "metadata": {},
   "source": [
    "위와 같이 하면 'a'를 끄집어 낼 수 있다. a[-1]이 ['a', 'b', 'c'] 리스트라는 것은 이미 설명했다. 바로 이 리스트에서 첫 번째 요소를 불러오기 위해 [0]을 붙여 준 것이다.다."
   ]
  },
  {
   "cell_type": "markdown",
   "id": "cf4c8b42-ca46-4a4c-ab07-4198a6d1c5c5",
   "metadata": {},
   "source": [
    "**리스트의 슬라이싱**  \n",
    "문자열과 마찬가지로 리스트에서도 슬라이싱 기법을 적용할 수 있다. 슬라이싱은 ‘잘라 낸다’라는 뜻이라고 했다. 리스트의 슬라이싱에 대해서 살펴보자."
   ]
  },
  {
   "cell_type": "code",
   "execution_count": 134,
   "id": "90b340c3-36a7-4867-8b68-5ec27f1f4b69",
   "metadata": {},
   "outputs": [
    {
     "data": {
      "text/plain": [
       "[1, 2]"
      ]
     },
     "execution_count": 134,
     "metadata": {},
     "output_type": "execute_result"
    }
   ],
   "source": [
    "a = [1, 2, 3, 4, 5]\n",
    "a[0:2]"
   ]
  },
  {
   "cell_type": "code",
   "execution_count": 135,
   "id": "88643b83-9fc1-48b3-a7ee-996ba15c6093",
   "metadata": {},
   "outputs": [
    {
     "data": {
      "text/plain": [
       "[1, 2]"
      ]
     },
     "execution_count": 135,
     "metadata": {},
     "output_type": "execute_result"
    }
   ],
   "source": [
    "a = [1, 2, 3, 4, 5]\n",
    "b = a[:2]\n",
    "c = a[2:]\n",
    "b"
   ]
  },
  {
   "cell_type": "code",
   "execution_count": 136,
   "id": "0974b2d9-fdaf-4fd1-a3a1-fc6838bd10e9",
   "metadata": {},
   "outputs": [
    {
     "data": {
      "text/plain": [
       "[3, 4, 5]"
      ]
     },
     "execution_count": 136,
     "metadata": {},
     "output_type": "execute_result"
    }
   ],
   "source": [
    "c"
   ]
  },
  {
   "cell_type": "markdown",
   "id": "d6b9e80b-bbed-484e-9b8c-d3ae37a894c6",
   "metadata": {},
   "source": [
    "### **리스트 연산하기**"
   ]
  },
  {
   "cell_type": "markdown",
   "id": "41bc28f2-58d3-4849-b923-95502b4fd3bf",
   "metadata": {},
   "source": [
    "리스트 역시 +를 사용해서 더할 수 있고 *를 사용해서 반복할 수 있다. 문자열과 마찬가지로 리스트에서도 되는지 직접 확인해 보자."
   ]
  },
  {
   "cell_type": "markdown",
   "id": "9041f324-dca5-4496-8e0b-a84cb96bb018",
   "metadata": {},
   "source": [
    "**리스트 더하기(+)**"
   ]
  },
  {
   "cell_type": "code",
   "execution_count": 137,
   "id": "8141a643-88e2-4f9b-989b-c0bf079e44fd",
   "metadata": {},
   "outputs": [
    {
     "data": {
      "text/plain": [
       "[1, 2, 3, 4, 5, 6]"
      ]
     },
     "execution_count": 137,
     "metadata": {},
     "output_type": "execute_result"
    }
   ],
   "source": [
    "a = [1, 2, 3]\n",
    "b = [4, 5, 6]\n",
    "a + b"
   ]
  },
  {
   "cell_type": "markdown",
   "id": "a821013a-c634-4c24-85a8-970d27ffa683",
   "metadata": {},
   "source": [
    "**리스트 반복하기(*)**"
   ]
  },
  {
   "cell_type": "code",
   "execution_count": 138,
   "id": "897f2bdf-af19-42d0-863b-ddee58ba1515",
   "metadata": {},
   "outputs": [
    {
     "data": {
      "text/plain": [
       "[1, 2, 3, 1, 2, 3, 1, 2, 3]"
      ]
     },
     "execution_count": 138,
     "metadata": {},
     "output_type": "execute_result"
    }
   ],
   "source": [
    "a = [1, 2, 3]\n",
    "a * 3"
   ]
  },
  {
   "cell_type": "markdown",
   "id": "43dd6a5c-b2fa-42d6-9064-65b3b66a84b1",
   "metadata": {},
   "source": [
    "**리스트 길이 구하기**"
   ]
  },
  {
   "cell_type": "code",
   "execution_count": 139,
   "id": "57a8b1d3-d9fd-45be-a4a5-1c586dcf74de",
   "metadata": {},
   "outputs": [
    {
     "data": {
      "text/plain": [
       "3"
      ]
     },
     "execution_count": 139,
     "metadata": {},
     "output_type": "execute_result"
    }
   ],
   "source": [
    "a = [1, 2, 3]\n",
    "len(a)"
   ]
  },
  {
   "cell_type": "markdown",
   "id": "2bae5c54-93d8-49cb-9a3c-b3a17f38e235",
   "metadata": {},
   "source": [
    "### **리스트의 수정과 삭제**"
   ]
  },
  {
   "cell_type": "markdown",
   "id": "91e42601-f043-4ccc-9924-7e29293474b9",
   "metadata": {},
   "source": [
    "**리스트의 값 수정하기**"
   ]
  },
  {
   "cell_type": "code",
   "execution_count": 140,
   "id": "7da47860-62c2-48d3-a1e8-f4333f8203de",
   "metadata": {},
   "outputs": [
    {
     "data": {
      "text/plain": [
       "[1, 2, 4]"
      ]
     },
     "execution_count": 140,
     "metadata": {},
     "output_type": "execute_result"
    }
   ],
   "source": [
    "a = [1, 2, 3]\n",
    "a[2] = 4\n",
    "a"
   ]
  },
  {
   "cell_type": "markdown",
   "id": "ae2ac103-1d88-46d3-b752-f0595d3a4022",
   "metadata": {},
   "source": [
    "**del 함수를 사용해 리스트 요소 삭제하기**"
   ]
  },
  {
   "cell_type": "code",
   "execution_count": 141,
   "id": "a6077d45-1e9a-4f9a-8a5c-f2a244577401",
   "metadata": {},
   "outputs": [
    {
     "data": {
      "text/plain": [
       "[1, 3]"
      ]
     },
     "execution_count": 141,
     "metadata": {},
     "output_type": "execute_result"
    }
   ],
   "source": [
    "a = [1, 2, 3]\n",
    "del a[1]\n",
    "a"
   ]
  },
  {
   "cell_type": "markdown",
   "id": "b2555f6b-e945-440f-b14e-e7d3ffd79ae6",
   "metadata": {},
   "source": [
    "다음처럼 슬라이싱 기법을 사용하여 리스트의 요소 여러 개를 한꺼번에 삭제할 수도 있다."
   ]
  },
  {
   "cell_type": "code",
   "execution_count": 142,
   "id": "b6be4382-4de2-4ba8-a461-cd7d51b37732",
   "metadata": {},
   "outputs": [
    {
     "data": {
      "text/plain": [
       "[1, 2]"
      ]
     },
     "execution_count": 142,
     "metadata": {},
     "output_type": "execute_result"
    }
   ],
   "source": [
    "a = [1, 2, 3, 4, 5]\n",
    "del a[2:]\n",
    "a"
   ]
  },
  {
   "cell_type": "markdown",
   "id": "4db568e8-0666-400b-b21d-1af25cf87f37",
   "metadata": {},
   "source": [
    "### **리스트 관련 함수**"
   ]
  },
  {
   "cell_type": "markdown",
   "id": "82e9a37b-b528-4ed3-b887-21b1e0f4b1a9",
   "metadata": {},
   "source": [
    "**리스트에 요소 추가하기 - append**  \n",
    "append의 사전적 의미는 ‘덧붙이다, 첨부하다’이다. 이 뜻을 안다면 다음 예가 바로 이해될 것이다. append(x)는 리스트의 맨 마지막에 x를 추가하는 함수이다."
   ]
  },
  {
   "cell_type": "code",
   "execution_count": 143,
   "id": "31903930-1a21-4422-8fac-701248c94bcd",
   "metadata": {},
   "outputs": [
    {
     "data": {
      "text/plain": [
       "[1, 2, 3, 4]"
      ]
     },
     "execution_count": 143,
     "metadata": {},
     "output_type": "execute_result"
    }
   ],
   "source": [
    "a = [1, 2, 3]\n",
    "a.append(4)\n",
    "a"
   ]
  },
  {
   "cell_type": "markdown",
   "id": "be5cd092-e415-4287-a7d4-f9f7c90bdaf0",
   "metadata": {},
   "source": [
    "리스트 안에는 어떤 자료형도 추가할 수 있다. 다음 예는 리스트에 다시 리스트를 추가한 결과이다."
   ]
  },
  {
   "cell_type": "code",
   "execution_count": 144,
   "id": "c609b5f1-476d-43a3-b461-fd2a7e2c948b",
   "metadata": {},
   "outputs": [
    {
     "data": {
      "text/plain": [
       "[1, 2, 3, 4, [5, 6]]"
      ]
     },
     "execution_count": 144,
     "metadata": {},
     "output_type": "execute_result"
    }
   ],
   "source": [
    "a.append([5, 6])\n",
    "a"
   ]
  },
  {
   "cell_type": "markdown",
   "id": "6e382091-9a1e-42ec-ae00-4bae9ac731d4",
   "metadata": {},
   "source": [
    "**리스트 정렬 - sort**  \n",
    "sort 함수는 리스트의 요소를 순서대로 정렬해 준다."
   ]
  },
  {
   "cell_type": "code",
   "execution_count": 145,
   "id": "500a1946-f4dc-4eb7-abb1-1f4515b4fba8",
   "metadata": {},
   "outputs": [
    {
     "data": {
      "text/plain": [
       "[1, 2, 3, 4]"
      ]
     },
     "execution_count": 145,
     "metadata": {},
     "output_type": "execute_result"
    }
   ],
   "source": [
    "a = [1, 4, 3, 2]\n",
    "a.sort()\n",
    "a"
   ]
  },
  {
   "cell_type": "code",
   "execution_count": 146,
   "id": "3cef1e27-18da-4ab0-a394-27c895d95d2b",
   "metadata": {},
   "outputs": [
    {
     "data": {
      "text/plain": [
       "['a', 'b', 'c']"
      ]
     },
     "execution_count": 146,
     "metadata": {},
     "output_type": "execute_result"
    }
   ],
   "source": [
    "a = ['a', 'c', 'b']\n",
    "a.sort()\n",
    "a"
   ]
  },
  {
   "cell_type": "markdown",
   "id": "8982f8f9-a086-42f8-9e91-2f53dc8afac4",
   "metadata": {},
   "source": [
    "**리스트 뒤집기 - reverse**  \r\n",
    "reverse 함수는 리스트를 역순으로 뒤집어 준다. 이때 리스트 요소들을 순서대로 정렬한 다음 다시 역순으로 정렬하는 것이 아니라 현재의 리스트를 그대로 거꾸로 뒤집는다."
   ]
  },
  {
   "cell_type": "code",
   "execution_count": 147,
   "id": "a8fd3ca6-1ead-4ad5-946b-0ad8aa64ef54",
   "metadata": {},
   "outputs": [
    {
     "data": {
      "text/plain": [
       "['b', 'c', 'a']"
      ]
     },
     "execution_count": 147,
     "metadata": {},
     "output_type": "execute_result"
    }
   ],
   "source": [
    "a = ['a', 'c', 'b']\n",
    "a.reverse()\n",
    "a"
   ]
  },
  {
   "cell_type": "markdown",
   "id": "0cee690c-4968-448f-93b5-5071e603844b",
   "metadata": {},
   "source": [
    "**인덱스 반환 - index**  \r\n",
    "index(x) 함수는 리스트에 x 값이 있으면 x의 인덱스 값(위칫값)을 리턴한다."
   ]
  },
  {
   "cell_type": "code",
   "execution_count": 148,
   "id": "1747fe3f-ee2a-4011-b18c-8ca55877a491",
   "metadata": {},
   "outputs": [
    {
     "data": {
      "text/plain": [
       "2"
      ]
     },
     "execution_count": 148,
     "metadata": {},
     "output_type": "execute_result"
    }
   ],
   "source": [
    "a = [1, 2, 3]\n",
    "a.index(3)"
   ]
  },
  {
   "cell_type": "code",
   "execution_count": 149,
   "id": "b449e511-4078-4b7f-80b9-760db15a76b8",
   "metadata": {},
   "outputs": [
    {
     "data": {
      "text/plain": [
       "0"
      ]
     },
     "execution_count": 149,
     "metadata": {},
     "output_type": "execute_result"
    }
   ],
   "source": [
    "a.index(1)"
   ]
  },
  {
   "cell_type": "markdown",
   "id": "85f23a4e-7be0-4bef-80a8-6f2b8848a21b",
   "metadata": {},
   "source": [
    "**리스트에 요소 삽입 - insert**  \r\n",
    "insert(a, b)는 리스트의 a번째 위치에 b를 삽입하는 함수이다. 파이썬은 숫자를 0부터 센다는 것을 반드시 기억하자."
   ]
  },
  {
   "cell_type": "code",
   "execution_count": 150,
   "id": "5cc486ab-6d3d-4e8a-baf8-ee7efddd2227",
   "metadata": {},
   "outputs": [
    {
     "data": {
      "text/plain": [
       "[4, 1, 2, 3]"
      ]
     },
     "execution_count": 150,
     "metadata": {},
     "output_type": "execute_result"
    }
   ],
   "source": [
    "a = [1, 2, 3]\n",
    "a.insert(0, 4)\n",
    "a"
   ]
  },
  {
   "cell_type": "markdown",
   "id": "61dc85e7-7a06-48c1-9ab9-ac7030cc94ec",
   "metadata": {},
   "source": [
    "**리스트 요소 제거 - remove**  \n",
    "remove(x)는 리스트에서 첫 번째로 나오는 x를 삭제하는 함수이다."
   ]
  },
  {
   "cell_type": "code",
   "execution_count": 151,
   "id": "e0827536-3b0a-4d6d-8f10-247ef8bd79b9",
   "metadata": {},
   "outputs": [
    {
     "data": {
      "text/plain": [
       "[1, 2, 1, 2, 3]"
      ]
     },
     "execution_count": 151,
     "metadata": {},
     "output_type": "execute_result"
    }
   ],
   "source": [
    "a = [1, 2, 3, 1, 2, 3]\n",
    "a.remove(3)\n",
    "a"
   ]
  },
  {
   "cell_type": "markdown",
   "id": "cae818cc-6224-4891-85d5-1d9b7bd6de3d",
   "metadata": {},
   "source": [
    "**리스트 요소 끄집어 내기 - pop**  \n",
    "pop()은 리스트의 맨 마지막 요소를 리턴하고 그 요소는 삭제한다."
   ]
  },
  {
   "cell_type": "code",
   "execution_count": 152,
   "id": "1a3fb132-55a0-40fa-87a7-5bca7a4031e6",
   "metadata": {},
   "outputs": [
    {
     "data": {
      "text/plain": [
       "3"
      ]
     },
     "execution_count": 152,
     "metadata": {},
     "output_type": "execute_result"
    }
   ],
   "source": [
    "a = [1, 2, 3]\n",
    "a.pop()"
   ]
  },
  {
   "cell_type": "code",
   "execution_count": 153,
   "id": "964c580f-6f84-4b49-a1de-8fee251e4af5",
   "metadata": {},
   "outputs": [
    {
     "data": {
      "text/plain": [
       "[1, 2]"
      ]
     },
     "execution_count": 153,
     "metadata": {},
     "output_type": "execute_result"
    }
   ],
   "source": [
    "a"
   ]
  },
  {
   "cell_type": "markdown",
   "id": "1a8774d5-5cb1-460e-b6b3-dce540dbedf3",
   "metadata": {},
   "source": [
    "pop(x)는 리스트의 x번째 요소를 리턴하고 그 요소는 삭제한다."
   ]
  },
  {
   "cell_type": "code",
   "execution_count": 154,
   "id": "422f1fc1-aaa4-4066-a5b9-76b1e66cfd1d",
   "metadata": {},
   "outputs": [
    {
     "data": {
      "text/plain": [
       "2"
      ]
     },
     "execution_count": 154,
     "metadata": {},
     "output_type": "execute_result"
    }
   ],
   "source": [
    "a = [1, 2, 3]\n",
    "a.pop(1)"
   ]
  },
  {
   "cell_type": "code",
   "execution_count": 155,
   "id": "87b94453-a7ed-47eb-9930-b67bbad157c0",
   "metadata": {},
   "outputs": [
    {
     "data": {
      "text/plain": [
       "[1, 3]"
      ]
     },
     "execution_count": 155,
     "metadata": {},
     "output_type": "execute_result"
    }
   ],
   "source": [
    "a"
   ]
  },
  {
   "cell_type": "markdown",
   "id": "41e35426-9152-46aa-b9e8-dd4d8bae7523",
   "metadata": {},
   "source": [
    "**리스트에 포함된 요소 x의 개수 세기 - count**  \r\n",
    "count(x)는 리스트 안에 x가 몇 개 있는지 조사하여 그 개수를 리턴하는 함수이다."
   ]
  },
  {
   "cell_type": "code",
   "execution_count": 156,
   "id": "0115b7c8-4cbc-433c-9452-48d9440d3342",
   "metadata": {},
   "outputs": [
    {
     "data": {
      "text/plain": [
       "2"
      ]
     },
     "execution_count": 156,
     "metadata": {},
     "output_type": "execute_result"
    }
   ],
   "source": [
    "a = [1, 2, 3, 1]\n",
    "a.count(1)"
   ]
  },
  {
   "cell_type": "markdown",
   "id": "e9790b1b-4a16-43e8-967a-6d67888ccad6",
   "metadata": {},
   "source": [
    "**리스트 확장 - extend**  \r\n",
    "extend(x)에서 x에는 리스트만 올 수 있으며 원래의 a 리스트에 x 리스트를 더하게 된다."
   ]
  },
  {
   "cell_type": "code",
   "execution_count": 157,
   "id": "e15ea5aa-acb4-43bc-9937-549308a57b23",
   "metadata": {},
   "outputs": [
    {
     "data": {
      "text/plain": [
       "[1, 2, 3, 4, 5]"
      ]
     },
     "execution_count": 157,
     "metadata": {},
     "output_type": "execute_result"
    }
   ],
   "source": [
    "a = [1, 2, 3]\n",
    "a.extend([4, 5])\n",
    "a"
   ]
  },
  {
   "cell_type": "code",
   "execution_count": 158,
   "id": "ab35dbe3-09c4-4ecb-8613-4297314984e1",
   "metadata": {},
   "outputs": [
    {
     "data": {
      "text/plain": [
       "[1, 2, 3, 4, 5, 6, 7]"
      ]
     },
     "execution_count": 158,
     "metadata": {},
     "output_type": "execute_result"
    }
   ],
   "source": [
    "b = [6, 7]\n",
    "a.extend(b)\n",
    "a"
   ]
  },
  {
   "cell_type": "markdown",
   "id": "8840e6b4",
   "metadata": {},
   "source": [
    "## **4. 튜플 자료형**"
   ]
  },
  {
   "cell_type": "markdown",
   "id": "90c56e86-0161-4a07-a980-41f7e73610d9",
   "metadata": {},
   "source": [
    "튜플(tuple)은 몇 가지 점을 제외하곤 리스트와 거의 비슷하며 리스트와 다른 점은 다음과 같다.  \n",
    "- 리스트는 [], 튜플은 ()으로 둘러싼다.\n",
    "- 리스트는 요솟값의 생성, 삭제, 수정이 가능하지만, 튜플은 요솟값을 바꿀 수 없다."
   ]
  },
  {
   "cell_type": "code",
   "execution_count": 159,
   "id": "4660a85f-437a-456d-a9c2-051da938255f",
   "metadata": {},
   "outputs": [],
   "source": [
    "t1 = ()\n",
    "t2 = (1,)\n",
    "t3 = (1, 2, 3)\n",
    "t4 = 1, 2, 3\n",
    "t5 = ('a', 'b', ('ab', 'cd'))"
   ]
  },
  {
   "cell_type": "markdown",
   "id": "806a8a5b-cf43-47ec-902e-38f0e46f7f34",
   "metadata": {},
   "source": [
    "모습은 리스트와 거의 비슷하지만, 튜플에서는 리스트와 다른 2가지 차이점을 찾아볼 수 있다. t2 = (1,)처럼 단지 **1개의 요소만을 가질 때는 요소 뒤에 쉼표(,)를 반드시 붙여야 한다**는 것과 t4 = 1, 2, 3처럼 소괄호(())를 생략해도 된다는 점이다.\r\n",
    "\r\n",
    "얼핏 보면 튜플과 리스트는 비슷한 역할을 하지만, 프로그래밍을 할 때 튜플과 리스트는 구별해서 사용하는 것이 유리하다. 튜플과 리스트의 가장 큰 차이는 요솟값을 변화시킬 수 있는지의 여부이다. 즉, 리스트의 요솟값은 변화가 가능하고 튜플의 요솟값은 변화가 불가능하다. 따라서 프로그램이 실행되는 동안 요솟값이 항상 변하지 않기를 바란다거나 값이 바뀔까 걱정하고 싶지 않다면 주저하지 말고 튜플을 사용해야 한다. 이와 반대로 수시로 그 값을 변화시켜야할 경우라면 리스트를 사용해야 한다. 실제 프로그램에서는 값이 변경되는 형태의 변수가 훨씬 많기 때문에 평균적으로 튜플보다 리스트를 더 많이 사용한다."
   ]
  },
  {
   "cell_type": "code",
   "execution_count": 160,
   "id": "82f8f8b9-66ef-46f8-929d-11157ec1c259",
   "metadata": {},
   "outputs": [
    {
     "ename": "TypeError",
     "evalue": "'tuple' object doesn't support item deletion",
     "output_type": "error",
     "traceback": [
      "\u001b[0;31m---------------------------------------------------------------------------\u001b[0m",
      "\u001b[0;31mTypeError\u001b[0m                                 Traceback (most recent call last)",
      "Cell \u001b[0;32mIn[160], line 2\u001b[0m\n\u001b[1;32m      1\u001b[0m t1 \u001b[38;5;241m=\u001b[39m (\u001b[38;5;241m1\u001b[39m, \u001b[38;5;241m2\u001b[39m, \u001b[38;5;124m'\u001b[39m\u001b[38;5;124ma\u001b[39m\u001b[38;5;124m'\u001b[39m, \u001b[38;5;124m'\u001b[39m\u001b[38;5;124mb\u001b[39m\u001b[38;5;124m'\u001b[39m)\n\u001b[0;32m----> 2\u001b[0m \u001b[38;5;28;01mdel\u001b[39;00m t1[\u001b[38;5;241m0\u001b[39m]\n",
      "\u001b[0;31mTypeError\u001b[0m: 'tuple' object doesn't support item deletion"
     ]
    }
   ],
   "source": [
    "t1 = (1, 2, 'a', 'b')\n",
    "del t1[0]"
   ]
  },
  {
   "cell_type": "code",
   "execution_count": 161,
   "id": "f990794d-8e26-4d72-9dd6-7d877e9e8f28",
   "metadata": {
    "scrolled": true
   },
   "outputs": [
    {
     "ename": "TypeError",
     "evalue": "'tuple' object does not support item assignment",
     "output_type": "error",
     "traceback": [
      "\u001b[0;31m---------------------------------------------------------------------------\u001b[0m",
      "\u001b[0;31mTypeError\u001b[0m                                 Traceback (most recent call last)",
      "Cell \u001b[0;32mIn[161], line 2\u001b[0m\n\u001b[1;32m      1\u001b[0m t1 \u001b[38;5;241m=\u001b[39m (\u001b[38;5;241m1\u001b[39m, \u001b[38;5;241m2\u001b[39m, \u001b[38;5;124m'\u001b[39m\u001b[38;5;124ma\u001b[39m\u001b[38;5;124m'\u001b[39m, \u001b[38;5;124m'\u001b[39m\u001b[38;5;124mb\u001b[39m\u001b[38;5;124m'\u001b[39m)\n\u001b[0;32m----> 2\u001b[0m \u001b[43mt1\u001b[49m\u001b[43m[\u001b[49m\u001b[38;5;241;43m0\u001b[39;49m\u001b[43m]\u001b[49m \u001b[38;5;241m=\u001b[39m \u001b[38;5;124m'\u001b[39m\u001b[38;5;124mc\u001b[39m\u001b[38;5;124m'\u001b[39m\n",
      "\u001b[0;31mTypeError\u001b[0m: 'tuple' object does not support item assignment"
     ]
    }
   ],
   "source": [
    "t1 = (1, 2, 'a', 'b')\n",
    "t1[0] = 'c'"
   ]
  },
  {
   "cell_type": "markdown",
   "id": "fb2645ea-ad90-420a-923e-8c0ca5d33116",
   "metadata": {},
   "source": [
    "**인덱싱하기**"
   ]
  },
  {
   "cell_type": "code",
   "execution_count": 162,
   "id": "9300ef3b-cbdc-4ba3-bebb-232c8711a3ba",
   "metadata": {},
   "outputs": [
    {
     "data": {
      "text/plain": [
       "1"
      ]
     },
     "execution_count": 162,
     "metadata": {},
     "output_type": "execute_result"
    }
   ],
   "source": [
    "t1 = (1, 2, 'a', 'b')\n",
    "t1[0]"
   ]
  },
  {
   "cell_type": "code",
   "execution_count": 163,
   "id": "cd9c2fe9-79e9-4336-9979-6eea28e63bb3",
   "metadata": {},
   "outputs": [
    {
     "data": {
      "text/plain": [
       "'b'"
      ]
     },
     "execution_count": 163,
     "metadata": {},
     "output_type": "execute_result"
    }
   ],
   "source": [
    "t1[3]"
   ]
  },
  {
   "cell_type": "markdown",
   "id": "7f2a1c09-b85e-4bc6-9810-989bca879feb",
   "metadata": {},
   "source": [
    "**슬라이싱하기**"
   ]
  },
  {
   "cell_type": "code",
   "execution_count": 164,
   "id": "29fae125-0881-4f7c-ae78-3e948ff52f9d",
   "metadata": {},
   "outputs": [
    {
     "data": {
      "text/plain": [
       "(2, 'a', 'b')"
      ]
     },
     "execution_count": 164,
     "metadata": {},
     "output_type": "execute_result"
    }
   ],
   "source": [
    "t1 = (1, 2, 'a', 'b')\n",
    "t1[1:]"
   ]
  },
  {
   "cell_type": "markdown",
   "id": "1d9ed174-a2cb-408d-aabb-72c47c0bf42f",
   "metadata": {},
   "source": [
    "**튜플 더하기**"
   ]
  },
  {
   "cell_type": "code",
   "execution_count": 165,
   "id": "978e1bb4-5540-44ab-a979-497efac19d7d",
   "metadata": {},
   "outputs": [
    {
     "data": {
      "text/plain": [
       "(1, 2, 'a', 'b', 3, 4)"
      ]
     },
     "execution_count": 165,
     "metadata": {},
     "output_type": "execute_result"
    }
   ],
   "source": [
    "t1 = (1, 2, 'a', 'b')\n",
    "t2 = (3, 4)\n",
    "t3 = t1 + t2\n",
    "t3"
   ]
  },
  {
   "cell_type": "markdown",
   "id": "4fcc4810-e1f8-43b2-a441-16bd6de6d4ea",
   "metadata": {},
   "source": [
    "**튜플 곱하기**"
   ]
  },
  {
   "cell_type": "code",
   "execution_count": 166,
   "id": "7d5a19e9-978c-46dc-9238-c8ec469472df",
   "metadata": {},
   "outputs": [
    {
     "data": {
      "text/plain": [
       "(3, 4, 3, 4, 3, 4)"
      ]
     },
     "execution_count": 166,
     "metadata": {},
     "output_type": "execute_result"
    }
   ],
   "source": [
    "t2 = (3, 4)\n",
    "t3 = t2 * 3\n",
    "t3"
   ]
  },
  {
   "cell_type": "markdown",
   "id": "446c7fcf-b86e-4166-86a5-077d070bf640",
   "metadata": {},
   "source": [
    "**튜플 길이 구하기**"
   ]
  },
  {
   "cell_type": "code",
   "execution_count": 167,
   "id": "e0d2b27b-9381-4d31-876c-8d04e2a5e060",
   "metadata": {},
   "outputs": [
    {
     "data": {
      "text/plain": [
       "4"
      ]
     },
     "execution_count": 167,
     "metadata": {},
     "output_type": "execute_result"
    }
   ],
   "source": [
    "t1 = (1, 2, 'a', 'b')\n",
    "len(t1)"
   ]
  },
  {
   "cell_type": "markdown",
   "id": "1d1ca930",
   "metadata": {},
   "source": [
    "## **5. 딕셔너리 자료형**"
   ]
  },
  {
   "cell_type": "markdown",
   "id": "3d2ed73a-aa09-4b66-81ac-3e539ae9dfe1",
   "metadata": {},
   "source": [
    "사람은 누구든지 \"이름\" = \"홍길동\", \"생일\" = \"몇 월 며칠\" 등과 같은 방식으로 그 사람이 가진 정보를 나타낼 수 있다. 파이썬은 영리하게도 이러한 대응 관계를 나타낼 수 있는 딕셔너리(dictionary) 자료형을 가지고 있다. 이번에는 이 자료형에 대해 알아보자."
   ]
  },
  {
   "cell_type": "markdown",
   "id": "67f14097-d10b-4573-80bb-1e9b3537139d",
   "metadata": {},
   "source": [
    "**딕셔너리란?**  \n",
    "딕셔너리는 단어 그대로 ‘사전’이라는 뜻이다. 즉 \"people\"이라는 단어에 \"사람\", \"baseball\"이라는 단어에 \"야구\"라는 뜻이 부합되듯이 딕셔너리는 Key와 Value를 한 쌍으로 가지는 자료형이다. 예컨대 Key가 \"baseball\"이라면 Value는 \"야구\"가 될 것이다.  \n",
    "![dictionary](https://wikidocs.net/images/page/16/02_5_baseball.png)  \n",
    "딕셔너리는 리스트나 튜플처럼 순차적으로(sequential) 해당 요솟값을 구하지 않고 Key를 통해 Value를 얻는다. 이것이 바로 딕셔너리의 가장 큰 특징이다. baseball이라는 단어의 뜻을 찾기 위해 사전의 내용을 순차적으로 모두 검색하는 것이 아니라 baseball이라는 단어가 있는 곳만 펼쳐 보는 것이다."
   ]
  },
  {
   "cell_type": "markdown",
   "id": "709f1df9-2bd8-4570-b1ad-f9ed842b2b43",
   "metadata": {},
   "source": [
    "Key와 Value의 쌍 여러 개가 {}로 둘러싸여 있다. 각각의 요소는 Key: Value 형태로 이루어져 있고 쉼표(,)로 구분되어 있다."
   ]
  },
  {
   "cell_type": "code",
   "execution_count": 168,
   "id": "f1f14a73-e8a1-41e9-a73b-0017a9e1697d",
   "metadata": {},
   "outputs": [],
   "source": [
    "dic = {'name': 'pey', 'phone': '010-9999-1234', 'birth': '1118'}"
   ]
  },
  {
   "cell_type": "markdown",
   "id": "3e32a509-4324-4770-8676-64e951c947f7",
   "metadata": {},
   "source": [
    "### **딕셔너리 쌍 추가, 삭제하기**"
   ]
  },
  {
   "cell_type": "markdown",
   "id": "ed659bb6-d626-4866-98b7-78a76f0b5fb7",
   "metadata": {},
   "source": [
    "**딕셔너리 쌍 추가하기**  \n",
    "{1: 'a'} 딕셔너리에 a[2] = 'b'와 같이 입력하면 딕셔너리 a에 Key와 Value가 각각 2와 'b'인 {2: 'b'} 딕셔너리 쌍이 추가된다."
   ]
  },
  {
   "cell_type": "code",
   "execution_count": 169,
   "id": "6096b153-9833-4028-a8c0-2e8d5c360f73",
   "metadata": {},
   "outputs": [
    {
     "data": {
      "text/plain": [
       "{1: 'a', 2: 'b'}"
      ]
     },
     "execution_count": 169,
     "metadata": {},
     "output_type": "execute_result"
    }
   ],
   "source": [
    "a = {1: 'a'}\n",
    "a[2] = 'b'\n",
    "a"
   ]
  },
  {
   "cell_type": "code",
   "execution_count": 170,
   "id": "cde32534-db06-4cf3-b363-c85e7b75a9ad",
   "metadata": {},
   "outputs": [
    {
     "data": {
      "text/plain": [
       "{1: 'a', 2: 'b', 'name': 'pey'}"
      ]
     },
     "execution_count": 170,
     "metadata": {},
     "output_type": "execute_result"
    }
   ],
   "source": [
    "a['name'] = 'pey'\n",
    "a"
   ]
  },
  {
   "cell_type": "code",
   "execution_count": 171,
   "id": "463d3cea-5ec3-4d1a-a40e-a73ad77803cb",
   "metadata": {},
   "outputs": [
    {
     "data": {
      "text/plain": [
       "{1: 'a', 2: 'b', 'name': 'pey', 3: [1, 2, 3]}"
      ]
     },
     "execution_count": 171,
     "metadata": {},
     "output_type": "execute_result"
    }
   ],
   "source": [
    "a[3] = [1, 2, 3]\n",
    "a"
   ]
  },
  {
   "cell_type": "markdown",
   "id": "ffebb039-01a6-4c3f-8cca-1e4f65922ced",
   "metadata": {},
   "source": [
    "**딕셔너리 요소 삭제하기**"
   ]
  },
  {
   "cell_type": "code",
   "execution_count": 172,
   "id": "29df34e3-7ee0-4a58-ac64-c7a017d2b8ef",
   "metadata": {},
   "outputs": [
    {
     "data": {
      "text/plain": [
       "{2: 'b', 'name': 'pey', 3: [1, 2, 3]}"
      ]
     },
     "execution_count": 172,
     "metadata": {},
     "output_type": "execute_result"
    }
   ],
   "source": [
    "del a[1]\n",
    "a"
   ]
  },
  {
   "cell_type": "markdown",
   "id": "f4fb8538-6e03-41fa-9309-c6d2cdea777c",
   "metadata": {},
   "source": [
    "**딕셔너리에서 Key를 사용해 Value 얻기**  "
   ]
  },
  {
   "cell_type": "code",
   "execution_count": 173,
   "id": "7e634bb6-0c68-483f-98eb-0a37955353c7",
   "metadata": {},
   "outputs": [
    {
     "data": {
      "text/plain": [
       "10"
      ]
     },
     "execution_count": 173,
     "metadata": {},
     "output_type": "execute_result"
    }
   ],
   "source": [
    "grade = {'pey': 10, 'julliet': 99}\n",
    "grade['pey']"
   ]
  },
  {
   "cell_type": "code",
   "execution_count": 174,
   "id": "d510fbfd-98d1-4026-9ea0-58da177ecea4",
   "metadata": {},
   "outputs": [
    {
     "data": {
      "text/plain": [
       "99"
      ]
     },
     "execution_count": 174,
     "metadata": {},
     "output_type": "execute_result"
    }
   ],
   "source": [
    "grade['julliet']"
   ]
  },
  {
   "cell_type": "code",
   "execution_count": 175,
   "id": "e34b5604-e3c5-4344-99c4-525fe3c95ce2",
   "metadata": {},
   "outputs": [
    {
     "data": {
      "text/plain": [
       "'a'"
      ]
     },
     "execution_count": 175,
     "metadata": {},
     "output_type": "execute_result"
    }
   ],
   "source": [
    "a = {1:'a', 2:'b'}\n",
    "a[1]"
   ]
  },
  {
   "cell_type": "code",
   "execution_count": 176,
   "id": "78ec8666-8012-4e81-8af1-8fae11447e50",
   "metadata": {},
   "outputs": [
    {
     "data": {
      "text/plain": [
       "'b'"
      ]
     },
     "execution_count": 176,
     "metadata": {},
     "output_type": "execute_result"
    }
   ],
   "source": [
    "a[2]"
   ]
  },
  {
   "cell_type": "markdown",
   "id": "bd3b755c-03d2-47fb-af2f-e1b8d2d740be",
   "metadata": {},
   "source": [
    "### **딕셔너리 관련 함수**"
   ]
  },
  {
   "cell_type": "markdown",
   "id": "5e66f7d9-1af9-4a9e-a5ad-0e304f4d06e1",
   "metadata": {},
   "source": [
    "**Key 리스트 만들기 - keys**  \n",
    "a.keys()는 딕셔너리 a의 Key만을 모아 dict_keys 객체를 리턴한다."
   ]
  },
  {
   "cell_type": "code",
   "execution_count": 177,
   "id": "8f594c4b-479a-4566-9666-07607e326a6f",
   "metadata": {},
   "outputs": [
    {
     "data": {
      "text/plain": [
       "dict_keys(['name', 'phone', 'birth'])"
      ]
     },
     "execution_count": 177,
     "metadata": {},
     "output_type": "execute_result"
    }
   ],
   "source": [
    "a = {'name': 'pey', 'phone': '010-9999-1234', 'birth': '1118'}\n",
    "a.keys()"
   ]
  },
  {
   "cell_type": "code",
   "execution_count": 178,
   "id": "b28c7571-0843-41a2-b595-26dc7978f75a",
   "metadata": {},
   "outputs": [
    {
     "data": {
      "text/plain": [
       "['name', 'phone', 'birth']"
      ]
     },
     "execution_count": 178,
     "metadata": {},
     "output_type": "execute_result"
    }
   ],
   "source": [
    "list(a.keys())"
   ]
  },
  {
   "cell_type": "markdown",
   "id": "3771804b-c728-4929-8b92-e2bfa3ab0f3a",
   "metadata": {},
   "source": [
    "**Value 리스트 만들기 - values**  \n",
    "Key를 얻는 것과 마찬가지 방법으로 Value만 얻고 싶다면 values 함수를 사용하면 된다. values 함수를 호출하면 dict_values 객체를 리턴한다."
   ]
  },
  {
   "cell_type": "code",
   "execution_count": 179,
   "id": "0ac8e06b-51be-45b0-b2ee-6370a6f89994",
   "metadata": {},
   "outputs": [
    {
     "data": {
      "text/plain": [
       "dict_values(['pey', '010-9999-1234', '1118'])"
      ]
     },
     "execution_count": 179,
     "metadata": {},
     "output_type": "execute_result"
    }
   ],
   "source": [
    "a.values()"
   ]
  },
  {
   "cell_type": "markdown",
   "id": "0293fffc-9197-4230-b272-73cf7eae6b69",
   "metadata": {},
   "source": [
    "**Key, Value 쌍 얻기 - items**"
   ]
  },
  {
   "cell_type": "code",
   "execution_count": 180,
   "id": "97522ab3-e8fa-4bc1-9837-38780102a011",
   "metadata": {},
   "outputs": [
    {
     "data": {
      "text/plain": [
       "dict_items([('name', 'pey'), ('phone', '010-9999-1234'), ('birth', '1118')])"
      ]
     },
     "execution_count": 180,
     "metadata": {},
     "output_type": "execute_result"
    }
   ],
   "source": [
    "a.items()"
   ]
  },
  {
   "cell_type": "markdown",
   "id": "01dbca5b-e59f-4134-8c97-93c95d35dac3",
   "metadata": {},
   "source": [
    "**Key: Value 쌍 모두 지우기 - clear**"
   ]
  },
  {
   "cell_type": "code",
   "execution_count": 181,
   "id": "e07efda4-39f9-4678-83f1-99468cd7d64d",
   "metadata": {},
   "outputs": [
    {
     "data": {
      "text/plain": [
       "{}"
      ]
     },
     "execution_count": 181,
     "metadata": {},
     "output_type": "execute_result"
    }
   ],
   "source": [
    "a.clear()\n",
    "a"
   ]
  },
  {
   "cell_type": "markdown",
   "id": "2aedcec9-c950-4bc5-ad91-aeff7ff194fe",
   "metadata": {},
   "source": [
    "**Key로 Value 얻기 - get**"
   ]
  },
  {
   "cell_type": "code",
   "execution_count": 182,
   "id": "870adf13-69b3-4304-adf0-fd17cbf3e0a2",
   "metadata": {},
   "outputs": [
    {
     "data": {
      "text/plain": [
       "'pey'"
      ]
     },
     "execution_count": 182,
     "metadata": {},
     "output_type": "execute_result"
    }
   ],
   "source": [
    "a = {'name': 'pey', 'phone': '010-9999-1234', 'birth': '1118'}\n",
    "a.get('name')"
   ]
  },
  {
   "cell_type": "code",
   "execution_count": 183,
   "id": "a9c6fe96-335c-4ed8-86f9-898cb34fdf02",
   "metadata": {},
   "outputs": [
    {
     "data": {
      "text/plain": [
       "'010-9999-1234'"
      ]
     },
     "execution_count": 183,
     "metadata": {},
     "output_type": "execute_result"
    }
   ],
   "source": [
    "a.get('phone')"
   ]
  },
  {
   "cell_type": "markdown",
   "id": "8b3e168f-6a86-4e87-9edb-849783148a20",
   "metadata": {},
   "source": [
    "**해당 Key가 딕셔너리 안에 있는지 조사하기 - in**"
   ]
  },
  {
   "cell_type": "code",
   "execution_count": 184,
   "id": "75c256b2-9667-45eb-a881-ebec2e470d4a",
   "metadata": {},
   "outputs": [
    {
     "data": {
      "text/plain": [
       "True"
      ]
     },
     "execution_count": 184,
     "metadata": {},
     "output_type": "execute_result"
    }
   ],
   "source": [
    "a = {'name':'pey', 'phone':'010-9999-1234', 'birth': '1118'}\n",
    "'name' in a"
   ]
  },
  {
   "cell_type": "code",
   "execution_count": 185,
   "id": "2b3de04d-cad5-4126-8ad7-98b174f58618",
   "metadata": {},
   "outputs": [
    {
     "data": {
      "text/plain": [
       "False"
      ]
     },
     "execution_count": 185,
     "metadata": {},
     "output_type": "execute_result"
    }
   ],
   "source": [
    "'email' in a"
   ]
  },
  {
   "cell_type": "markdown",
   "id": "1dcfdbe0",
   "metadata": {},
   "source": [
    "## **6. 집합 자료형**"
   ]
  },
  {
   "cell_type": "markdown",
   "id": "a344002e-2149-4ff6-83fa-a69602a550e5",
   "metadata": {},
   "source": [
    "집합(set)은 집합에 관련된 것을 쉽게 처리하기 위해 만든 자료형이다.  \n",
    "집합 자료형은 다음과 같이 set 키워드를 사용해 만들 수 있다."
   ]
  },
  {
   "cell_type": "code",
   "execution_count": 186,
   "id": "f83fec51-04ae-4a38-a91c-a04438070e4c",
   "metadata": {},
   "outputs": [
    {
     "data": {
      "text/plain": [
       "{1, 2, 3}"
      ]
     },
     "execution_count": 186,
     "metadata": {},
     "output_type": "execute_result"
    }
   ],
   "source": [
    "s1 = set([1, 2, 3])\n",
    "s1"
   ]
  },
  {
   "cell_type": "code",
   "execution_count": 187,
   "id": "3cfc8095-00ae-444a-9ff5-3cc6040daf37",
   "metadata": {},
   "outputs": [
    {
     "data": {
      "text/plain": [
       "{'H', 'e', 'l', 'o'}"
      ]
     },
     "execution_count": 187,
     "metadata": {},
     "output_type": "execute_result"
    }
   ],
   "source": [
    "s2 = set(\"Hello\")\n",
    "s2"
   ]
  },
  {
   "cell_type": "markdown",
   "id": "60615830-5b32-45ba-9dee-ee32882b2564",
   "metadata": {},
   "source": [
    "그런데 위에서 살펴본 set(\"Hello\")의 결과가 좀 이상하지 않은가? 분명 \"Hello\" 문자열로 set 자료형을 만들었는데 생성된 자료형에는 l 문자가 하나 빠져 있고 순서도 뒤죽박죽이다. 그 이유는 set에 다음과 같은 2가지 특징이 있기 때문이다.  \n",
    "- 중복을 허용하지 않는다.\n",
    "- 순서가 없다(Unordered).\n",
    "리스트나 튜플은 순서가 있기(ordered) 때문에 인덱싱을 통해 요솟값을 얻을 수 있지만, set 자료형은 순서가 없기(unordered) 때문에 인덱싱을 통해 요솟값을 얻을 수 없다."
   ]
  },
  {
   "cell_type": "markdown",
   "id": "e836637a-626a-46db-a90d-420c61613acb",
   "metadata": {},
   "source": [
    "### **교집합, 합집합, 차집합 구하기**  \n",
    "set 자료형을 정말 유용하게 사용하는 경우는 교집합, 합집합, 차집합을 구할 때이다.\r\n",
    "\r\n",
    "먼저 다음과 같이 2개의 set 자료형을 만든 후 따라 해 보자. s1에는 1부터 6까지의 값, s2에는 4부터 9까지의 값을 주었다."
   ]
  },
  {
   "cell_type": "code",
   "execution_count": 188,
   "id": "91452181-cbb8-43d3-89d4-4c2958499d95",
   "metadata": {},
   "outputs": [],
   "source": [
    "s1 = set([1, 2, 3, 4, 5, 6])\n",
    "s2 = set([4, 5, 6, 7, 8, 9])"
   ]
  },
  {
   "cell_type": "markdown",
   "id": "5e5865ae-2729-4ec2-a3e9-13c2d742f3b4",
   "metadata": {},
   "source": [
    "**교집합 구하기**\n",
    "s1과 s2의 교집합을 구해 보자. 다음과 같이 ‘&’를 이용하면 교집합을 간단히 구할 수 있다."
   ]
  },
  {
   "cell_type": "code",
   "execution_count": 189,
   "id": "b5b2d6e6-a4ad-4a9e-b71f-18de39acc7b4",
   "metadata": {},
   "outputs": [
    {
     "data": {
      "text/plain": [
       "{4, 5, 6}"
      ]
     },
     "execution_count": 189,
     "metadata": {},
     "output_type": "execute_result"
    }
   ],
   "source": [
    "s1 & s2"
   ]
  },
  {
   "cell_type": "code",
   "execution_count": 190,
   "id": "bbde51c1-252c-4d29-9bfc-173f260ae24d",
   "metadata": {},
   "outputs": [
    {
     "data": {
      "text/plain": [
       "{4, 5, 6}"
      ]
     },
     "execution_count": 190,
     "metadata": {},
     "output_type": "execute_result"
    }
   ],
   "source": [
    "s1.intersection(s2)"
   ]
  },
  {
   "cell_type": "markdown",
   "id": "34d6f2ae-55a7-4dbb-85b1-595e60f75c6b",
   "metadata": {},
   "source": [
    "**합집합 구하기**  \n",
    "이번에는 합집합을 구해 보자. ‘|’를 사용하면 합집합을 구할 수 있다. 이때 4, 5, 6처럼 중복해서 포함된 값은 1개씩만 표현된다."
   ]
  },
  {
   "cell_type": "code",
   "execution_count": 191,
   "id": "2ad04cf6-b23a-4548-9214-cf8450a61619",
   "metadata": {},
   "outputs": [
    {
     "data": {
      "text/plain": [
       "{1, 2, 3, 4, 5, 6, 7, 8, 9}"
      ]
     },
     "execution_count": 191,
     "metadata": {},
     "output_type": "execute_result"
    }
   ],
   "source": [
    "s1 | s2"
   ]
  },
  {
   "cell_type": "code",
   "execution_count": 192,
   "id": "f014a33e-45b7-411a-9f0b-e4facceb1127",
   "metadata": {},
   "outputs": [
    {
     "data": {
      "text/plain": [
       "{1, 2, 3, 4, 5, 6, 7, 8, 9}"
      ]
     },
     "execution_count": 192,
     "metadata": {},
     "output_type": "execute_result"
    }
   ],
   "source": [
    "s1.union(s2)"
   ]
  },
  {
   "cell_type": "markdown",
   "id": "a5a65860-b36e-4ce0-9b1b-54b69d4fb8aa",
   "metadata": {},
   "source": [
    "**차집합 구하기**  \r\n",
    "마지막으로 차집합을 구해 보자. -(빼기)를 사용하면 차집합을 구할 수 있다."
   ]
  },
  {
   "cell_type": "code",
   "execution_count": 193,
   "id": "a370ec44-3a9f-4bbd-9bc3-444f8ebfc076",
   "metadata": {},
   "outputs": [
    {
     "data": {
      "text/plain": [
       "{1, 2, 3}"
      ]
     },
     "execution_count": 193,
     "metadata": {},
     "output_type": "execute_result"
    }
   ],
   "source": [
    "s1 - s2"
   ]
  },
  {
   "cell_type": "code",
   "execution_count": 194,
   "id": "cadb7a37-b7f9-4b86-bea2-ea974f53e140",
   "metadata": {},
   "outputs": [
    {
     "data": {
      "text/plain": [
       "{7, 8, 9}"
      ]
     },
     "execution_count": 194,
     "metadata": {},
     "output_type": "execute_result"
    }
   ],
   "source": [
    "s2 - s1"
   ]
  },
  {
   "cell_type": "code",
   "execution_count": 195,
   "id": "6b3a187b-cd4b-4915-a11e-a08cc96c6a0f",
   "metadata": {},
   "outputs": [
    {
     "data": {
      "text/plain": [
       "{1, 2, 3}"
      ]
     },
     "execution_count": 195,
     "metadata": {},
     "output_type": "execute_result"
    }
   ],
   "source": [
    "s1.difference(s2)"
   ]
  },
  {
   "cell_type": "markdown",
   "id": "a0886250-16dd-4639-8a3e-dc54dffa6974",
   "metadata": {},
   "source": [
    "### **집합 자료형 관련 함수**"
   ]
  },
  {
   "cell_type": "markdown",
   "id": "af631484-1c93-4ddb-af86-c29b0171b5f3",
   "metadata": {},
   "source": [
    "**값 1개 추가하기 - add**  \n",
    "이미 만들어진 set 자료형에 값을 추가할 수 있다. 1개의 값만 추가add할 때는 다음과 같이 하면 된다."
   ]
  },
  {
   "cell_type": "code",
   "execution_count": 196,
   "id": "66315366-eb41-47b3-ba2d-b175305f5bc4",
   "metadata": {},
   "outputs": [
    {
     "data": {
      "text/plain": [
       "{1, 2, 3, 4}"
      ]
     },
     "execution_count": 196,
     "metadata": {},
     "output_type": "execute_result"
    }
   ],
   "source": [
    "s1 = set([1, 2, 3])\n",
    "s1.add(4)\n",
    "s1"
   ]
  },
  {
   "cell_type": "markdown",
   "id": "bc42c80e-ec74-436a-9629-0567fc2c4afc",
   "metadata": {},
   "source": [
    "**값 여러 개 추가하기 - update**  \r\n",
    "여러 개의 값을 한꺼번에 추가(update)할 때는 다음과 같이 하면 된다."
   ]
  },
  {
   "cell_type": "code",
   "execution_count": 197,
   "id": "ec37bdbf-9c09-4d8f-8457-d15759f2f308",
   "metadata": {},
   "outputs": [
    {
     "data": {
      "text/plain": [
       "{1, 2, 3, 4, 5, 6}"
      ]
     },
     "execution_count": 197,
     "metadata": {},
     "output_type": "execute_result"
    }
   ],
   "source": [
    "s1 = set([1, 2, 3])\n",
    "s1.update([4, 5, 6])\n",
    "s1"
   ]
  },
  {
   "cell_type": "markdown",
   "id": "8e83dc15-7c85-4ded-96e7-a320d10d4a92",
   "metadata": {},
   "source": [
    "**특정 값 제거하기 - remove**"
   ]
  },
  {
   "cell_type": "code",
   "execution_count": 198,
   "id": "f4f2b4b7-8c14-4880-976c-0e366f0ceb04",
   "metadata": {},
   "outputs": [
    {
     "data": {
      "text/plain": [
       "{1, 3}"
      ]
     },
     "execution_count": 198,
     "metadata": {},
     "output_type": "execute_result"
    }
   ],
   "source": [
    "s1 = set([1, 2, 3])\n",
    "s1.remove(2)\n",
    "s1"
   ]
  },
  {
   "cell_type": "markdown",
   "id": "744d27af",
   "metadata": {},
   "source": [
    "## **7. 불 자료형**"
   ]
  },
  {
   "cell_type": "markdown",
   "id": "63526038-382d-4e4b-8ff2-7708e8ad1174",
   "metadata": {},
   "source": [
    "불(bool) 자료형이란 참(True)과 거짓(False)을 나타내는 자료형이다. "
   ]
  },
  {
   "cell_type": "code",
   "execution_count": 199,
   "id": "93870c4d-52ff-44a1-8393-72302bdf70b6",
   "metadata": {},
   "outputs": [],
   "source": [
    "a = True\n",
    "b = False"
   ]
  },
  {
   "cell_type": "code",
   "execution_count": 200,
   "id": "8b5393a0-8bfa-4cae-8459-25e1e276a155",
   "metadata": {},
   "outputs": [
    {
     "data": {
      "text/plain": [
       "bool"
      ]
     },
     "execution_count": 200,
     "metadata": {},
     "output_type": "execute_result"
    }
   ],
   "source": [
    "type(a)"
   ]
  },
  {
   "cell_type": "markdown",
   "id": "64f7a31c-c8ff-45b1-8138-40e175aebbd1",
   "metadata": {},
   "source": [
    "불 자료형은 조건문의 리턴값으로도 사용된다."
   ]
  },
  {
   "cell_type": "code",
   "execution_count": 201,
   "id": "12545bf6-a243-4d8a-8bc4-d9e8ce2c7749",
   "metadata": {},
   "outputs": [
    {
     "data": {
      "text/plain": [
       "True"
      ]
     },
     "execution_count": 201,
     "metadata": {},
     "output_type": "execute_result"
    }
   ],
   "source": [
    "1 == 1"
   ]
  },
  {
   "cell_type": "code",
   "execution_count": 202,
   "id": "a1ba7396-88af-4b5c-9c47-ee57561836ee",
   "metadata": {},
   "outputs": [
    {
     "data": {
      "text/plain": [
       "True"
      ]
     },
     "execution_count": 202,
     "metadata": {},
     "output_type": "execute_result"
    }
   ],
   "source": [
    "2 > 1"
   ]
  },
  {
   "cell_type": "markdown",
   "id": "c9099a49",
   "metadata": {},
   "source": [
    "## **8. 변수**"
   ]
  },
  {
   "cell_type": "markdown",
   "id": "c83abfd4-bad7-4b56-acdd-4a7088b6a60d",
   "metadata": {},
   "source": [
    "우리는 앞에서 이미 변수를 사용해 왔다. 다음 예와 같은 a, b, c를 ‘변수’라고 한다.  \n",
    "변수_이름 = 변수에_저장할_값"
   ]
  },
  {
   "cell_type": "code",
   "execution_count": 203,
   "id": "802294e0-242e-43e2-87ae-78d9f8a6f741",
   "metadata": {},
   "outputs": [],
   "source": [
    "a = 1\n",
    "b = \"python\"\n",
    "c = [1, 2, 3]"
   ]
  },
  {
   "cell_type": "markdown",
   "id": "c69c0928-46b8-4ad4-b409-b45e92797226",
   "metadata": {},
   "source": [
    "### **리스트를 복사하고자 할때**"
   ]
  },
  {
   "cell_type": "code",
   "execution_count": 204,
   "id": "de23dcfb-b266-4560-8c6b-d1e4111ed1c6",
   "metadata": {},
   "outputs": [],
   "source": [
    "a = [1, 2, 3]\n",
    "b = a"
   ]
  },
  {
   "cell_type": "code",
   "execution_count": 205,
   "id": "8b76c046-ed4f-4362-8ff1-b710e4fafe80",
   "metadata": {},
   "outputs": [
    {
     "data": {
      "text/plain": [
       "True"
      ]
     },
     "execution_count": 205,
     "metadata": {},
     "output_type": "execute_result"
    }
   ],
   "source": [
    "a is b"
   ]
  },
  {
   "cell_type": "code",
   "execution_count": 206,
   "id": "0c5a269a-f6d8-4b16-af37-78d9958a09c7",
   "metadata": {},
   "outputs": [
    {
     "data": {
      "text/plain": [
       "[1, 4, 3]"
      ]
     },
     "execution_count": 206,
     "metadata": {},
     "output_type": "execute_result"
    }
   ],
   "source": [
    "a[1] = 4\n",
    "a"
   ]
  },
  {
   "cell_type": "code",
   "execution_count": 207,
   "id": "572e38ae-9a3f-40a0-9bda-7f6053978b00",
   "metadata": {},
   "outputs": [
    {
     "data": {
      "text/plain": [
       "[1, 4, 3]"
      ]
     },
     "execution_count": 207,
     "metadata": {},
     "output_type": "execute_result"
    }
   ],
   "source": [
    "b"
   ]
  },
  {
   "cell_type": "markdown",
   "id": "4a1504d8-def6-4d6e-a2a3-6b37dad4a3c5",
   "metadata": {},
   "source": [
    "a 리스트의 두 번째 요소를 값 4로 바꾸었더니 a만 바뀌는 것이 아니라 b도 똑같이 바뀌었다. 그 이유는 앞에서 살펴본 것처럼 a, b 모두 동일한 리스트를 가리키고 있기 때문이다.  \n",
    "그렇다면 b 변수를 생성할 때 a 변수의 값을 가져오면서 a와는 다른 주소를 가리키도록 만들 수는 없을까? 다음 2가지 방법이 있다."
   ]
  },
  {
   "cell_type": "markdown",
   "id": "61513da0-353d-4cf0-b208-a20a1a0aeb61",
   "metadata": {},
   "source": [
    "**1. [:] 이용하기**  \r\n",
    "첫 번째 방법은 다음과 같이 리스트 전체를 가리키는 [:]을 사용해서 복사하는 것이다."
   ]
  },
  {
   "cell_type": "code",
   "execution_count": 208,
   "id": "6df2d3a2-0798-45b0-a9cb-d13acd3ba852",
   "metadata": {},
   "outputs": [
    {
     "data": {
      "text/plain": [
       "[1, 4, 3]"
      ]
     },
     "execution_count": 208,
     "metadata": {},
     "output_type": "execute_result"
    }
   ],
   "source": [
    "a = [1, 2, 3]\n",
    "b = a[:]\n",
    "a[1] = 4\n",
    "a"
   ]
  },
  {
   "cell_type": "code",
   "execution_count": 209,
   "id": "5b831c9b-3f7a-49d8-b7d9-dd1212c973ab",
   "metadata": {},
   "outputs": [
    {
     "data": {
      "text/plain": [
       "[1, 2, 3]"
      ]
     },
     "execution_count": 209,
     "metadata": {},
     "output_type": "execute_result"
    }
   ],
   "source": [
    "b"
   ]
  },
  {
   "cell_type": "markdown",
   "id": "933f8e84-227f-4614-8a4b-29f4a0d5f222",
   "metadata": {},
   "source": [
    "**2. copy 모듈 이용하기**  \r\n",
    "두 번째 방법은 copy 모듈을 사용하는 것이다. 다음 예를 보면 from copy import copy라는 처음 보는 형태의 문장이 나오는데, 이것은 뒤에 설명할 파이썬 모듈 부분에서 자세히 다룬다. 여기에서는 단순히 copy 함수를 쓰기 위해서 사용하는 것이라고만 알아 두자."
   ]
  },
  {
   "cell_type": "code",
   "execution_count": 210,
   "id": "7a0aa810-5e56-426b-9bf1-ad62e395e2f0",
   "metadata": {},
   "outputs": [],
   "source": [
    "from copy import copy\n",
    "a = [1, 2, 3]\n",
    "b = copy(a)"
   ]
  },
  {
   "cell_type": "code",
   "execution_count": 211,
   "id": "9f8c4b4b-fa43-4545-ac65-008d5667f9bd",
   "metadata": {
    "scrolled": true
   },
   "outputs": [
    {
     "data": {
      "text/plain": [
       "False"
      ]
     },
     "execution_count": 211,
     "metadata": {},
     "output_type": "execute_result"
    }
   ],
   "source": [
    "b is a"
   ]
  }
 ],
 "metadata": {
  "kernelspec": {
   "display_name": "Python 3 (ipykernel)",
   "language": "python",
   "name": "python3"
  },
  "language_info": {
   "codemirror_mode": {
    "name": "ipython",
    "version": 3
   },
   "file_extension": ".py",
   "mimetype": "text/x-python",
   "name": "python",
   "nbconvert_exporter": "python",
   "pygments_lexer": "ipython3",
   "version": "3.8.10"
  }
 },
 "nbformat": 4,
 "nbformat_minor": 5
}
