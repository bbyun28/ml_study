{
 "cells": [
  {
   "cell_type": "markdown",
   "id": "d4e7f886-dce1-40da-b329-4581e0b109aa",
   "metadata": {},
   "source": [
    "# **05장 파이썬 날개달기**"
   ]
  },
  {
   "cell_type": "markdown",
   "id": "8903e59b-5c18-4abf-ad34-a94cf36f7f97",
   "metadata": {},
   "source": [
    "## **1) 오류는 언제 발생하는가?**\n",
    "\n",
    "오류를 처리하는 방법을 공부하기 전에 어떤 상황에서 오류가 발생하는지 한번 알아보자. 오타를 입력했을 때 발생하는 구문 오류 같은 것이 아닌 실제 프로그램에서 자주 발생하는 오류를 중심으로 살펴보자."
   ]
  },
  {
   "cell_type": "markdown",
   "id": "03fdf292-a431-4058-ad51-2da5d5e02165",
   "metadata": {},
   "source": [
    "첫번째, FileNotFoundError 존재하지 않는 파일을 사용하려고 시도했을 때 발생하는 오류이다."
   ]
  },
  {
   "cell_type": "raw",
   "id": "554edabf-59f8-4243-9c03-697425e42333",
   "metadata": {},
   "source": [
    ">>> f = open(\"나없는파일\", 'r')\n",
    "Traceback (most recent call last):\n",
    "  File \"<stdin>\", line 1, in <module>\n",
    "FileNotFoundError: [Errno 2] No such file or directory: '나없는파일'"
   ]
  },
  {
   "cell_type": "markdown",
   "id": "f90ae8eb-1b48-4c03-8c6b-df954fba94bd",
   "metadata": {},
   "source": [
    "아래 명령을 ctl+enter 하면 위와같은 오류가 나타남을 볼수있다."
   ]
  },
  {
   "cell_type": "code",
   "execution_count": null,
   "id": "411d21b4-01bf-423a-9164-376b5682ac73",
   "metadata": {},
   "outputs": [],
   "source": [
    ">>> f = open(\"나없는파일\", 'r')"
   ]
  },
  {
   "cell_type": "markdown",
   "id": "7c05c37b-fe85-4c44-a3ac-b19411f7389c",
   "metadata": {},
   "source": [
    "위 예에서 볼 수 있듯이 없는 파일을 열려고 시도하면 FileNotFoundError 오류가 발생한다.\n",
    "\n",
    "두번째, 0으로 다른 숫자를 나누는 경우, 이 역시 자주 발생하는 오류이다."
   ]
  },
  {
   "cell_type": "raw",
   "id": "f8825f62-4aff-4727-b21d-5ad0e0d69979",
   "metadata": {},
   "source": [
    ">>> 4 / 0\n",
    "Traceback (most recent call last):\n",
    "  File \"<stdin>\", line 1, in <module>\n",
    "ZeroDivisionError: division by zero"
   ]
  },
  {
   "cell_type": "markdown",
   "id": "1cf8f03a-93c3-47b9-9982-40ea459e407b",
   "metadata": {},
   "source": [
    "아래 명령을 ctl+enter 하면 위와같은 오류가 나타남을 볼수있다."
   ]
  },
  {
   "cell_type": "code",
   "execution_count": null,
   "id": "421e6a3e-ca49-4653-8f0c-aa1db7888022",
   "metadata": {},
   "outputs": [],
   "source": [
    ">>> 4 / 0"
   ]
  },
  {
   "cell_type": "markdown",
   "id": "24294a87-a31b-428f-b2e3-e7a7bd25bcbc",
   "metadata": {},
   "source": [
    "를 0으로 나누려고 하니 ZeroDivisionError 오류가 발생한다.\n",
    "\n",
    "세번째, 리스트에 없는 값  IndexError"
   ]
  },
  {
   "cell_type": "raw",
   "id": "5a750eff-8a9e-4a5c-8cbb-f114bbcd14f2",
   "metadata": {},
   "source": [
    ">>> a = [1, 2, 3]\n",
    ">>> a[3]\n",
    "Traceback (most recent call last):\n",
    "  File \"<stdin>\", line 1, in <module>\n",
    "IndexError: list index out of range"
   ]
  },
  {
   "cell_type": "markdown",
   "id": "28a402ae-4a37-497e-b2e8-19357efc59e9",
   "metadata": {},
   "source": [
    "아래 명령을 ctl+enter 하면 위와같은 오류가 나타남을 볼수있다."
   ]
  },
  {
   "cell_type": "code",
   "execution_count": 55,
   "id": "16e8de1e-731f-43a6-9bde-451b24ebde3d",
   "metadata": {},
   "outputs": [
    {
     "ename": "IndexError",
     "evalue": "list index out of range",
     "output_type": "error",
     "traceback": [
      "\u001b[0;31m---------------------------------------------------------------------------\u001b[0m",
      "\u001b[0;31mIndexError\u001b[0m                                Traceback (most recent call last)",
      "Cell \u001b[0;32mIn[55], line 2\u001b[0m\n\u001b[1;32m      1\u001b[0m a \u001b[38;5;241m=\u001b[39m [\u001b[38;5;241m1\u001b[39m, \u001b[38;5;241m2\u001b[39m, \u001b[38;5;241m3\u001b[39m]\n\u001b[0;32m----> 2\u001b[0m a[\u001b[38;5;241m3\u001b[39m]\n",
      "\u001b[0;31mIndexError\u001b[0m: list index out of range"
     ]
    }
   ],
   "source": [
    ">>> a = [1, 2, 3]\n",
    ">>> a[3]"
   ]
  },
  {
   "cell_type": "markdown",
   "id": "741528fe-3345-4405-9961-f57ea919b08f",
   "metadata": {},
   "source": [
    "a[3]은 a의 네 번째 요솟값을 가리키는데, a 리스트에는 값이 3개밖에 없으므로([1, 2, 3]) 값을 얻을 수 없다. \n",
    "\n",
    "따라서 IndexError 오류가 발생한다. 파이썬은 이런 오류가 발생하면 프로그램을 중단하고 오류 메시지를 보여 준다."
   ]
  },
  {
   "cell_type": "markdown",
   "id": "20ea4051-e494-4a36-8434-e6f8913634f2",
   "metadata": {},
   "source": [
    "## **2) 오류 예외 처리 기법**\n",
    "\n",
    "1. try-except \r",
    "2. try-finally \n",
    "3. try-else\r",
    "문\n"
   ]
  },
  {
   "cell_type": "markdown",
   "id": "263cb46b-a910-4100-8c89-1e8b381ea2d0",
   "metadata": {},
   "source": [
    "try:  \n",
    "    실행 코드  \n",
    "\n",
    "    \n",
    "except:  \n",
    "    예외가 발생했을 때 수행할 코드  \n",
    "\n",
    "    \n",
    "else:  \n",
    "    예외가 발생하지 않았을 때 수행할 코드\n",
    "\n",
    "    \n",
    "finally:  \n",
    "    예외 발생 여부와 상관없이 항상 수행할 코드  "
   ]
  },
  {
   "cell_type": "markdown",
   "id": "36d957d6-3d3f-4f52-8be6-5c3e11f2027b",
   "metadata": {},
   "source": [
    "### **1. try-except**"
   ]
  },
  {
   "cell_type": "markdown",
   "id": "a44aa05f-ed0e-4efa-a8c7-05e2eb144a14",
   "metadata": {},
   "source": [
    "**1) try-except만 쓰는 방법**"
   ]
  },
  {
   "cell_type": "code",
   "execution_count": 21,
   "id": "8fa74d5f-4672-455e-ad97-c45a0b34bcd5",
   "metadata": {},
   "outputs": [],
   "source": [
    "try:\n",
    "    ...\n",
    "except:\n",
    "    ..."
   ]
  },
  {
   "cell_type": "markdown",
   "id": "da0bf9c8-a428-4474-b541-e1d1d1de920c",
   "metadata": {},
   "source": [
    "이 경우에는 오류의 종류에 상관없이 오류가 발생하면 except 블록을 수행한다."
   ]
  },
  {
   "cell_type": "markdown",
   "id": "5f589d42-9d6b-4358-9a45-fcceec2926ab",
   "metadata": {},
   "source": [
    "**2) 발생 오류만 포함한 except 문**"
   ]
  },
  {
   "cell_type": "code",
   "execution_count": 27,
   "id": "7a65ef9c-71a7-43d5-8f45-cffbabff16ee",
   "metadata": {},
   "outputs": [],
   "source": [
    "try:\n",
    "    ...\n",
    "except 발생오류:\n",
    "    ..."
   ]
  },
  {
   "cell_type": "code",
   "execution_count": 48,
   "id": "4713d0f9-b261-4951-9f39-15d04e7765e3",
   "metadata": {},
   "outputs": [],
   "source": [
    "try:\n",
    "    ...\n",
    "except FileNotFoundError:\n",
    "    ..."
   ]
  },
  {
   "cell_type": "code",
   "execution_count": 44,
   "id": "2c91f0b3-329e-4286-9e04-ac5dd03477b1",
   "metadata": {},
   "outputs": [
    {
     "name": "stdout",
     "output_type": "stream",
     "text": [
      "0으로 나누면 안되요\n"
     ]
    }
   ],
   "source": [
    "try:\n",
    "    b = 3 / 0\n",
    "except ZeroDivisionError:\n",
    "    print(\"0으로 나누면 안되요\")"
   ]
  },
  {
   "cell_type": "markdown",
   "id": "a50222ed-ce12-4b57-9d45-e11aafc79b63",
   "metadata": {},
   "source": [
    "이 경우는 오류가 발생했을 때 except 문에 미리 정해 놓은 오류와 동일한 오류일 경우에만 except 블록을 수행한다는 뜻이다."
   ]
  },
  {
   "cell_type": "markdown",
   "id": "938d9615-a4fb-45ae-8d25-9d936cc7842a",
   "metadata": {},
   "source": [
    "**3) 발생 오류와 오류 변수까지 포함한 except 문**"
   ]
  },
  {
   "cell_type": "code",
   "execution_count": 38,
   "id": "e21e2d72-245a-4160-849c-d51331f6b39b",
   "metadata": {},
   "outputs": [],
   "source": [
    "try:\n",
    "    ...\n",
    "except 발생오류 as 오류변수:\n",
    "    ..."
   ]
  },
  {
   "cell_type": "markdown",
   "id": "c65596db-8067-4679-b529-deed8646c24a",
   "metadata": {},
   "source": [
    "이 경우는 두 번째 경우에서 오류의 내용까지 알고 싶을 때 사용하는 방법이다.\n",
    "\n",
    "이 방법의 예를 들어 보면 다음과 같다."
   ]
  },
  {
   "cell_type": "code",
   "execution_count": null,
   "id": "2915fd5e-a115-48d5-ae02-d4394d9f3ca9",
   "metadata": {},
   "outputs": [],
   "source": [
    "try:\n",
    "    4 / 0\n",
    "except ZeroDivisionError as e:\n",
    "    print(e)"
   ]
  },
  {
   "cell_type": "markdown",
   "id": "ce8cd2cb-aff2-4dc9-a7a3-ca27a0167cf6",
   "metadata": {},
   "source": [
    "위처럼 4를 0으로 나누려고 하면 ZeroDivisionError가 발생하여 except 블록이 실행되고 오류 변수 e에 담기는 오류 메시지를 출력할 수 있다.\n",
    "\n",
    "division by zero가 출력된다"
   ]
  },
  {
   "cell_type": "code",
   "execution_count": 2,
   "id": "88d7f752-1b85-4a7c-8fe2-14d8456cffc4",
   "metadata": {},
   "outputs": [
    {
     "name": "stdout",
     "output_type": "stream",
     "text": [
      "division by zero\n"
     ]
    }
   ],
   "source": [
    "try:\n",
    "    4 / 0\n",
    "except ZeroDivisionError as e:\n",
    "    print(e)"
   ]
  },
  {
   "cell_type": "markdown",
   "id": "1bdb5087-55b0-48dc-b241-8a9f5347b740",
   "metadata": {},
   "source": [
    "### **2. try-finally**"
   ]
  },
  {
   "cell_type": "markdown",
   "id": "2fa35cb1-1e44-4aea-9394-3c465f5d49e2",
   "metadata": {},
   "source": [
    "try 문에는 finally 절을 사용할 수 있다. finally 절은 try 문 수행 도중 예외 발생 여부에 상관없이 항상 수행된다. \n",
    "\n",
    "보통 finally 절은 사용한 리소스를 close해야 할 때 많이 사용한다.\n",
    "\n",
    "다음 예를 살펴보자."
   ]
  },
  {
   "cell_type": "code",
   "execution_count": null,
   "id": "034c7afe-5b0d-4067-a743-78dcfda0d4a0",
   "metadata": {},
   "outputs": [],
   "source": [
    "# try_finally.py\n",
    "try:\n",
    "    f = open('foo.txt', 'w')\n",
    "    # 무언가를 수행한다.\n",
    "\n",
    "    (... 생략 ...)\n",
    "\n",
    "finally:\n",
    "    f.close()  # 중간에 오류가 발생하더라도 무조건 실행된다."
   ]
  },
  {
   "cell_type": "markdown",
   "id": "27ce2a87-944b-401a-a96a-ce50587594ba",
   "metadata": {},
   "source": [
    "foo.txt 파일을 쓰기 모드로 연 후 예외 발생 여부에 상관없이 항상 파일을 닫아 주려면 try-finally 문을 사용하면 된다."
   ]
  },
  {
   "cell_type": "markdown",
   "id": "4e596cb1-ad35-44dd-b76b-c7a93aac7045",
   "metadata": {},
   "source": [
    "### **3. try-else**"
   ]
  },
  {
   "cell_type": "markdown",
   "id": "369cf93d-10e7-4654-9f66-a6c8d271bc40",
   "metadata": {},
   "source": [
    "try 문에는 다음처럼 else 절을 사용할 수도 있다."
   ]
  },
  {
   "cell_type": "markdown",
   "id": "3e94f10d-f780-4226-a969-283bb6ae740f",
   "metadata": {},
   "source": [
    "try:\n",
    "    ...\n",
    "except [발생오류 [as 오류변수]]:\n",
    "    ...\n",
    "else:  # 오류가 없을 경우에만 수행\n",
    "    ..."
   ]
  },
  {
   "cell_type": "markdown",
   "id": "bf55e229-af37-41c3-9a8f-7d8963ab159b",
   "metadata": {},
   "source": [
    "try 문 수행 중 오류가 발생하면 except 절, 오류가 발생하지 않으면 else 절이 수행된다.\n",
    "\n",
    "다음은 try 문에 else 절을 사용한 간단한 예제이다."
   ]
  },
  {
   "cell_type": "code",
   "execution_count": null,
   "id": "d6ba5cf0-63a4-456e-91ec-8774894c6260",
   "metadata": {},
   "outputs": [],
   "source": [
    "try:\n",
    "    age=int(input('나이를 입력하세요: '))\n",
    "except:\n",
    "    print('입력이 정확하지 않습니다.')\n",
    "else:\n",
    "    if age <= 18:\n",
    "        print('미성년자는 출입금지입니다.')\n",
    "    else:\n",
    "        print('환영합니다.')"
   ]
  },
  {
   "cell_type": "markdown",
   "id": "a8ab139e-50a9-4079-bb5b-e5dc6c9c30f2",
   "metadata": {},
   "source": [
    "위 명령에 숫자가 아닌 다른값을 입력하면 오류가 발생하여 '입력이 정확하지 않습니다.'라는 문장을 출력한다. 오류가 없을 경우에만 else 절이 수행된다."
   ]
  },
  {
   "cell_type": "markdown",
   "id": "d4d2236d-4f3f-4356-8a18-757476474bcb",
   "metadata": {},
   "source": [
    "## **3) 오류 회피하기**"
   ]
  },
  {
   "cell_type": "markdown",
   "id": "f57e2649-9f7b-4806-8154-c22b440f4532",
   "metadata": {},
   "source": [
    "코드를 작성하다 보면 특정 오류가 발생할 경우 그냥 통과시켜야 할 때가 있다. 다음 예를 살펴보자."
   ]
  },
  {
   "cell_type": "code",
   "execution_count": 60,
   "id": "89500b68-bd27-464d-9453-9bfcc72b9f10",
   "metadata": {},
   "outputs": [],
   "source": [
    "# error_pass.py\n",
    "try:\n",
    "    f = open(\"나없는파일\", 'r')\n",
    "except FileNotFoundError:\n",
    "    pass"
   ]
  },
  {
   "cell_type": "markdown",
   "id": "6e3b89b6-1228-48f8-b2e2-64b929766269",
   "metadata": {},
   "source": [
    "try 문 안에서 FileNotFoundError가 발생할 경우, pass를 사용하여 오류를 그냥 회피하도록 작성한 예제이다."
   ]
  },
  {
   "cell_type": "markdown",
   "id": "ec269ad2-d2e1-47f2-83a8-e97575e8abe8",
   "metadata": {},
   "source": [
    "## **05-5 내장 함수**"
   ]
  },
  {
   "cell_type": "markdown",
   "id": "0d7f8d4e-0721-430c-9642-9f85d2e2a5ae",
   "metadata": {},
   "source": [
    "![내장함수](https://wikidocs.net/images/page/32/05_5_reinvent_wheel.png)"
   ]
  },
  {
   "cell_type": "markdown",
   "id": "c3be1f23-e612-4029-8c37-f3de0660db87",
   "metadata": {},
   "source": [
    "\"이미 있는 것을 다시 만드느라 시간을 낭비하지 말라.\""
   ]
  },
  {
   "cell_type": "markdown",
   "id": "123bcea1-aa35-4db6-870f-2cbd1f991e4e",
   "metadata": {},
   "source": [
    "파이썬 내장(built-in) 함수를 먼저 살펴보자. 우리는 이미 몇 가지 내장 함수를 배웠다. (print, del, type 등)\n",
    "이러한 파이썬 내장 함수는 파이썬 모듈과 달리 import가 필요하지 않기 때문에 아무런 설정 없이 바로 사용할 수 있다."
   ]
  },
  {
   "cell_type": "markdown",
   "id": "c4e7b64d-6022-4879-b186-a7b76fc111ed",
   "metadata": {},
   "source": [
    "활용 빈도가 높고 중요한 함수를 중심으로 알파벳 순서대로 간략히 정리했다. 파이썬으로 프로그래밍을 하기 위해 이들 함수를 지금 당장 모두 알아야 하는 것은 아니므로, 몇가지만 알아보자"
   ]
  },
  {
   "cell_type": "markdown",
   "id": "5fe1147b-b90e-4acf-b2c6-70235ca312ae",
   "metadata": {},
   "source": [
    "[abs](#abs)  \n",
    "[all](#all)  \n",
    "[any](#any)  \n",
    "[chr](#chr)  \n",
    "[dir](#dir)  \n",
    "[divmod](#divmod)   \n",
    "[enumerate](#enumerate)  \n",
    "[eval](#eval)  \n",
    "[filter](#filter)  \n",
    "[hex](#hex)  \n",
    "[id](#id)   \n",
    "[input](#input)  \n",
    "[int](#int)  \n",
    "[isinstance](#isinstance)   \n",
    "[len](#len)  \n",
    "[list](#list)  \n",
    "[map](#map)  \n",
    "[max](#max)  \n",
    "[min](#min)  \n",
    "[oct](#oct)  \n",
    "[open](#open)  \n",
    "[ord](#ord)  \n",
    "[pow](#pow)  \n",
    "[range](#range)  \n",
    "[round](#round)  \n",
    "[sorted](#sorted)  \n",
    "[srt](#srt)  \n",
    "[sum](#sum)  \n",
    "[tuple](#tuple)   \n",
    "[type](#type)   \n",
    "[zip](#zip)  "
   ]
  },
  {
   "cell_type": "markdown",
   "id": "f1715f0f-3baf-4001-87e7-b302688b6a03",
   "metadata": {},
   "source": [
    "### **abs**"
   ]
  },
  {
   "cell_type": "markdown",
   "id": "d5f7d896-3d12-4e30-8aa6-faf5a2cd92b1",
   "metadata": {},
   "source": [
    "abs(x)는 어떤 숫자를 입력받았을 때 그 숫자의 절댓값을 리턴하는 함수이다."
   ]
  },
  {
   "cell_type": "code",
   "execution_count": null,
   "id": "c7009b0a-dff8-420b-a39a-c99bb11a9d35",
   "metadata": {},
   "outputs": [],
   "source": [
    ">>> abs(3)\n",
    "3"
   ]
  },
  {
   "cell_type": "code",
   "execution_count": null,
   "id": "0a19252f-8965-45d5-960e-cae684440ea2",
   "metadata": {},
   "outputs": [],
   "source": [
    ">>> abs(-3)\n",
    "3"
   ]
  },
  {
   "cell_type": "code",
   "execution_count": null,
   "id": "f735de14-0387-49ca-969e-19cc5efcf14b",
   "metadata": {},
   "outputs": [],
   "source": [
    ">>> abs(-1.2)\n",
    "1.2"
   ]
  },
  {
   "cell_type": "markdown",
   "id": "bebc79a3-285d-4b53-8e28-19a7ec158644",
   "metadata": {},
   "source": [
    "### **len**"
   ]
  },
  {
   "cell_type": "markdown",
   "id": "f733c9e7-8e9d-42fe-bec4-c13c0fbeaede",
   "metadata": {},
   "source": [
    "len(s)는 입력값 s의 길이(요소의 전체 개수)를 리턴하는 함수이다."
   ]
  },
  {
   "cell_type": "code",
   "execution_count": null,
   "id": "a692a59f-e595-4eb3-a836-47d195a61be9",
   "metadata": {},
   "outputs": [],
   "source": [
    ">>> len(\"python\")\n",
    "6"
   ]
  },
  {
   "cell_type": "code",
   "execution_count": null,
   "id": "f7ac16f1-66d3-4108-aea1-59ae1fdf8920",
   "metadata": {},
   "outputs": [],
   "source": [
    ">>> len([1,2,3])\n",
    "3"
   ]
  },
  {
   "cell_type": "code",
   "execution_count": null,
   "id": "52c7ae1b-7ebf-4d49-93ad-3c46c13a64c2",
   "metadata": {},
   "outputs": [],
   "source": [
    ">>> len((1, 'a'))\n",
    "2"
   ]
  },
  {
   "cell_type": "markdown",
   "id": "2a6c594b-93c1-4bea-bd82-7837be73f871",
   "metadata": {},
   "source": [
    "### **max**"
   ]
  },
  {
   "cell_type": "markdown",
   "id": "07388c3e-38be-4aa0-8de5-9c7aaf7b222e",
   "metadata": {},
   "source": [
    "max(iterable)은 인수로 반복 가능한 데이터를 입력받아 그 최댓값을 리턴하는 함수이다."
   ]
  },
  {
   "cell_type": "code",
   "execution_count": null,
   "id": "5d58cd4f-127a-46f5-be56-1b39fc6b942a",
   "metadata": {},
   "outputs": [],
   "source": [
    ">>> max([1, 2, 3])\n",
    "3"
   ]
  },
  {
   "cell_type": "code",
   "execution_count": null,
   "id": "e8c4d015-abe7-40b5-b802-0fd8cc427f2a",
   "metadata": {},
   "outputs": [],
   "source": [
    ">>> max(\"python\")\n",
    "'y'"
   ]
  },
  {
   "cell_type": "markdown",
   "id": "6d7458a1-5370-413f-8613-c2457d36ab1b",
   "metadata": {},
   "source": [
    "### **min**"
   ]
  },
  {
   "cell_type": "markdown",
   "id": "b3c01c7e-924f-4278-95b0-fdec29d82093",
   "metadata": {},
   "source": [
    "min(iterable)은 max 함수와 반대로, 인수로 반복 가능한 데이터를 입력받아 그 최솟값을 리턴하는 함수이다."
   ]
  },
  {
   "cell_type": "code",
   "execution_count": null,
   "id": "164b0859-8150-4a29-bf6a-3ea728611a76",
   "metadata": {},
   "outputs": [],
   "source": [
    ">>> min([1, 2, 3])\n",
    "1"
   ]
  },
  {
   "cell_type": "code",
   "execution_count": null,
   "id": "1be85074-56c5-4454-971f-447cffe83609",
   "metadata": {},
   "outputs": [],
   "source": [
    ">>> min(\"python\")\n",
    "'h'"
   ]
  },
  {
   "cell_type": "markdown",
   "id": "3bd4deec-44b4-474c-826f-1db65fee827f",
   "metadata": {},
   "source": [
    "### **pow**"
   ]
  },
  {
   "cell_type": "markdown",
   "id": "9dc73dd5-dcc8-4830-8475-e93fa63e473a",
   "metadata": {},
   "source": [
    "pow(x, y)는 x를 y제곱한 결괏값을 리턴하는 함수이다."
   ]
  },
  {
   "cell_type": "code",
   "execution_count": null,
   "id": "32c78521-3d2c-44ab-8632-eaebfb50085c",
   "metadata": {},
   "outputs": [],
   "source": [
    ">>> pow(2, 4)\n",
    "16"
   ]
  },
  {
   "cell_type": "code",
   "execution_count": null,
   "id": "b8c7d86b-d689-4f01-9e0d-d17269e083fa",
   "metadata": {},
   "outputs": [],
   "source": [
    ">>> pow(3, 3)\n",
    "27"
   ]
  },
  {
   "cell_type": "markdown",
   "id": "b26fd2b0-aeb3-434f-8d05-82c04e83f7ff",
   "metadata": {},
   "source": [
    "### **range**"
   ]
  },
  {
   "cell_type": "markdown",
   "id": "1c9f819c-eca3-4013-8e94-fe1302de6232",
   "metadata": {},
   "source": [
    "range([start,] stop [,step])은 for 문과 함께 자주 사용하는 함수이다. 이 함수는 입력받은 숫자에 해당하는 범위 값을 반복 가능한 객체로 만들어 리턴한다."
   ]
  },
  {
   "cell_type": "markdown",
   "id": "6c08a35c-0b81-45c3-89ab-f4c68981db6e",
   "metadata": {},
   "source": [
    "##### **1) 인수가 하나일 경우**"
   ]
  },
  {
   "cell_type": "markdown",
   "id": "d0650bc7-756e-4977-92d3-4bdf8d803c7f",
   "metadata": {},
   "source": [
    "시작 숫자를 지정해 주지 않으면 range 함수는 0부터 시작한다."
   ]
  },
  {
   "cell_type": "code",
   "execution_count": 57,
   "id": "69b41e2a-8574-4bf2-9767-0cbc54835f70",
   "metadata": {},
   "outputs": [
    {
     "data": {
      "text/plain": [
       "[0, 1, 2, 3, 4]"
      ]
     },
     "execution_count": 57,
     "metadata": {},
     "output_type": "execute_result"
    }
   ],
   "source": [
    ">>> list(range(5))\n",
    "[0, 1, 2, 3, 4]"
   ]
  },
  {
   "cell_type": "markdown",
   "id": "fc513183-f72b-44d7-a801-99f6e2eafd00",
   "metadata": {},
   "source": [
    "##### **2) 인수가 2개일 경우**"
   ]
  },
  {
   "cell_type": "markdown",
   "id": "f20c253f-29cf-4921-b5aa-27eb94131ef6",
   "metadata": {},
   "source": [
    "입력으로 주어지는 2개의 인수는 시작 숫자와 끝 숫자를 나타낸다. 단, 끝 숫자는 해당 범위에 포함되지 않는다는 것에 주의하자."
   ]
  },
  {
   "cell_type": "code",
   "execution_count": null,
   "id": "1d5f69e0-4779-4a38-9cf4-283e1862a584",
   "metadata": {},
   "outputs": [],
   "source": [
    ">>> list(range(5, 10))\n",
    "[5, 6, 7, 8, 9]"
   ]
  },
  {
   "cell_type": "markdown",
   "id": "f51baa1f-fbb0-42d8-9c58-53cc31d61781",
   "metadata": {},
   "source": [
    "##### **3) 인수가 3개일 경우**"
   ]
  },
  {
   "cell_type": "markdown",
   "id": "7461e80f-f2ef-4734-b857-1663739db2ad",
   "metadata": {},
   "source": [
    "세 번째 인수는 숫자 사이의 거리를 말한다."
   ]
  },
  {
   "cell_type": "code",
   "execution_count": null,
   "id": "7d6986c9-4e57-4331-8a03-7df016eed4fe",
   "metadata": {},
   "outputs": [],
   "source": [
    ">>> list(range(1, 10, 2))\n",
    "[1, 3, 5, 7, 9]"
   ]
  },
  {
   "cell_type": "code",
   "execution_count": null,
   "id": "afc46c13-e515-4bb8-b4a3-d881ded1c22c",
   "metadata": {},
   "outputs": [],
   "source": [
    ">>> list(range(0, -10, -1))\n",
    "[0, -1, -2, -3, -4, -5, -6, -7, -8, -9]"
   ]
  },
  {
   "cell_type": "markdown",
   "id": "acb94986-f475-4d3d-9af5-7d3293a84735",
   "metadata": {},
   "source": [
    "### **round**"
   ]
  },
  {
   "cell_type": "markdown",
   "id": "0237b6f9-4676-4ff1-b185-561f44143333",
   "metadata": {},
   "source": [
    "round(number [,ndigits])는 숫자를 입력받아 반올림해 리턴하는 함수이다.\n",
    "\n",
    "[,ndigits]는 ndigits가 있을 수도 있고, 없을 수도 있다는 의미이다."
   ]
  },
  {
   "cell_type": "code",
   "execution_count": null,
   "id": "0cf88ad1-e021-4721-83a1-9bf23ae6c0a8",
   "metadata": {},
   "outputs": [],
   "source": [
    ">>> round(4.6)\n",
    "5"
   ]
  },
  {
   "cell_type": "code",
   "execution_count": null,
   "id": "3e9bf9fe-2809-47b1-8114-2b2b3b9cfde9",
   "metadata": {},
   "outputs": [],
   "source": [
    ">>> round(4.2)\n",
    "4"
   ]
  },
  {
   "cell_type": "markdown",
   "id": "6b283432-7315-4f05-ba3b-50c3fc56f3c1",
   "metadata": {},
   "source": [
    "다음과 같이 실수 5.678을 소수점 2자리까지만 반올림하여 표시할 수 있다."
   ]
  },
  {
   "cell_type": "code",
   "execution_count": null,
   "id": "8ebdfb99-9cc5-427d-b305-83f4d40720bc",
   "metadata": {},
   "outputs": [],
   "source": [
    ">>> round(5.678, 2)\n",
    "5.68"
   ]
  },
  {
   "cell_type": "markdown",
   "id": "6b12270a-c470-4b13-a168-56e5a8dd59c8",
   "metadata": {},
   "source": [
    "round 함수의 두 번째 인수는 반올림하여 표시하고 싶은 소수점의 자릿수(ndigits)를 의미한다."
   ]
  },
  {
   "cell_type": "markdown",
   "id": "51ffd6ad-614e-4d4f-899d-c4612afdfeec",
   "metadata": {},
   "source": [
    "### **map**"
   ]
  },
  {
   "cell_type": "code",
   "execution_count": null,
   "id": "c6a30e0f-f6b9-4bd3-aeb2-bf1d33b50597",
   "metadata": {},
   "outputs": [],
   "source": [
    "map(f, iterable)은 함수(f)와 반복 가능한 데이터를 입력으로 받는다. map은 입력받은 데이터의 각 요소에 함수 f를 적용한 결과를 리턴하는 함수이다."
   ]
  },
  {
   "cell_type": "code",
   "execution_count": 71,
   "id": "2027280c-1909-4c47-8da8-5529ef13300e",
   "metadata": {},
   "outputs": [
    {
     "name": "stdout",
     "output_type": "stream",
     "text": [
      "[2, 4, 6, 8]\n"
     ]
    }
   ],
   "source": [
    "# two_times.py\n",
    "def two_times(numberList):\n",
    "    result = []\n",
    "    for number in numberList:\n",
    "        result.append(number*2)\n",
    "    return result\n",
    "\n",
    "result = two_times([1, 2, 3, 4])\n",
    "print(result)"
   ]
  },
  {
   "cell_type": "markdown",
   "id": "fc0eff1d-6e92-453f-aaa6-4b9b70964219",
   "metadata": {},
   "source": [
    "two_times는 리스트를 입력받아 리스트의 각 요소에 2를 곱해 리턴하는 함수이다. 실행 결과는 [2, 4, 6, 8] 이다."
   ]
  },
  {
   "cell_type": "markdown",
   "id": "8f87409e-56e3-4b34-a2cc-c06f60fb0c2c",
   "metadata": {},
   "source": [
    "위 예제는 map 함수를 사용하여 다음처럼 바꿀 수 있다."
   ]
  },
  {
   "cell_type": "code",
   "execution_count": null,
   "id": "dde2c612-8bbd-4492-8298-e2cd4a6894bc",
   "metadata": {},
   "outputs": [],
   "source": [
    ">>> def two_times(x): \n",
    "...     return x*2\n",
    "...\n",
    ">>> list(map(two_times, [1, 2, 3, 4]))\n",
    "[2, 4, 6, 8]"
   ]
  },
  {
   "cell_type": "markdown",
   "id": "bdfc0f07-a181-4f91-8319-6dfa9c7f7c63",
   "metadata": {},
   "source": [
    "이 예제를 해석해 보자. 먼저 리스트의 첫 번째 요소인 1이 two_times 함수의 입력값으로 들어가고 1 * 2의 과정을 거쳐서 2가 된다. \n",
    "\n",
    "다음으로 리스트의 두 번째 요소인 2가 2 * 2의 과정을 거쳐 4가 된다. 따라서 결괏값은 이제 [2, 4]가 된다. \n",
    "\n",
    "총 4개의 요솟값이 모두 수행되면 [2, 4, 6, 8]이 된다. 이것이 map 함수가 하는 일이다.\n",
    "\n",
    "map 함수의 결과를 리스트로 출력하기 위해 list 함수를 사용했다. map 함수는 map 객체를 리턴한다."
   ]
  },
  {
   "cell_type": "markdown",
   "id": "ef2a3147-13a4-4363-86f3-d2edcac5ee1b",
   "metadata": {},
   "source": [
    "### **sum**"
   ]
  },
  {
   "cell_type": "markdown",
   "id": "1a7a50f6-9643-4535-ba9a-9505fc8aef4e",
   "metadata": {},
   "source": [
    "sum(iterable)은 입력 데이터의 합을 리턴하는 함수이다."
   ]
  },
  {
   "cell_type": "code",
   "execution_count": null,
   "id": "ab9baa67-ab7a-4a33-81bf-f31d6a7c416f",
   "metadata": {},
   "outputs": [],
   "source": [
    ">>> sum([1,2,3])\n",
    "6"
   ]
  },
  {
   "cell_type": "code",
   "execution_count": null,
   "id": "45e93bb0-29a0-4049-a83d-af9568e78bda",
   "metadata": {},
   "outputs": [],
   "source": [
    ">>> sum((4,5,6))\n",
    "15"
   ]
  },
  {
   "cell_type": "markdown",
   "id": "64bfd2f4-f6a3-46e7-9edf-f56ed02d1966",
   "metadata": {},
   "source": [
    "### **sorted**"
   ]
  },
  {
   "cell_type": "markdown",
   "id": "5f6227fe-6c8a-41be-9f83-33668ea38393",
   "metadata": {},
   "source": [
    "sorted(iterable)는 입력 데이터를 정렬한 후 그 결과를 리스트로 리턴하는 함수이다."
   ]
  },
  {
   "cell_type": "code",
   "execution_count": null,
   "id": "439b8559-e910-4670-a912-c10b79ab84ea",
   "metadata": {},
   "outputs": [],
   "source": [
    ">>> sorted([3, 1, 2])\n",
    "[1, 2, 3]"
   ]
  },
  {
   "cell_type": "code",
   "execution_count": null,
   "id": "71d1af92-cccf-4bca-a1c8-1d2dc04d76ac",
   "metadata": {},
   "outputs": [],
   "source": [
    ">>> sorted(['a', 'c', 'b'])\n",
    "['a', 'b', 'c']"
   ]
  },
  {
   "cell_type": "code",
   "execution_count": null,
   "id": "9fe32292-30df-49f4-9ff9-4b39413f5f9f",
   "metadata": {},
   "outputs": [],
   "source": [
    ">>> sorted(\"zero\")\n",
    "['e', 'o', 'r', 'z']"
   ]
  },
  {
   "cell_type": "code",
   "execution_count": null,
   "id": "36ab63ff-906b-44a8-b6d6-bb039f4b3724",
   "metadata": {},
   "outputs": [],
   "source": [
    ">>> sorted((3, 2, 1))\n",
    "[1, 2, 3]"
   ]
  },
  {
   "cell_type": "markdown",
   "id": "8adb6875-49d6-4f4f-8b88-f2dd2d29d916",
   "metadata": {},
   "source": [
    "### **filter**"
   ]
  },
  {
   "cell_type": "markdown",
   "id": "b738bb4f-496a-4fb6-9d2b-20bfe1563349",
   "metadata": {},
   "source": [
    "filter란 ‘무엇인가를 걸러 낸다’라는 뜻으로, filter 함수도 이와 비슷한 기능을 한다."
   ]
  },
  {
   "cell_type": "markdown",
   "id": "e136caa6-e6d8-4ee9-bb41-315d74587766",
   "metadata": {},
   "source": [
    "filter(함수, 반복_가능한_데이터)"
   ]
  },
  {
   "cell_type": "markdown",
   "id": "ea371d6b-fb4c-4533-b706-31dd61ea5882",
   "metadata": {},
   "source": [
    "filter 함수는 첫 번째 인수로 함수, 두 번째 인수로 그 함수에 차례로 들어갈 반복 가능한 데이터를 받는다. \n",
    "\n",
    "그리고 반복 가능한 데이터의 요소 순서대로 함수를 호출했을 때 리턴값이 참인 것만 묶어서(걸러 내서) 리턴한다."
   ]
  },
  {
   "cell_type": "code",
   "execution_count": 88,
   "id": "76731145-73f5-4ace-9133-1b761fc32b76",
   "metadata": {},
   "outputs": [
    {
     "name": "stdout",
     "output_type": "stream",
     "text": [
      "[1, 2, 6]\n"
     ]
    }
   ],
   "source": [
    "def positive(l): \n",
    "    result = [] \n",
    "    for i in l: \n",
    "        if i > 0: \n",
    "            result.append(i) \n",
    "    return result\n",
    "\n",
    "print(positive([1,-3,2,0,-5,6]))"
   ]
  },
  {
   "cell_type": "markdown",
   "id": "abe000d5-0969-4efd-b8b7-dc6d8283438e",
   "metadata": {},
   "source": [
    "위에서 만든 positive는 리스트를 입력으로 받아 각각의 요소를 판별해서 양수 값만 리턴하는 함수이다.\n",
    "\n",
    "filter 함수를 사용하면 위 내용을 다음과 같이 간단하게 작성할 수 있다."
   ]
  },
  {
   "cell_type": "code",
   "execution_count": 92,
   "id": "1eb9e0d5-0549-48a7-a82c-a8baa4799993",
   "metadata": {},
   "outputs": [
    {
     "name": "stdout",
     "output_type": "stream",
     "text": [
      "[1, 2, 6]\n"
     ]
    }
   ],
   "source": [
    "def positive(x):\n",
    "    return x > 0\n",
    "\n",
    "print(list(filter(positive, [1, -3, 2, 0, -5, 6])))"
   ]
  },
  {
   "cell_type": "markdown",
   "id": "69663ad3-5d6a-4c3f-bf44-38582f10c43f",
   "metadata": {},
   "source": [
    "filter(positive, [1, -3, 2, 0, -5, 6])은 [1, -3, 2, 0, -5, 6]의 각 요솟값을 순서대로 positive 함수에 적용하여 리턴값이 참인 것만 묶어서 리턴한다. \n",
    "\n",
    "즉, 1, 2, 6 요소만 x > 0 문장에 참이 되므로 [1, 2, 6]이라는 결괏값이 출력된다.\n",
    "\n",
    "list 함수는 filter 함수의 리턴값을 리스트로 출력하기 위해 사용했다."
   ]
  },
  {
   "cell_type": "markdown",
   "id": "504f3c0a-d5a4-4f73-9e8a-877cc36fb0c7",
   "metadata": {},
   "source": [
    "### **연습문제**"
   ]
  },
  {
   "cell_type": "markdown",
   "id": "6f6f68a3-1761-4f1a-8295-1451d2be97bc",
   "metadata": {},
   "source": [
    "sum 함수와 range 함수를 이용하여 1-10까지 더하는 명령어를 작성해보자"
   ]
  },
  {
   "cell_type": "code",
   "execution_count": 7,
   "id": "990acc39-9da9-42d8-8899-8ddf85e95511",
   "metadata": {},
   "outputs": [
    {
     "data": {
      "text/plain": [
       "55"
      ]
     },
     "execution_count": 7,
     "metadata": {},
     "output_type": "execute_result"
    }
   ],
   "source": [
    ">>> sum(range(1, 11))"
   ]
  },
  {
   "cell_type": "code",
   "execution_count": 17,
   "id": "b8273d20-ae88-49d2-ae86-0beacf9258be",
   "metadata": {},
   "outputs": [
    {
     "data": {
      "text/plain": [
       "499500"
      ]
     },
     "execution_count": 17,
     "metadata": {},
     "output_type": "execute_result"
    }
   ],
   "source": [
    ">>> sum(range(1, 1000))"
   ]
  },
  {
   "cell_type": "code",
   "execution_count": 46,
   "id": "9f0b7209-4732-44ed-a8d7-4e89f621d29e",
   "metadata": {},
   "outputs": [
    {
     "name": "stdout",
     "output_type": "stream",
     "text": [
      "[6]\n"
     ]
    }
   ],
   "source": [
    "def IC50(x):\n",
    "    return x > 3\n",
    "\n",
    "print(list(filter( IC50, [1, -3, 2, 0, -5, 6])))"
   ]
  },
  {
   "cell_type": "code",
   "execution_count": 48,
   "id": "69d43353-0ef5-40b3-bb40-0c968dd7a036",
   "metadata": {},
   "outputs": [
    {
     "name": "stdout",
     "output_type": "stream",
     "text": [
      "[1, -3, 2, 0, -5]\n"
     ]
    }
   ],
   "source": [
    "def IC50(x):\n",
    "    return x < 3\n",
    "\n",
    "print(list(filter( IC50, [1, -3, 2, 0, -5, 6])))"
   ]
  },
  {
   "cell_type": "code",
   "execution_count": null,
   "id": "96089d2f-f74f-4eea-a6be-f804bb2cea04",
   "metadata": {},
   "outputs": [],
   "source": []
  },
  {
   "cell_type": "code",
   "execution_count": null,
   "id": "1a62a25d-6a90-414c-95ad-ec5fa85d50b4",
   "metadata": {},
   "outputs": [],
   "source": []
  }
 ],
 "metadata": {
  "kernelspec": {
   "display_name": "anaconda-panel-2023.05-py310",
   "language": "python",
   "name": "conda-env-anaconda-panel-2023.05-py310-py"
  },
  "language_info": {
   "codemirror_mode": {
    "name": "ipython",
    "version": 3
   },
   "file_extension": ".py",
   "mimetype": "text/x-python",
   "name": "python",
   "nbconvert_exporter": "python",
   "pygments_lexer": "ipython3",
   "version": "3.11.5"
  }
 },
 "nbformat": 4,
 "nbformat_minor": 5
}
