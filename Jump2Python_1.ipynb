{
 "cells": [
  {
   "cell_type": "markdown",
   "id": "bf2cbfe8-bd9c-4a33-be32-5953b59253ad",
   "metadata": {},
   "source": [
    "# **Data Science 스터디-1**\n",
    "---"
   ]
  },
  {
   "cell_type": "markdown",
   "id": "9cb6b610-9d89-45a6-bfd1-24f77cded3f1",
   "metadata": {},
   "source": [
    "- [교제: 점프 투 파이썬](https://wikidocs.net/book/1)  \n",
    "- [동영상 강의 - 조코딩](https://www.youtube.com/playlist?list=PLU9-uwewPMe05-khW3YcDEaHMk_qA-7lI) \n",
    "- [동영상 강의 - 달리나음](https://www.youtube.com/playlist?list=PL_fI-_lNaZ3h-6BGbyK6E7ucc3CXJa6Ql)\n",
    "- [책의 소스 코드](https://github.com/pahkey/jump2python)"
   ]
  },
  {
   "cell_type": "markdown",
   "id": "410f4467-b1c8-435f-a185-a3b44fa52752",
   "metadata": {},
   "source": [
    "## **01-1 파이썬이란?**\n",
    "---"
   ]
  },
  {
   "cell_type": "markdown",
   "id": "7804cb03-c02f-4777-af87-a21a75eda7d3",
   "metadata": {},
   "source": [
    "파이썬(Python)은 1990년 암스테르담의 귀도 반 로섬(Guido van rossum)이 개발한 인터프리터 언어이다. 귀도는 파이썬이라는 이름을 자신이 좋아하는 코미디 쇼인 ‘몬티 파이썬의 날아다니는 서커스(Monty python's flying circus)’에서 따왔다고 한다.\n",
    "\n",
    "> 인터프리터 언어란 소스 코드를 한 줄씩 해석한 후 그때그때 실행해 결과를 바로 확인할 수 있는 언어를 말한다.\n",
    "\n",
    "파이썬의 사전적 의미는 ‘고대 신화에 나오는 파르나소스 산의 동굴에 살던 큰 뱀’을 뜻하며, 아폴로 신이 델파이에서 파이썬을 퇴치했다는 이야기가 전해지고 있다. 대부분의 파이썬 책 표지와 아이콘이 뱀 모양으로 그려져 있는 이유는 바로 이 때문이다.\n",
    "\n",
    "![image.png](https://wikidocs.net/images/page/4307/01_1_python-logo.png)\n",
    "\n",
    "파이썬은 컴퓨터 프로그래밍을 교육할 때뿐만 아니라 기업에서 실무를 할 때도 많이 사용한다. 그 대표적인 예가 바로 구글이다. 구글에서 만든 소프트웨어의 50% 이상이 파이썬으로 작성되었다는 이야기도 있을 정도이다. 이 밖에도 인스타그램(Instagram), 넷플릭스(Netflix), 아마존(Amazon) 등 우리가 알고 있는 많은 IT 기업에서 파이썬을 사용한다.\n",
    "\n",
    "또한 파이썬 프로그램은 공동 작업과 유지 보수가 매우 쉽고 편리하다. 이 때문에 이미 다른 언어로 작성된 많은 프로그램이 파이썬으로 재구성되고 있다. 국내에서도 그 가치를 인정받아 사용자 층이 더욱 넓어지고 있고 파이썬을 사용해 프로그램을 개발하는 업체 또한 늘어나고 있는 추세이다."
   ]
  },
  {
   "cell_type": "markdown",
   "id": "2b92ee9f-c3b3-4867-90aa-7ab6731aba3b",
   "metadata": {},
   "source": [
    "## **01-2 파이썬의 특징**\n",
    "---"
   ]
  },
  {
   "cell_type": "markdown",
   "id": "7dbe6a26-9286-4d6b-8907-8622a64e5a62",
   "metadata": {},
   "source": [
    "모든 프로그래밍 언어는 저마다 장점이 있지만 파이썬은 다른 언어에서 쉽게 찾아볼 수 없는 독특한 매력을 가지고 있다. 파이썬의 특징을 알면 왜 파이썬을 공부해야 하는지, 과연 시간을 투자할 만한 가치가 있는지 판단할 수 있을 것이다.\n",
    "\n",
    "1. 파이썬은 인간다운 언어이다\n",
    "2. 문법이 쉬워 빠르게 배울 수 있다\n",
    "3. 무료이지만 강력하다\n",
    "4. 간결하다\n",
    "5. 프로그래밍을 즐기게 해 준다\n",
    "6. 개발 속도가 빠르다"
   ]
  },
  {
   "cell_type": "markdown",
   "id": "2daedeab-d835-4529-ab43-2637e223d4d1",
   "metadata": {},
   "source": [
    "### 파이썬은 인간다운 언어이다"
   ]
  },
  {
   "cell_type": "markdown",
   "id": "881edd68-c277-4ba4-887e-c90218e02112",
   "metadata": {},
   "source": [
    "프로그래밍이란 인간이 생각하는 것을 컴퓨터에 지시하는 행위를 말한다. 파이썬은 사람이 생각하는 방식을 그대로 표현할 수 있는 언어이다. 따라서 파이썬을 사용하는 프로그래머는 굳이 컴퓨터의 사고 체계에 맞추어 프로그래밍하려고 애쓸 필요가 없다. 이제 곧 어떤 프로그램을 구상하자마자 머릿속에서 생각한 대로 코드를 술술 써 내려가는 자신의 모습을 보고 놀라게 될 것이다.\n",
    "\n",
    "다음 소스 코드를 보면 이 말이 쉽게 이해될 것이다.\n",
    "\n",
    "`if 4 in [1,2,3,4]: print(\"4가 있습니다\")`\n",
    "\n",
    "이 소스 코드는 다음처럼 읽을 수 있다.\n",
    "\n",
    "`만약 4가 1, 2, 3, 4 중에 있으면 \"4가 있습니다\"를 출력한다.`\n",
    "\n",
    "프로그램을 모르더라도 직관적으로 무엇을 뜻하는지 알 수 있지 않는가? 마치 영어 문장을 읽는 듯한 착각에 빠져든다."
   ]
  },
  {
   "cell_type": "markdown",
   "id": "ba8f3a0d-54da-4e17-97a2-ce8975b04ec5",
   "metadata": {},
   "source": [
    "### 문법이 쉬워 빠르게 배울 수 있다"
   ]
  },
  {
   "cell_type": "markdown",
   "id": "556b3c18-fabc-484a-a999-21a25aef54e4",
   "metadata": {},
   "source": [
    "어려운 문법과 수많은 규칙에 둘러싸인 언어에서 벗어나고 싶지 않은가? 파이썬은 문법이 매우 쉽고 간결하며 사람의 사고 체계와 매우 닮아 있다. 배우기 쉬운 언어, 활용하기 쉬운 언어가 가장 좋은 언어가 아닐까? 유명한 프로그래머인 에릭 레이먼드(Eric raymond)는 파이썬을 공부한 지 단 하루 만에 자신이 원하는 프로그램을 작성할 수 있었다고 한다.\n",
    "\n",
    "> 프로그래밍 경험이 조금이라도 있다면 파이썬의 자료형, 함수, 클래스 만드는 법, 라이브러리 및 내장 함수 사용 방법 등을 익히는 데 일주일이면 충분하다고 생각한다."
   ]
  },
  {
   "cell_type": "markdown",
   "id": "07c554ce-51f3-4286-8891-e7a107bab961",
   "metadata": {},
   "source": [
    "### 무료이지만 강력하다"
   ]
  },
  {
   "cell_type": "markdown",
   "id": "c9c84781-2eb0-44b9-9c0e-f129615212bb",
   "metadata": {},
   "source": [
    "파이썬은 오픈 소스(open source)이므로 무료이다. 사용료 걱정 없이 언제 어디서든 파이썬을 내려받아 사용할 수 있다.\n",
    "\n",
    "> 오픈 소스란 저작권자가 소스 코드를 공개하여 누구나 별다른 제한 없이 자유롭게 사용·복제 ·배포·수정할 수 있는 소프트웨어를 말한다.\n",
    "\n",
    "또한 프로그래머는 만들고자 하는 프로그램의 대부분을 파이썬으로 만들 수 있다. 물론 시스템 프로그래밍이나 하드웨어 제어와 같은 매우 복잡하고 반복 연산이 많은 프로그램은 파이썬과 어울리지 않는다. 하지만 파이썬은 이러한 약점을 극복할 수 있도록 다른 언어로 만든 프로그램을 파이썬 프로그램에 포함시킬 수 있다.\n",
    "\n",
    "‘파이썬과 C는 찰떡궁합’이라는 말이 있다. 프로그램의 전반적인 뼈대는 파이썬으로 만들고 빠른 실행 속도가 필요한 부분은 C로 만들어서 파이썬 프로그램 안에 포함시킬 수 있기 때문이다(정말 놀라울 만큼 영악한 언어가 아닌가?). 사실 파이썬 라이브러리 중에는 파이썬만으로 제작된 것도 많지만 C로 만든 것도 많다. C로 만든 것은 대부분 속도가 빠르다.\n",
    "\n",
    "> 파이썬 라이브러리는 파이썬 프로그램을 작성할 때 불러와 사용할 수 있도록 미리 만들어 놓은 파이썬 파일의 모음을 말한다."
   ]
  },
  {
   "cell_type": "markdown",
   "id": "2422aa0e-4e74-4cbe-83be-98aa5210a10e",
   "metadata": {},
   "source": [
    "### 간결하다"
   ]
  },
  {
   "cell_type": "markdown",
   "id": "01f73c9d-944d-4e87-b814-f404929a6394",
   "metadata": {},
   "source": [
    "귀도는 파이썬을 의도적으로 간결하게 만들었다. 만약 펄(Perl)과 같은 프로그래밍 언어가 100가지 방법으로 1가지 일을 처리할 수 있다면, 파이썬은 가장 좋은 방법 1가지만 사용하는 것을 선호한다. 이 간결함의 철학은 파이썬 문법에도 그대로 녹아 있어 파이썬 프로그래밍을 하는 사람들은 잘 정리되어 있는 소스 코드를 볼 수 있다. 그 덕분에 다른 사람이 작업한 소스 코드를 이해하기 쉽고 공동 작업과 유지 보수가 매우 편리하다.\n",
    "\n",
    "다음은 파이썬 프로그램의 간결함을 보여 주는 예제이다. 지금은 이 소스 코드를 굳이 이해하려 하지 않아도 된다. 한번 구경해 보자."
   ]
  },
  {
   "cell_type": "code",
   "execution_count": 41,
   "id": "7c8da0ef-a84e-4a72-8679-80b1ee5e230b",
   "metadata": {},
   "outputs": [
    {
     "name": "stdout",
     "output_type": "stream",
     "text": [
      "python need interpreter\n",
      "  perl need interpreter\n",
      "     c need compiler\n",
      "  java need compiler\n"
     ]
    }
   ],
   "source": [
    "languages = ['python', 'perl', 'c', 'java']\n",
    "\n",
    "for lang in languages:\n",
    "    if lang in ['python', 'perl']:\n",
    "        print(\"%6s need interpreter\" % lang)\n",
    "    elif lang in ['c', 'java']:\n",
    "        print(\"%6s need compiler\" % lang)\n",
    "    else:\n",
    "        print(\"should not reach here\")"
   ]
  },
  {
   "cell_type": "markdown",
   "id": "f18ca211-5cb4-48dd-a057-b9fb8853ffb0",
   "metadata": {},
   "source": [
    "프로그래밍 언어를 판별하여 그에 맞는 문장을 출력하는 파이썬 프로그램 예제이다. 다른 언어에서 늘 보게 되는 단락을 구분하는 괄호({})가 없고 줄을 잘 맞춘 코드라는 것을 알 수 있다. 파이썬 프로그램은 줄을 맞추지 않으면 실행되지 않는다. 코드를 예쁘게 작성하려고 줄을 맞추는 것이 아니라 프로그램이 실행되게 하려면 꼭 줄을 맞추어야 하는 것이다. 이렇듯 줄을 맞추어 코드를 작성하는 행위는 가독성에 많은 도움이 된다.\n",
    "\n",
    "> 이렇게 코드의 줄을 맞추는 것을 ‘들여쓰기’라고 한다. 파이썬은 들여쓰기를 하지 않으면 프로그램이 실행되지 않는다"
   ]
  },
  {
   "cell_type": "markdown",
   "id": "b0e595c2-2ac0-4323-b33d-c2c9e2b89336",
   "metadata": {},
   "source": [
    "### 프로그래밍을 즐기게 해 준다"
   ]
  },
  {
   "cell_type": "markdown",
   "id": "2c086377-2003-454e-bf71-65f1f2970951",
   "metadata": {},
   "source": [
    "이 부분이 가장 강조하고 싶은 부분이다. 파이썬만큼 필자에게 프로그래밍을 즐기게 해 준 언어는 없었다. 파이썬은 프로그래머가 다른 부수적인 개념이나 제한 사항 등에 신경 쓸 필요 없이 만들고자 하는 기능에만 집중할 수 있게 해 준다. 파이썬을 배우고 나면 다른 언어로 프로그래밍하는 것이 지루하다고 느낄지도 모른다."
   ]
  },
  {
   "cell_type": "markdown",
   "id": "cc32ca31-f1cf-4548-b863-522534e39c69",
   "metadata": {},
   "source": [
    "### 개발 속도가 빠르다"
   ]
  },
  {
   "cell_type": "markdown",
   "id": "169ef940-d31f-45de-b3dc-e8cce80efc74",
   "metadata": {},
   "source": [
    "마지막으로 재미있는 문장으로 파이썬의 특징을 마무리하겠다.\n",
    "\n",
    "***\"Life is too short, You need python.\" (인생은 너무 짧으니 파이썬이 필요해.)***\n",
    "\n",
    "엄청나게 빠른 파이썬의 개발 속도 때문에 유행처럼 퍼진 말이다. 이 위트 있는 문장은 이 책에서 계속 예제로 사용할 것이다."
   ]
  },
  {
   "cell_type": "markdown",
   "id": "e254f8b3-ca4d-4030-ad82-ff80e7510e01",
   "metadata": {},
   "source": [
    "## **01-3 파이썬으로 무엇을 할 수 있을까?**\n",
    "---"
   ]
  },
  {
   "cell_type": "markdown",
   "id": "6bed1a9b-3980-4087-bb08-1d6478797e69",
   "metadata": {},
   "source": [
    "프로그래밍 언어를 좋은 언어와 나쁜 언어로 구별할 수 있을까? 사실 현실에서 이런 구별은 무의미하다. 어떤 언어이든 강점과 약점이 존재하기 때문이다. 따라서 어떤 프로그래밍 언어가 어떤 일에 효율적인지를 안다는 것은 프로그래머의 생산성을 크게 높일 수 있는 힘이 된다.\n",
    "\n",
    "그렇다면 파이썬으로 하기에 적당한 일과 적당하지 않은 일은 무엇일까? 이를 아는 것은 매우 가치 있는 일이므로 파이썬을 배우기 전에 간단히 알아보자."
   ]
  },
  {
   "cell_type": "markdown",
   "id": "6669d4a5-dc2c-4668-bd3f-571892259732",
   "metadata": {},
   "source": [
    "### 파이썬으로 할 수 있는 일\n",
    "---"
   ]
  },
  {
   "cell_type": "markdown",
   "id": "03c1b4de-cb92-484c-9ddf-0beb3e106be1",
   "metadata": {},
   "source": [
    "파이썬으로 할 수 있는 일은 매우 많다. 파이썬은 대부분의 프로그래밍 언어가 하는 일을 쉽고 깔끔하게 처리한다. 파이썬으로 할 수 있는 일들을 나열하자면 끝도 없지만, 대표적인 몇 가지만 소개한다."
   ]
  },
  {
   "cell_type": "markdown",
   "id": "a8c0488c-8f88-4795-8147-1873eeface04",
   "metadata": {},
   "source": [
    "### 웹 프로그래밍"
   ]
  },
  {
   "cell_type": "markdown",
   "id": "db777757-0219-4069-8fa9-4f1cad861702",
   "metadata": {},
   "source": [
    "누구나 한 번쯤 구글 크롬이나 마이크로소프트 엣지와 같은 웹 브라우저로 웹 서핑을 하면서 게시판이나 방명록에 글을 남겨 본 적이 있을 것이다. 이러한 게시판이나 방명록을 ‘웹 프로그램’이라고 한다. 파이썬은 웹 프로그램을 만들기에 매우 적합한 도구이며, 실제로 파이썬으로 제작한 웹 사이트는 셀 수 없을 정도로 많다."
   ]
  },
  {
   "cell_type": "markdown",
   "id": "16d2fa95-f883-4876-92a5-cb58ea6b2d0e",
   "metadata": {},
   "source": [
    "### 인공지능과 머신러닝"
   ]
  },
  {
   "cell_type": "markdown",
   "id": "0398998f-bf5c-42eb-8483-27d697cce3be",
   "metadata": {},
   "source": [
    "최근 인공지능(artificial Intelligence) 분야의 발전 덕분에 파이썬이 인기 언어로 떠올랐다. 인공지능은 기계가 인간처럼 생각하고 행동할 수 있는 능력을 제공하는 기술이다. 파이썬을 활용하면 자연어 처리, 음성 인식, 이미지 인식과 같은 인공지능 기술을 구현할 수 있다. 머신러닝(machine learning)은 인공지능의 한 분야로, 경험을 통해 자동으로 발전하는 컴퓨터 알고리즘을 연구하는 분야이다. 파이썬은 인공지능과 머신러닝 프로그래밍을 쉽게 할 수 있도록 사이킷런(scikit-learn), 텐서플로(TensorFlow), 파이토치(PyTorch), 케라스(Keras) 등과 같은 다양한 라이브러리를 제공한다."
   ]
  },
  {
   "cell_type": "markdown",
   "id": "26082b3b-f823-4619-8357-69c8409cb2a8",
   "metadata": {},
   "source": [
    "### 수치 연산 프로그래밍"
   ]
  },
  {
   "cell_type": "markdown",
   "id": "36220ee8-0cfc-4f8f-b827-972c89218e04",
   "metadata": {},
   "source": [
    "사실 파이썬은 수치 연산 프로그래밍에 적합한 언어가 아니다. 수치가 복잡하고 연산이 많다면 C와 같은 언어로 프로그래밍하는 것이 더 빠르기 때문이다. 하지만 파이썬은 넘파이(Numpy)라는 수치 연산 모듈을 제공한다. 이 모듈은 C로 작성했기 때문에 파이썬에서도 수치 연산을 빠르게 수행할수 있다.\n",
    "\n",
    "![Numpy](https://wikidocs.net/images/page/7/01_3_numpy.png)"
   ]
  },
  {
   "cell_type": "markdown",
   "id": "afa5f070-563a-4963-9ff4-837e8434db74",
   "metadata": {},
   "source": [
    "### 데이터 분석"
   ]
  },
  {
   "cell_type": "markdown",
   "id": "12015b12-6dfa-4d1d-8b84-6afc3d894acf",
   "metadata": {},
   "source": [
    "파이썬은 데이터 분석에 이상적인 언어로, 넘파이(NumPy), 판다스(Pandas), 맷플롯립(Matplotlib) 등과 같은 라이브러리들을 활용하여 데이터 처리, 통계 분석, 시각화를 손쉽게 수행할 수 있다. 데이터 분석을 할 때 아직까지는 데이터 분석에 특화된 R이라는 언어를 많이 사용하고 있지만, 판다스가 등장한 이래 파이썬을 사용하는 경우가 점점 많아지고 있다.\n",
    "\n",
    "![pandas](https://wikidocs.net/images/page/7/01_3_pandas.png)"
   ]
  },
  {
   "cell_type": "markdown",
   "id": "0316a1da-ab71-4086-a8a9-ad35e3fe1026",
   "metadata": {},
   "source": [
    "### 데이터베이스 프로그래밍"
   ]
  },
  {
   "cell_type": "markdown",
   "id": "164d66e5-f545-4fc4-bca5-ee052aeb9d74",
   "metadata": {},
   "source": [
    "파이썬은 사이베이스(Sybase), 인포믹스(Infomix), 오라클(Oracle), 마이에스큐엘(MySQL), 포스트그레스큐엘(PostgreSQL) 등의 데이터베이스에 접근하기 위한 도구를 제공한다.\n",
    "\n",
    "이런 굵직한 데이터베이스를 직접 사용하는 것 말고도 파이썬에는 재미있는 도구가 하나 더 있다. 바로 피클(pickle)이라는 모듈이다. 피클은 파이썬에서 사용하는 자료를 변형 없이 파일에 저장하거나 불러오는 일을 수행한다.\n",
    "\n",
    "> 피클을 어떻게 사용하고 활용하는지는 ‘05-6 표준 라이브러리’를 참고하기 바란다."
   ]
  },
  {
   "cell_type": "markdown",
   "id": "cfeb7451-c0dc-43b2-a489-9f6264939df1",
   "metadata": {},
   "source": [
    "### 시스템 유틸리티 제작하기"
   ]
  },
  {
   "cell_type": "markdown",
   "id": "4baa3929-eba7-4b5b-8f33-0e00960fd715",
   "metadata": {},
   "source": [
    "파이썬은 운영체제(윈도우, 리눅스 등)의 시스템 명령어를 사용할 수 있는 각종 도구를 갖추고 있기 때문에 이를 바탕으로 파일 관리, 로그 분석, 시스템 모니터링 등과 같은 여러 가지 시스템 유틸리티를 만드는 데 유리하다. 실제로 여러분은 시스템에서 사용 중인 서로 다른 유틸리티성 프로그램을 하나로 합쳐 보다 유용한 프로그램들을 무수히 만들어 낼 수 있다.\n",
    "\n",
    "> 유틸리티란 컴퓨터를 사용하는 데 도움을 주는 여러 가지 소프트웨어를 말한다."
   ]
  },
  {
   "cell_type": "markdown",
   "id": "8ab404b6-63a3-42cb-ae02-0e1a3e3dab09",
   "metadata": {},
   "source": [
    "### GUI 프로그래밍"
   ]
  },
  {
   "cell_type": "markdown",
   "id": "061d5bb2-374f-461e-bc7e-67e94d6ed106",
   "metadata": {},
   "source": [
    "GUI(graphic user interface) 프로그래밍이란 쉽게 말해 화면에 윈도우 창을 만들고 그 창에 프로그램을 동작시킬 수 있는 메뉴나 버튼 등을 추가하는 것을 말한다. 파이썬은 GUI 프로그래밍을 위한 도구들이 잘 갖추어져 있기 때문에 GUI 프로그램을 쉽게 만들 수 있다. 대표적인 예로 파이썬 프로그램과 함께 설치되는 Tkinter(티케이인터)를 들 수 있다. Tkinter를 사용하면 단 5줄의 소스 코드만으로 윈도우 창을 띄울 수 있다.\n",
    "\n",
    "![Tkinter](https://wikidocs.net/images/page/7/01_3_tkinter.png)"
   ]
  },
  {
   "cell_type": "markdown",
   "id": "032197ef-a9b7-499c-b3e5-afffaa5cb09c",
   "metadata": {},
   "source": [
    "### C/C++와 결합하기"
   ]
  },
  {
   "cell_type": "markdown",
   "id": "f757f712-b17c-4ebe-9430-2bd19568410f",
   "metadata": {},
   "source": [
    "파이썬은 접착(glue) 언어라고도 부르는데, 그 이유는 다른 언어와 결합해서 사용할 수 있기 때문이다. C나 C++로 만든 프로그램을 파이썬에서 사용할 수 있고 파이썬으로 만든 프로그램도 C나 C++에서 사용할 수 있다."
   ]
  },
  {
   "cell_type": "markdown",
   "id": "44542ec5-0374-43d6-a52f-01feb2a3659a",
   "metadata": {},
   "source": [
    "### 사물 인터넷"
   ]
  },
  {
   "cell_type": "markdown",
   "id": "b4a38dbf-662c-4bd9-82dc-39bd14fbfee2",
   "metadata": {},
   "source": [
    "파이썬은 사물 인터넷(Internet of things) 분야에서도 활용도가 높다. 한 예로 라즈베리파이(Raspberry pi)는 리눅스 기반의 매우 작은 컴퓨터이다. 라즈베리파이를 사용하면 홈시어터나 매우 작은 게임기 등 여러 가지 재미있는 것을 만들 수 있는데, 라즈베리파이를 제어할 때 파이썬을 사용한다. 예를 들어 라즈베리파이에 연결된 모터를 작동시키거나 LED에 불이 들어오게 하는 일을 파이썬으로 할 수 있다.\n",
    "\n",
    "![rasberry Pi](https://wikidocs.net/images/page/7/01_3_rasberry.png)"
   ]
  },
  {
   "cell_type": "markdown",
   "id": "7a871c2a-4873-4b26-9f9a-021c6e93a057",
   "metadata": {},
   "source": [
    "### 파이썬으로 할 수 없는 일\n",
    "---"
   ]
  },
  {
   "cell_type": "markdown",
   "id": "72bff27c-c9c7-48db-abc4-7c2e9342b90f",
   "metadata": {},
   "source": [
    "### 시스템과 밀접한 프로그래밍 영역"
   ]
  },
  {
   "cell_type": "markdown",
   "id": "66755b83-966b-4a2a-934d-ba3a7bc50973",
   "metadata": {},
   "source": [
    "파이썬으로 리눅스와 같은 운영체제 또는 엄청난 횟수의 반복과 연산이 필요한 프로그램을 만드는 것은 어렵다. 즉, 매우 빠른 속도를 요구하거나 하드웨어를 직접 건드려야 하는 프로그램에는 적합하지 않다."
   ]
  },
  {
   "cell_type": "markdown",
   "id": "fb7c2865-3105-4033-9006-21a8e9dade5c",
   "metadata": {},
   "source": [
    "###  모바일 프로그래밍"
   ]
  },
  {
   "cell_type": "markdown",
   "id": "886870f0-f4b3-425d-ac46-ffbcf3db50c0",
   "metadata": {
    "tags": []
   },
   "source": [
    "파이썬은 구글이 가장 많이 애용하는 언어이지만, 파이썬으로 안드로이드 네이티브 앱(android native app)을 개발하는 것은 아직 어렵다. 안드로이드에서 파이썬으로 만든 프로그램이 실행되도록 지원하기는 하지만, 이것만으로 앱을 만들기에는 아직 역부족이다. 이 밖에 아이폰 앱도 파이썬으로 개발할 수 없다."
   ]
  },
  {
   "cell_type": "markdown",
   "id": "ebd6d13a-447d-4a16-b9c5-9f463adfe998",
   "metadata": {},
   "source": [
    "## **01-4 파이썬 설치하기**\n",
    "---"
   ]
  },
  {
   "cell_type": "markdown",
   "id": "af4dccf1-5e90-4a4d-b956-6666a36de028",
   "metadata": {},
   "source": [
    "1. [Python 공식 사이트 활용](https://www.python.org/downloads/)\n",
    "2. [Anaconda 활용 - 처음 사용자에게 추천](https://www.anaconda.com/), mamba 추가 설치\n",
    "3. [Miniconda 활용](https://docs.anaconda.com/free/miniconda/index.html)\n",
    "4. [miniforge 활용 - 추천](https://github.com/conda-forge/miniforge)\n",
    "5. 클라우드 서비스 활용\n",
    "    - [Anaconda Cloud](https://anaconda.cloud/), **스터디에서 활용**\n",
    "    - [Google Colaboratory (Colab)](https://colab.research.google.com/?hl=ko)\n",
    "    - [Amazone SageMaker](https://aws.amazon.com/ko/sagemaker/)\n",
    "    - [Posit Cloud])(https://posit.cloud/)\n",
    "    - [Binder](https://mybinder.org/)"
   ]
  },
  {
   "cell_type": "markdown",
   "id": "f202ef79-fa93-4527-a2b4-2e90ade39576",
   "metadata": {},
   "source": [
    "### Terms\n",
    "There are a lot of related and similar-sounding terms being thrown around in this space and it can get confusing trying to keep track of all of them. Here is a quick lowdown on what the key terms refer to:\n",
    "\n",
    "- Anaconda Inc.: a private company that created the Anaconda distribution\n",
    "- Anaconda: a distribution of python and conda command line tools to manage python virtual environment and installation of python packages. The Anaconda distribution is controlled by Anaconda Inc.\n",
    "- Miniconda: the original Anaconda distribution is a large download that contains numerous optional packages. Miniconda was created as a more minimal distribution of python and command line tools to manage python virtual environment and installation of python packages. The miniconda distribution is also controlled by Anaconda Inc.\n",
    "- mamba: the conda command line tools for installing packages turned out to be quite slow in practice. A company called QuantStack led the development of an open source replacement package for conda called mamba that is much faster.\n",
    "- channel: when you install a package it comes from a online source called a channel. The Anaconda tools install packages by default from a channel called Main that is managed by Anaconda Inc.. mamba installs packages by default from conda-forge\n",
    "- Conda-forge: a community-managed channel for sharing python packages. This is the default channel when using mamba. The conda-forge channel is generally considered to be more up-to-date then the Anaconda Main channel\n",
    "- Mamba-forge: similar to Miniconda except that mamba is also installed and the conda-forge channel is set as the default channel for package installation"
   ]
  },
  {
   "cell_type": "markdown",
   "id": "04f307a7-b6d9-4aa9-bb78-b25067672fee",
   "metadata": {},
   "source": [
    "### **[JupyterLab / Jupyter Notebook](https://jupyter.org/)**"
   ]
  },
  {
   "cell_type": "markdown",
   "id": "5e51b6d3-158f-41dd-95ed-3d4fdca14f03",
   "metadata": {},
   "source": [
    "Free software, open standards, and web services for interactive computing across all programming languages"
   ]
  },
  {
   "cell_type": "markdown",
   "id": "c2e55c2e-83f4-444e-8ce2-9ffabaa32954",
   "metadata": {},
   "source": [
    "### JupyterLab: A Next-Generation Notebook Interface"
   ]
  },
  {
   "cell_type": "markdown",
   "id": "5ef3435b-bd43-4b4a-8ef2-490012466eb9",
   "metadata": {},
   "source": [
    "JupyterLab is the latest web-based interactive development environment for notebooks, code, and data. Its flexible interface allows users to configure and arrange workflows in data science, scientific computing, computational journalism, and machine learning. A modular design invites extensions to expand and enrich functionality.\n",
    "![JupyterLab](https://jupyter.org/assets/homepage/labpreview.webp)"
   ]
  },
  {
   "cell_type": "markdown",
   "id": "ede41cba-0136-4e41-b54d-a5dbe94e0708",
   "metadata": {},
   "source": [
    "### Kernels"
   ]
  },
  {
   "cell_type": "markdown",
   "id": "3e5210d1-cf23-409c-9196-e14b79933cce",
   "metadata": {},
   "source": [
    "Jupyter kernels allow you to use Jupyter interfaces and tools with **any programming language**.\n",
    "> Python, C++, Julia, GNU Octave, R, Ruby, Scheme"
   ]
  },
  {
   "cell_type": "markdown",
   "id": "9a4f49e4-1de0-41e6-a267-862495731bc7",
   "metadata": {},
   "source": [
    "## **01-5 Jupyterlab 둘러보기**\n",
    "--- "
   ]
  },
  {
   "cell_type": "markdown",
   "id": "a549f938-8f18-46fc-a6d5-b71dce41fd7e",
   "metadata": {},
   "source": [
    "- from [GitHub Gist of Jeff Hale](https://gist.github.com/discdiver/9e00618756d120a8c9fa344ac1c375ac)\n",
    "\n",
    "If you are on a Mac, substitute `command` for `control`. Don't type the _+_ (it means press both keys at once).\n",
    "\n",
    "Shortcuts when in either _command mode_ (outside the cells) or _edit mode_ (inside a cell):\n",
    "---\n",
    "- `Shift` + `Enter` run selected cell or cells - if no cells below, insert a code cell below\n",
    "\n",
    "- `Ctrl` + `B` toggle hide/show left sidebar\n",
    "\n",
    "- `Ctrl` + `S` save and checkpoint\n",
    "- `Ctrl` + `Shift` + `S` save as\n",
    "- `Ctrl` + `F` find \n",
    "\n",
    "Shortcuts when in _command mode_ (outside the cells, no blinking cursor):\n",
    "---\n",
    "- `Enter` enter _edit mode_ in the active cell\n",
    "\n",
    "- Scroll up with the up arrow \n",
    "- Scroll down with the down arrow\n",
    "\n",
    "- `A` insert a new cell above the active cell\n",
    "- `B` insert a new cell below the active cell\n",
    "\n",
    "- `M` make the active cell a Markdown cell\n",
    "- `Y` make the active cell a code cell\n",
    "\n",
    "- `Shift` + `Up Arrow` select the current cell and the cell above\n",
    "- `Shift` + `Down Arrow` select the current cell and the cell below\n",
    "- `Ctrl` + `A` select all cells\n",
    "\n",
    "- `X` cut the selected cell or cells\n",
    "- `C` copy the selected cell or cells\n",
    "- `V` paste the cell(s) which were copied or cut most recently\n",
    "\n",
    "- `Shift + M` merge multiple selected cells into one cell\n",
    "\n",
    "- `DD` (`D` twice) delete the active cell\n",
    "- `00` (Zero twice) restart the kernel\n",
    "\n",
    "- `Z` undo most recent command mode action\n",
    "\n",
    "Shortcuts when in _edit mode_ (inside a cell with a blinking cursor):\n",
    "---\n",
    "\n",
    "- `Esc` enter _command mode_\n",
    "\n",
    "- `Tab` code completion (or indent if at start of line)\n",
    "- `Shift` + `Tab` tooltip help\n",
    "- `Ctrl` + `Shift` + `-` split the active cell at the cursor\n",
    "\n",
    "The usual commands for code editors:\n",
    "\n",
    "- `Ctrl` + `]` indent\n",
    "- `Ctrl` + `[` dedent\n",
    "\n",
    "- `Ctrl` + `/` toggle comment\n",
    "\n",
    "Plus the usual shortcuts for select all, cut, copy, paste, undo, etc."
   ]
  },
  {
   "cell_type": "markdown",
   "id": "9a3b8999-b527-4c5b-9cd6-f7500bb1d1ef",
   "metadata": {},
   "source": [
    "See `JupyterLab Reference` & `Makrkdown Reference` of Help menu"
   ]
  },
  {
   "cell_type": "markdown",
   "id": "267983a3-8921-49b5-a3bd-abf16ff071b6",
   "metadata": {},
   "source": []
  },
  {
   "cell_type": "code",
   "execution_count": null,
   "id": "d267a948-cb2d-417f-a4e8-6c186231eba1",
   "metadata": {},
   "outputs": [],
   "source": []
  },
  {
   "cell_type": "code",
   "execution_count": null,
   "id": "beb18958-4ecd-41e2-aa61-b2307dad3c9b",
   "metadata": {},
   "outputs": [],
   "source": []
  }
 ],
 "metadata": {
  "kernelspec": {
   "display_name": "anaconda-2022.05-py39",
   "language": "python",
   "name": "conda-env-anaconda-2022.05-py39-py"
  },
  "language_info": {
   "codemirror_mode": {
    "name": "ipython",
    "version": 3
   },
   "file_extension": ".py",
   "mimetype": "text/x-python",
   "name": "python",
   "nbconvert_exporter": "python",
   "pygments_lexer": "ipython3",
   "version": "3.9.12"
  }
 },
 "nbformat": 4,
 "nbformat_minor": 5
}
