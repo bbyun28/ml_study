{
 "cells": [
  {
   "cell_type": "markdown",
   "id": "d4e7f886-dce1-40da-b329-4581e0b109aa",
   "metadata": {},
   "source": [
    "# **05장 파이썬 날개달기**"
   ]
  },
  {
   "cell_type": "markdown",
   "id": "be6e8cfe-f0d1-4c74-9748-373e47243ec5",
   "metadata": {},
   "source": [
    "## **05-1 클래스**"
   ]
  },
  {
   "cell_type": "markdown",
   "id": "37bb25c6-cb2b-433c-9370-ed4a9fa2c54f",
   "metadata": {},
   "source": [
    "### **게임 캐릭터로 클래스 이해하기**  \n",
    "\n",
    "[코딩도장- 클래스](https://dojang.io/mod/page/view.php?id=2372)"
   ]
  },
  {
   "attachments": {},
   "cell_type": "markdown",
   "id": "b87b5ead-35d8-4da7-a0c9-6012058d6326",
   "metadata": {},
   "source": [
    "클래스는 객체를 표현하기 위한 문법입니다. 예를 들어 게임을 만든다고 하면 기사, 마법사, 궁수, 사제 등 직업별로 클래스를 만들어서 표현할 수 있습니다.  \n",
    "![캐릭터 이미지](https://dojang.io/pluginfile.php/13876/mod_page/content/6/034001.jpg)  \n",
    "\n",
    "지금까지 나온 기사, 마법사, 궁수, 사제, 집, 자동차, 나무, 스크롤 바, 버튼, 체크 박스처럼 특정한 개념이나 모양으로 존재하는 것을 객체(object)라고 부릅니다. 그리고 프로그래밍으로 객체를 만들 때 사용하는 것이 클래스입니다.  \n",
    "\n",
    "그럼 게임의 기사 캐릭터를 클래스로 표현하려면 무엇이 필요할까요? 간단합니다. 일단 게임 캐릭터는 체력, 마나, 물리 공격력, 주문력 등이 필요합니다. 그리고 기사 캐릭터는 칼로 베기, 찌르기 등의 스킬이 있어야 합니다. \n",
    "\n",
    "![속성과 메서드](https://dojang.io/pluginfile.php/13876/mod_page/content/6/034003.png)  \n"
   ]
  },
  {
   "cell_type": "markdown",
   "id": "e9a19cf3-bdfa-490e-b35a-45aca1274692",
   "metadata": {},
   "source": [
    "## **계산기 프로그램을 만들며 클래스 알아보기**"
   ]
  },
  {
   "cell_type": "markdown",
   "id": "77e55b06-e4e9-49c2-aabc-41efc3a360a1",
   "metadata": {},
   "source": [
    "‘백견(百見)이 불여일타(一打)’라고 했다. 클래스를 직접 만들며 배워 보자. 여기에서는 사칙 연산을 하는 클래스를 만들어 볼 것이다. 사칙 연산은 더하기, 빼기, 곱하기, 나누기를 말한다.  클래스는 무작정 만드는 것보다 클래스로 만든 객체를 중심으로 어떤 식으로 동작하게 할지 미리 구상한 후 생각한 것을 하나씩 만들면서 완성해 나가는 것이 좋다.\n",
    "\n",
    "![클래스 구상](https://wikidocs.net/images/page/28/05_1_class1.png)"
   ]
  },
  {
   "cell_type": "code",
   "execution_count": 8,
   "id": "9428f41d-edb5-46b2-a863-e5438b188f2a",
   "metadata": {},
   "outputs": [],
   "source": [
    "class FourCal:\n",
    "    def setdata(self, first, second):        # setdata는 FourCal 클래스의 메서드\n",
    "        self.first = first\n",
    "        self.second = second\n",
    "    def add(self):                           # add는 FourCal 클래스의 메서드\n",
    "        result = self.first + self.second\n",
    "        return result\n",
    "    def mul(self):                           # mul는 FourCal 클래스의 메서드\n",
    "        result = self.first * self.second\n",
    "        return result\n",
    "    def sub(self):                           # sub는 FourCal 클래스의 메서드\n",
    "        result = self.first - self.second\n",
    "        return result\n",
    "    def div(self):                           # div는 FourCal 클래스의 메서드\n",
    "        result = self.first / self.second\n",
    "        return result"
   ]
  },
  {
   "cell_type": "code",
   "execution_count": 9,
   "id": "794230cf-b9c4-4aac-9ee4-ebe00b9c819b",
   "metadata": {},
   "outputs": [],
   "source": [
    "a = FourCal()  # a는 FourCal 클래스의 객체\n",
    "b = FourCal()  # b는 FourCal 클래스의 객체"
   ]
  },
  {
   "cell_type": "markdown",
   "id": "37466a55-d3d7-4a40-83c0-6f588bc77e30",
   "metadata": {},
   "source": [
    "클래스로 만든 객체에는 중요한 특징이 있다. 바로 객체마다 고유한 성격을 가진다는 것이다. 동일한 클래스로 만든 객체들은 서로 전혀 영향을 주지 않는다."
   ]
  },
  {
   "cell_type": "code",
   "execution_count": 11,
   "id": "b1aa8f58-342b-45a1-9219-deff4c95e936",
   "metadata": {},
   "outputs": [],
   "source": [
    "a.setdata(4, 2)\n",
    "b.setdata(3, 7)"
   ]
  },
  {
   "cell_type": "code",
   "execution_count": 12,
   "id": "29d9fea1-ba94-4260-8d5c-2a7664290762",
   "metadata": {},
   "outputs": [
    {
     "data": {
      "text/plain": [
       "4"
      ]
     },
     "execution_count": 12,
     "metadata": {},
     "output_type": "execute_result"
    }
   ],
   "source": [
    "a.first"
   ]
  },
  {
   "cell_type": "code",
   "execution_count": 13,
   "id": "3c9814a9-3e94-41e1-a149-69c895f2d5e0",
   "metadata": {},
   "outputs": [
    {
     "data": {
      "text/plain": [
       "2"
      ]
     },
     "execution_count": 13,
     "metadata": {},
     "output_type": "execute_result"
    }
   ],
   "source": [
    "a.second"
   ]
  },
  {
   "cell_type": "code",
   "execution_count": 14,
   "id": "0c819548-ef4e-4e11-8811-ad86eb401800",
   "metadata": {},
   "outputs": [
    {
     "data": {
      "text/plain": [
       "6"
      ]
     },
     "execution_count": 14,
     "metadata": {},
     "output_type": "execute_result"
    }
   ],
   "source": [
    "a.add()"
   ]
  },
  {
   "cell_type": "code",
   "execution_count": 15,
   "id": "c7508153-504e-4a62-8ddf-e4d43d69a349",
   "metadata": {},
   "outputs": [
    {
     "data": {
      "text/plain": [
       "8"
      ]
     },
     "execution_count": 15,
     "metadata": {},
     "output_type": "execute_result"
    }
   ],
   "source": [
    "a.mul()"
   ]
  },
  {
   "cell_type": "code",
   "execution_count": 16,
   "id": "4958522a-bcec-4b7f-980e-3c4894b26b1b",
   "metadata": {},
   "outputs": [
    {
     "data": {
      "text/plain": [
       "2"
      ]
     },
     "execution_count": 16,
     "metadata": {},
     "output_type": "execute_result"
    }
   ],
   "source": [
    "a.sub()"
   ]
  },
  {
   "cell_type": "code",
   "execution_count": 17,
   "id": "2f66abc6-2133-480d-a9d3-89dfc5f132f9",
   "metadata": {},
   "outputs": [
    {
     "data": {
      "text/plain": [
       "2.0"
      ]
     },
     "execution_count": 17,
     "metadata": {},
     "output_type": "execute_result"
    }
   ],
   "source": [
    "a.div()"
   ]
  },
  {
   "cell_type": "code",
   "execution_count": 18,
   "id": "c991079a-7af4-4cb4-9ff1-dd19d1cd98f0",
   "metadata": {},
   "outputs": [
    {
     "data": {
      "text/plain": [
       "10"
      ]
     },
     "execution_count": 18,
     "metadata": {},
     "output_type": "execute_result"
    }
   ],
   "source": [
    "b.add()"
   ]
  },
  {
   "cell_type": "markdown",
   "id": "6bd39e90-f2b7-4be1-898e-8e78351c260b",
   "metadata": {},
   "source": [
    "그런데 뭔가 좀 이상하지 않은가? setdata 메서드에는 self, first, second 총 3개의 매개변수가 필요한데 실제로는 a.setdata(4, 2)처럼 2개의 값만 전달했다. 왜 그럴까? a.setdata(4, 2)처럼 호출하면 setdata 메서드의 첫 번째 매개변수 self에는 setdata 메서드를 호출한 객체 a가 자동으로 전달되기 때문이다. 다음 그림을 보면 객체를 호출할 때 입력한 값이 메서드에 어떻게 전달되는지 쉽게 이해할 수 있을 것이다.  \n",
    "파이썬 메서드의 첫 번째 매개변수 이름은 관례적으로 self를 사용한다. 객체를 호출할 때 호출한 객체 자신이 전달되기 때문에 self라는 이름을 사용한 것이다. 물론 self말고 다른 이름을 사용해도 상관없다.\n",
    "\n",
    "![self](https://wikidocs.net/images/page/28/05_1_class2.png)"
   ]
  },
  {
   "cell_type": "markdown",
   "id": "17338c24-286e-42c4-8b09-0c9428833815",
   "metadata": {},
   "source": [
    "a.setdata(4, 2)처럼 호출하면 setdata 메서드의 매개변수 first, second에는 각각 값 4와 2가 전달되어 setdata 메서드의 수행문이 다음과 같이 해석된다.  \n",
    "\n",
    "self.first = 4  \n",
    "self.second = 2\n",
    "\n",
    "self는 전달된 객체 a이므로 다시 다음과 같이 해석된다.  \n",
    "\n",
    "a.first = 4  \n",
    "a.second = 2  \n",
    "\n",
    "a.first = 4라는 문장이 수행되면 a 객체에 객체변수 first가 생성되고 4라는 값이 저장된다. \n",
    "\n",
    "**객체에 생성되는 객체만의 변수를 ‘객체변수’ 또는 ‘속성’이라고 부른다.**"
   ]
  },
  {
   "cell_type": "markdown",
   "id": "2b8ba36d-4de3-4a62-8929-0aef72a6a3f7",
   "metadata": {},
   "source": [
    "### **생성자**  \n",
    "생성자(constructor)란 객체가 생성될 때 자동으로 호출되는 메서드를 의미한다. 파이썬 메서드명으로 __init__를 사용하면 이 메서드는 생성자가 된다."
   ]
  },
  {
   "cell_type": "code",
   "execution_count": 22,
   "id": "6c0ce475-d312-4fa0-bcb6-2e9a8b140970",
   "metadata": {},
   "outputs": [],
   "source": [
    "class FourCal:\n",
    "    def __init__(self, first, second):\n",
    "        self.first = first\n",
    "        self.second = second\n",
    "    def setdata(self, first, second):\n",
    "        self.first = first\n",
    "        self.second = second\n",
    "    def add(self):\n",
    "        result = self.first + self.second\n",
    "        return result\n",
    "    def mul(self):\n",
    "        result = self.first * self.second\n",
    "        return result\n",
    "    def sub(self):\n",
    "        result = self.first - self.second\n",
    "        return result\n",
    "    def div(self):\n",
    "        result = self.first / self.second\n",
    "        return result"
   ]
  },
  {
   "cell_type": "markdown",
   "id": "8154c71d-48be-459c-bc96-4d90ab931c23",
   "metadata": {},
   "source": [
    "\\_\\_init__ 메서드는 setdata 메서드와 이름만 다르고 모든 게 동일하다. 단, 메서드 이름을 __init__로 했기 때문에 생성자로 인식되어 객체가 생성되는 시점에 자동으로 호출된다는 차이가 있다."
   ]
  },
  {
   "cell_type": "code",
   "execution_count": 24,
   "id": "8327ec61-3dbc-4a17-95f4-9d01796bed8f",
   "metadata": {},
   "outputs": [],
   "source": [
    "a = FourCal(4, 2)"
   ]
  },
  {
   "cell_type": "code",
   "execution_count": 25,
   "id": "29db3862-2f0e-49bf-aefc-9d3c68f71137",
   "metadata": {},
   "outputs": [
    {
     "data": {
      "text/plain": [
       "4"
      ]
     },
     "execution_count": 25,
     "metadata": {},
     "output_type": "execute_result"
    }
   ],
   "source": [
    "a.first"
   ]
  },
  {
   "cell_type": "code",
   "execution_count": 26,
   "id": "9b9dea9d-0c29-42db-9b85-0d46835535f9",
   "metadata": {},
   "outputs": [
    {
     "data": {
      "text/plain": [
       "2"
      ]
     },
     "execution_count": 26,
     "metadata": {},
     "output_type": "execute_result"
    }
   ],
   "source": [
    "a.second"
   ]
  },
  {
   "cell_type": "code",
   "execution_count": 27,
   "id": "949bc5bd-6a53-43a7-ba6c-7bac014bd1b3",
   "metadata": {},
   "outputs": [],
   "source": [
    "a.setdata(3, 5)"
   ]
  },
  {
   "cell_type": "code",
   "execution_count": 28,
   "id": "0052f18b-e60c-44c6-837a-bbdd9180ac84",
   "metadata": {},
   "outputs": [
    {
     "data": {
      "text/plain": [
       "3"
      ]
     },
     "execution_count": 28,
     "metadata": {},
     "output_type": "execute_result"
    }
   ],
   "source": [
    "a.first"
   ]
  },
  {
   "cell_type": "code",
   "execution_count": 29,
   "id": "663cb864-b08b-4123-afbe-fcdd41d6d89f",
   "metadata": {},
   "outputs": [
    {
     "data": {
      "text/plain": [
       "8"
      ]
     },
     "execution_count": 29,
     "metadata": {},
     "output_type": "execute_result"
    }
   ],
   "source": [
    "a.add()"
   ]
  },
  {
   "cell_type": "markdown",
   "id": "6f238a9b-54bf-460f-aa71-97ec2d43ce5c",
   "metadata": {},
   "source": [
    "### **클래스의 상속**  \n",
    "상속(Inheritance)이란 ‘물려받다’라는 뜻으로, ‘재산을 상속받다’라고 할 때의 상속과 같은 의미이다. 클래스에도 이 개념을 적용할 수 있다. 어떤 클래스를 만들 때 다른 클래스의 기능을 물려받을 수 있게 만드는 것이다. 이번에는 상속 개념을 사용하여 우리가 만든 FourCal 클래스에 \n",
    "a^b  값을 구할 수 있는 기능을 추가해 보자 MoreFourCal 클래스는 FourCal 클래스를 상속했으므로 FourCal 클래스의 모든 기능을 사용할 수 있다.."
   ]
  },
  {
   "cell_type": "code",
   "execution_count": 31,
   "id": "a83ed8f2-4dd3-46f1-a79c-b7f466a26296",
   "metadata": {},
   "outputs": [],
   "source": [
    "class MoreFourCal(FourCal):\n",
    "    def pow(self):\n",
    "        result = self.first ** self.second\n",
    "        return result"
   ]
  },
  {
   "cell_type": "code",
   "execution_count": 32,
   "id": "4cf2ea38-b94b-472b-a542-b192e8334dd5",
   "metadata": {},
   "outputs": [
    {
     "data": {
      "text/plain": [
       "5"
      ]
     },
     "execution_count": 32,
     "metadata": {},
     "output_type": "execute_result"
    }
   ],
   "source": [
    "a = MoreFourCal(3,2)\n",
    "a.add()"
   ]
  },
  {
   "cell_type": "code",
   "execution_count": 33,
   "id": "6212afb9-91d7-4687-bc49-170340debfee",
   "metadata": {},
   "outputs": [
    {
     "data": {
      "text/plain": [
       "9"
      ]
     },
     "execution_count": 33,
     "metadata": {},
     "output_type": "execute_result"
    }
   ],
   "source": [
    "a.pow()"
   ]
  },
  {
   "cell_type": "markdown",
   "id": "5eeae8a9-6a30-4544-bab4-7457f6b54703",
   "metadata": {},
   "source": [
    "### **메서드 오버라이딩**  \n",
    "부모 클래스(상속한 클래스)에 있는 메서드를 동일한 이름으로 다시 만드는 것을 메서드 오버라이딩(method overriding)이라고 한다. 이렇게 메서드를 오버라이딩하면 부모 클래스의 메서드 대신 오버라이딩한 메서드가 호출된다."
   ]
  },
  {
   "cell_type": "code",
   "execution_count": 35,
   "id": "c7c32a61-2d12-4941-b4e5-acccd00ee287",
   "metadata": {},
   "outputs": [],
   "source": [
    "class SafeFourCal(FourCal):\n",
    "    def div(self):\n",
    "        if self.second == 0:  # 나누는 값이 0인 경우 0을 리턴하도록 수정\n",
    "            return 0\n",
    "        else:\n",
    "            return self.first / self.second"
   ]
  },
  {
   "cell_type": "code",
   "execution_count": 36,
   "id": "283700ab-984a-404f-8106-8fc66f701669",
   "metadata": {},
   "outputs": [
    {
     "ename": "ZeroDivisionError",
     "evalue": "division by zero",
     "output_type": "error",
     "traceback": [
      "\u001b[0;31m---------------------------------------------------------------------------\u001b[0m",
      "\u001b[0;31mZeroDivisionError\u001b[0m                         Traceback (most recent call last)",
      "Cell \u001b[0;32mIn[36], line 2\u001b[0m\n\u001b[1;32m      1\u001b[0m a \u001b[38;5;241m=\u001b[39m FourCal(\u001b[38;5;241m4\u001b[39m, \u001b[38;5;241m0\u001b[39m)\n\u001b[0;32m----> 2\u001b[0m a\u001b[38;5;241m.\u001b[39mdiv()\n",
      "Cell \u001b[0;32mIn[22], line 18\u001b[0m, in \u001b[0;36mFourCal.div\u001b[0;34m(self)\u001b[0m\n\u001b[1;32m     17\u001b[0m \u001b[38;5;28;01mdef\u001b[39;00m \u001b[38;5;21mdiv\u001b[39m(\u001b[38;5;28mself\u001b[39m):\n\u001b[0;32m---> 18\u001b[0m     result \u001b[38;5;241m=\u001b[39m \u001b[38;5;28mself\u001b[39m\u001b[38;5;241m.\u001b[39mfirst \u001b[38;5;241m/\u001b[39m \u001b[38;5;28mself\u001b[39m\u001b[38;5;241m.\u001b[39msecond\n\u001b[1;32m     19\u001b[0m     \u001b[38;5;28;01mreturn\u001b[39;00m result\n",
      "\u001b[0;31mZeroDivisionError\u001b[0m: division by zero"
     ]
    }
   ],
   "source": [
    "a = FourCal(4, 0)\n",
    "a.div()"
   ]
  },
  {
   "cell_type": "code",
   "execution_count": 81,
   "id": "672d932d-e966-48a3-8fd6-8c8acc6761e5",
   "metadata": {},
   "outputs": [
    {
     "data": {
      "text/plain": [
       "0"
      ]
     },
     "execution_count": 81,
     "metadata": {},
     "output_type": "execute_result"
    }
   ],
   "source": [
    "a = SafeFourCal(4, 0)\n",
    "a.div()"
   ]
  },
  {
   "cell_type": "markdown",
   "id": "e2b49733-ac6a-44b1-9a0c-6649882c81a6",
   "metadata": {},
   "source": [
    "### **클래스 변수**  \n",
    "객체변수는 다른 객체들의 영향을 받지 않고 독립적으로 그 값을 유지한다는 점을 이미 알아보았다. 이번에는 객체변수와는 성격이 다른 클래스변수에 대해 알아보자."
   ]
  },
  {
   "cell_type": "code",
   "execution_count": 83,
   "id": "8c948ce7-0618-4ac7-a665-f82ecd459dcf",
   "metadata": {},
   "outputs": [],
   "source": [
    "class Family:\n",
    "    lastname = \"김\""
   ]
  },
  {
   "cell_type": "code",
   "execution_count": 84,
   "id": "8399a00f-c3db-4f94-bfe4-883a9002bae4",
   "metadata": {},
   "outputs": [
    {
     "data": {
      "text/plain": [
       "'김'"
      ]
     },
     "execution_count": 84,
     "metadata": {},
     "output_type": "execute_result"
    }
   ],
   "source": [
    "Family.lastname"
   ]
  },
  {
   "cell_type": "code",
   "execution_count": 85,
   "id": "45c6d011-f651-4737-87bc-237397ebadcf",
   "metadata": {},
   "outputs": [],
   "source": [
    "a = Family()\n",
    "b = Family()"
   ]
  },
  {
   "cell_type": "code",
   "execution_count": 86,
   "id": "b75a8caf-8c1c-4e34-be74-8ebafe8d2730",
   "metadata": {},
   "outputs": [
    {
     "data": {
      "text/plain": [
       "'김'"
      ]
     },
     "execution_count": 86,
     "metadata": {},
     "output_type": "execute_result"
    }
   ],
   "source": [
    "a.lastname"
   ]
  },
  {
   "cell_type": "code",
   "execution_count": 87,
   "id": "31a87247-e5bc-4e4a-86e5-af9fa3d62e88",
   "metadata": {},
   "outputs": [
    {
     "data": {
      "text/plain": [
       "'김'"
      ]
     },
     "execution_count": 87,
     "metadata": {},
     "output_type": "execute_result"
    }
   ],
   "source": [
    "b.lastname"
   ]
  },
  {
   "cell_type": "code",
   "execution_count": 88,
   "id": "421f8e4d-b9bc-484a-8d0a-c5ca45a5c375",
   "metadata": {},
   "outputs": [],
   "source": [
    "Family.lastname = \"박\""
   ]
  },
  {
   "cell_type": "code",
   "execution_count": 89,
   "id": "1ad763d4-1744-410d-aefd-54a27ea457b6",
   "metadata": {},
   "outputs": [
    {
     "data": {
      "text/plain": [
       "'박'"
      ]
     },
     "execution_count": 89,
     "metadata": {},
     "output_type": "execute_result"
    }
   ],
   "source": [
    "a.lastname"
   ]
  },
  {
   "cell_type": "code",
   "execution_count": 90,
   "id": "66b0a1eb-e4eb-4f42-ac7f-d9122de2e131",
   "metadata": {},
   "outputs": [
    {
     "data": {
      "text/plain": [
       "'박'"
      ]
     },
     "execution_count": 90,
     "metadata": {},
     "output_type": "execute_result"
    }
   ],
   "source": [
    "b.lastname"
   ]
  },
  {
   "cell_type": "code",
   "execution_count": null,
   "id": "fb70c63f-f1aa-44f2-bf0d-38e07a767ae4",
   "metadata": {},
   "outputs": [],
   "source": []
  },
  {
   "cell_type": "code",
   "execution_count": null,
   "id": "365c4614-e4cc-4d02-8329-d324ec609554",
   "metadata": {},
   "outputs": [],
   "source": []
  },
  {
   "cell_type": "markdown",
   "id": "7a6977d4-090d-4c49-a8eb-a14c38cee3b3",
   "metadata": {},
   "source": [
    "## **05-2 모듈**"
   ]
  },
  {
   "cell_type": "markdown",
   "id": "1d7d3541-bebb-42b8-b7c1-0bf710ee382c",
   "metadata": {},
   "source": [
    "모듈이란 함수나 변수 또는 클래스를 모아 놓은 파이썬 파일이다. 모듈은 다른 파이썬 프로그램에서 불러와 사용할 수 있도록 만든 파이썬 파일이라고도 할 수 있다. 우리는 파이썬으로 프로그래밍을 할 때 매우 많은 모듈을 사용한다. 다른 사람들이 이미 만들어 놓은 모듈을 사용할 수도 있고 우리가 직접 만들어 사용할 수도 있다. 여기에서는 모듈을 어떻게 만들고 사용할 수 있는지 알아본다.  \n",
    "\n",
    "![모듈](https://wikidocs.net/images/page/29/05_2_mod1.png)"
   ]
  },
  {
   "cell_type": "markdown",
   "id": "e5440019-b2a3-4a36-903e-a2b80096ae0c",
   "metadata": {},
   "source": [
    "<span style=\"background-color:violet\"> **주피터 노트북에서 파이썬 파일 (확장자 .py) 만들기**   </span>\n",
    "\n",
    "1. 왼쪽 상단 파란색 + 버튼 (Launcher) , Others의 \"Python File\" 클릭\n",
    "2. %%writefile 파일이름.py\n"
   ]
  },
  {
   "cell_type": "code",
   "execution_count": 94,
   "id": "6a383ef1-9c25-44c1-ae86-0320c9115af6",
   "metadata": {},
   "outputs": [
    {
     "name": "stdout",
     "output_type": "stream",
     "text": [
      "Writing mod1.py\n"
     ]
    }
   ],
   "source": [
    "%%writefile mod1.py\n",
    "def add(a, b):\n",
    "    return a + b\n",
    "\n",
    "def sub(a, b):\n",
    "    return a - b"
   ]
  },
  {
   "cell_type": "markdown",
   "id": "50032bdc-38fe-430f-8a12-0adee075322e",
   "metadata": {},
   "source": [
    "위와 같이 add와 sub 함수만 있는 파일 mod1.py를 만들고 현재 디렉터리에 저장하자. 이 mod1.py 파일이 바로 모듈이다. 지금까지 에디터로 만든 파이썬 파일과 다르지 않다. 파이썬 확장자 .py로 만든 파이썬 파일은 모두 모듈이다."
   ]
  },
  {
   "cell_type": "markdown",
   "id": "20a48001-9fc4-407a-9807-f1d495f71456",
   "metadata": {},
   "source": [
    "### **모듈 불러오기**  \n",
    "mod1.py 모듈을 불러오기 위해 import mod1이라고 입력했다. 실수로 import mod1.py라고 입력하지 않도록 주의하자. 반드시 mod1.py 파일을 저장한 디렉터리로 이동한 후 예제를 진행해야 한다. import는 현재 디렉터리에 있는 파일이나 파이썬 라이브러리가 저장된 디렉터리에 있는 모듈만 불러올 수 있다. "
   ]
  },
  {
   "cell_type": "code",
   "execution_count": 97,
   "id": "ee1479c6-5275-4348-810b-a85bac841669",
   "metadata": {},
   "outputs": [
    {
     "data": {
      "text/plain": [
       "7"
      ]
     },
     "execution_count": 97,
     "metadata": {},
     "output_type": "execute_result"
    }
   ],
   "source": [
    "import mod1\n",
    "mod1.add(3, 4)"
   ]
  },
  {
   "cell_type": "code",
   "execution_count": 98,
   "id": "1e00a957-ba46-4d90-8284-db54b082991a",
   "metadata": {},
   "outputs": [
    {
     "data": {
      "text/plain": [
       "2"
      ]
     },
     "execution_count": 98,
     "metadata": {},
     "output_type": "execute_result"
    }
   ],
   "source": [
    "mod1.sub(4, 2)"
   ]
  },
  {
   "cell_type": "markdown",
   "id": "34fb2926-ed90-4722-83f8-fcdbcb6a1651",
   "metadata": {},
   "source": [
    "때로는 mod1.add, mod1.sub처럼 쓰지 않고 add, sub처럼 모듈 이름 없이 함수 이름만 쓰고 싶은 경우도 있을 것이다. 이럴 때는 다음과 같이 사용하면 된다.  \n",
    "from 모듈_이름 import 모듈_함수"
   ]
  },
  {
   "cell_type": "code",
   "execution_count": 100,
   "id": "2c5a0f10-a252-4248-bf90-01e63022094d",
   "metadata": {},
   "outputs": [
    {
     "data": {
      "text/plain": [
       "7"
      ]
     },
     "execution_count": 100,
     "metadata": {},
     "output_type": "execute_result"
    }
   ],
   "source": [
    "from mod1 import add\n",
    "add(3, 4)"
   ]
  },
  {
   "cell_type": "markdown",
   "id": "bf6eb999-6816-43c8-a02e-048b54aa6e61",
   "metadata": {},
   "source": [
    "그런데 이렇게 하면 mod1.py 파일의 add 함수 하나만 사용할 수 있다. add 함수와 sub 함수 둘 다 모듈 이름을 붙이지 않고 사용하려면 어떻게 해야 할까?  \n",
    "\n",
    "첫 번째 방법은 from 모듈_이름 import 모듈_함수1, 모듈_함수2처럼 사용하는 것이다. 쉼표(,)로 구분하여 필요한 함수를 불러올 수 있다.  \n",
    "두 번째 방법은 * 문자를 사용하는 것이다. 08장에서 공부할 정규 표현식에서 * 문자는 ‘모든 것’이라는 뜻인데, 파이썬에서도 같은 의미로 사용한다. 따라서 from mod1 import *은 mod1 모듈의 모든 함수를 불러와 사용하겠다는 뜻이다."
   ]
  },
  {
   "cell_type": "code",
   "execution_count": 102,
   "id": "c50dc933-99aa-47f9-8fdc-5d27db35cac9",
   "metadata": {},
   "outputs": [],
   "source": [
    "from mod1 import add, sub"
   ]
  },
  {
   "cell_type": "code",
   "execution_count": 103,
   "id": "2cbbe532-98fb-4e6b-8a9b-6b3ef44b247f",
   "metadata": {},
   "outputs": [],
   "source": [
    "from mod1 import *"
   ]
  },
  {
   "cell_type": "markdown",
   "id": "8fd21a61-da66-4875-b547-a56f47567f7d",
   "metadata": {},
   "source": [
    "### **if \\_\\_name__ == \"\\_\\_main__\":의 의미**"
   ]
  },
  {
   "cell_type": "code",
   "execution_count": 105,
   "id": "1911d9a6-443f-40c5-8d24-a47a95002549",
   "metadata": {},
   "outputs": [
    {
     "name": "stdout",
     "output_type": "stream",
     "text": [
      "Overwriting mod1.py\n"
     ]
    }
   ],
   "source": [
    "%%writefile mod1.py\n",
    "def add(a, b): \n",
    "    return a+b\n",
    "\n",
    "def sub(a, b): \n",
    "    return a-b\n",
    "\n",
    "print(add(1, 4))\n",
    "print(sub(4, 2))"
   ]
  },
  {
   "cell_type": "code",
   "execution_count": 106,
   "id": "bb00c95d-5b3b-49fe-8a48-d80875357c56",
   "metadata": {},
   "outputs": [],
   "source": [
    "import mod1"
   ]
  },
  {
   "cell_type": "markdown",
   "id": "faddfea1-6e52-4d85-887e-652e6537e633",
   "metadata": {},
   "source": [
    "엉뚱하게도 import mod1을 수행하는 순간 mod1.py 파일이 실행되어 결괏값을 출력한다. 우리는 단지 mod1.py 파일의 add와 sub 함수만 사용하려고 했는데 말이다.\r\n",
    "\r\n",
    "이러한 문제를 방지하려면 mod1.py 파일을 다음처럼 수정해야 한다."
   ]
  },
  {
   "cell_type": "code",
   "execution_count": 108,
   "id": "b3bc056d-9c4a-437f-bd40-456b31d4d0c0",
   "metadata": {},
   "outputs": [
    {
     "name": "stdout",
     "output_type": "stream",
     "text": [
      "Overwriting mod1.py\n"
     ]
    }
   ],
   "source": [
    "%%writefile mod1.py\n",
    "def add(a, b): \n",
    "    return a+b\n",
    "\n",
    "def sub(a, b): \n",
    "    return a-b\n",
    "\n",
    "if __name__ == \"__main__\":\n",
    "    print(add(1, 4))\n",
    "    print(sub(4, 2))"
   ]
  },
  {
   "cell_type": "markdown",
   "id": "723a5b31-ba91-486e-ae3a-1c678866239c",
   "metadata": {},
   "source": [
    "if \\_\\_name__ == \"\\_\\_main__\"을 사용하면 >python mod1.py처럼 직접 이 파일을 실행했을 때는 \\_\\_name__ == \"\\_\\_main__\"이 참이 되어 if 문 다음 문장이 수행된다. 이와 반대로 대화형 인터프리터나 다른 파일에서 이 모듈을 불러 사용할 때는 \\_\\_name__ == \"\\_\\_main__\"이 거짓이 되어 if 문 다음 문장이 수행되지 않는다."
   ]
  },
  {
   "cell_type": "markdown",
   "id": "3bb862a2-be2b-4c26-93bd-a10252e665cb",
   "metadata": {},
   "source": [
    "### **클래스나 변수 등을 포함한 모듈**\n",
    "\n",
    "지금까지 살펴본 모듈은 함수만 포함했지만, 클래스나 변수 등을 포함할 수도 있다. 다음과 같은 프로그램을 작성해 보자."
   ]
  },
  {
   "cell_type": "code",
   "execution_count": 111,
   "id": "2f2c87dc-1f55-4ef7-902a-e97a6dbdfa09",
   "metadata": {},
   "outputs": [
    {
     "name": "stdout",
     "output_type": "stream",
     "text": [
      "Writing mod2.py\n"
     ]
    }
   ],
   "source": [
    "%%writefile mod2.py\n",
    "PI = 3.141592\n",
    "\n",
    "class Math: \n",
    "    def solv(self, r): \n",
    "        return PI * (r ** 2) \n",
    "\n",
    "def add(a, b): \n",
    "    return a+b "
   ]
  },
  {
   "cell_type": "markdown",
   "id": "123c7a0c-c5b3-4328-96d6-110fc3fecac6",
   "metadata": {},
   "source": [
    "이 파일은 원의 넓이를 계산하는 Math 클래스와 두 값을 더하는 add 함수 그리고 원주율 값에 해당하는 PI 변수처럼 클래스, 함수, 변수 등을 모두 포함하고 있다."
   ]
  },
  {
   "cell_type": "code",
   "execution_count": 113,
   "id": "a86f6d17-2bbc-43d3-9c1d-c6f876fe112a",
   "metadata": {},
   "outputs": [
    {
     "data": {
      "text/plain": [
       "3.141592"
      ]
     },
     "execution_count": 113,
     "metadata": {},
     "output_type": "execute_result"
    }
   ],
   "source": [
    "import mod2\n",
    "mod2.PI"
   ]
  },
  {
   "cell_type": "code",
   "execution_count": 114,
   "id": "d1517612-9a71-409a-bc6c-509c16674cc2",
   "metadata": {},
   "outputs": [
    {
     "data": {
      "text/plain": [
       "12.566368"
      ]
     },
     "execution_count": 114,
     "metadata": {},
     "output_type": "execute_result"
    }
   ],
   "source": [
    "a = mod2.Math()\n",
    "a.solv(2)"
   ]
  },
  {
   "cell_type": "code",
   "execution_count": 115,
   "id": "ebdad024-86d2-4539-b1e9-77b778d91b5a",
   "metadata": {},
   "outputs": [
    {
     "data": {
      "text/plain": [
       "7.5415920000000005"
      ]
     },
     "execution_count": 115,
     "metadata": {},
     "output_type": "execute_result"
    }
   ],
   "source": [
    "mod2.add(mod2.PI, 4.4)"
   ]
  },
  {
   "cell_type": "code",
   "execution_count": null,
   "id": "1271e04b-de43-4b2c-8d18-8ecff93a3412",
   "metadata": {},
   "outputs": [],
   "source": []
  },
  {
   "cell_type": "markdown",
   "id": "b3330ec2-3234-4de4-b6e8-16ce62fec8b2",
   "metadata": {},
   "source": [
    "## **05-3 패키지**"
   ]
  },
  {
   "cell_type": "markdown",
   "id": "5ebb9f73-dd8a-4e54-9581-85bf1a63bc42",
   "metadata": {},
   "source": [
    "파이썬에서 패키지(packages)란 관련 있는 모듈의 집합을 말한다. 패키지는 파이썬 모듈을 계층적(디렉터리 구조)으로 관리할 수 있게 해 준다.  \n",
    "파이썬 패키지는 디렉터리와 파이썬 모듈로 이루어진다. \n",
    "가상의 game 패키지 예"
   ]
  },
  {
   "cell_type": "code",
   "execution_count": null,
   "id": "feddd868-e190-43c2-8ae9-694ab971c6d7",
   "metadata": {},
   "outputs": [],
   "source": [
    "game/\n",
    "    __init__.py\n",
    "    sound/\n",
    "        __init__.py\n",
    "        echo.py\n",
    "        wav.py\n",
    "    graphic/\n",
    "        __init__.py\n",
    "        screen.py\n",
    "        render.py\n",
    "    play/\n",
    "        __init__.py\n",
    "        run.py\n",
    "        test.py"
   ]
  },
  {
   "cell_type": "markdown",
   "id": "7c2a804a-bfe0-421a-a6cb-9f4df0dd50ff",
   "metadata": {},
   "source": [
    "game, sound, graphic, play는 디렉터리, 확장자가 .py인 파일은 파이썬 모듈이다. game 디렉터리가 이 패키지의 루트 디렉터리, sound, graphic, play는 서브 디렉터리이다.  \n",
    "간단한 파이썬 프로그램이 아니라면 이렇게 패키지 구조로 파이썬 프로그램을 만드는 것이 공동 작업이나 유지 보수 등 여러 면에서 유리하다. 또한 패키지 구조로 모듈을 만들면 다른 모듈과 이름이 겹치더라도 더 안전하게 사용할 수 있다."
   ]
  },
  {
   "cell_type": "code",
   "execution_count": 141,
   "id": "d47ddbdb-3502-4f29-928c-a4c1a8e14565",
   "metadata": {},
   "outputs": [
    {
     "name": "stdout",
     "output_type": "stream",
     "text": [
      "Writing game/sound/echo.py\n"
     ]
    }
   ],
   "source": [
    "%%writefile game/sound/echo.py\n",
    "def echo_test():\n",
    "    print(\"echo\")"
   ]
  },
  {
   "cell_type": "code",
   "execution_count": 142,
   "id": "9786ddfe-071d-4a38-abed-915e856a5b7e",
   "metadata": {},
   "outputs": [
    {
     "name": "stdout",
     "output_type": "stream",
     "text": [
      "Writing game/graphic/render.py\n"
     ]
    }
   ],
   "source": [
    "%%writefile game/graphic/render.py\n",
    "def render_test():\n",
    "    print(\"render\")"
   ]
  },
  {
   "cell_type": "markdown",
   "id": "eefe57ae-0056-4dba-ae4b-0dcc6a50ca6d",
   "metadata": {},
   "source": [
    "### **패키지 안의 함수 실행하기**  \n",
    "이제 패키지를 사용하여 echo.py 파일의 echo_test 함수를 실행해 보자. 패키지 안의 함수를 실행하는 방법에는 3가지가 있다. 다음은 import 예제이므로 하나의 예제를 실행하고 나서 다음 예제를 실행할 때는 반드시 인터프리터를 종료하고 다시 실행해야 한다. 인터프리터를 다시 시작하지 않을 경우, 이전에 import한 것들이 메모리에 남아 있어 엉뚱한 결과가 나올 수 있다."
   ]
  },
  {
   "cell_type": "markdown",
   "id": "6f93c279-f08e-4afd-ac11-76cc55252423",
   "metadata": {},
   "source": [
    "첫 번째는 echo 모듈을 import하여 실행하는 방법으로, 다음과 같이 실행한다."
   ]
  },
  {
   "cell_type": "code",
   "execution_count": 145,
   "id": "ac437abd-c7a0-4eaf-b03a-70bd111ea538",
   "metadata": {},
   "outputs": [
    {
     "name": "stdout",
     "output_type": "stream",
     "text": [
      "echo\n"
     ]
    }
   ],
   "source": [
    "import game.sound.echo\n",
    "game.sound.echo.echo_test()"
   ]
  },
  {
   "cell_type": "markdown",
   "id": "fa2c6a32-cb0f-409b-9d5e-a9a3d6b214f2",
   "metadata": {},
   "source": [
    "두 번째는 echo 모듈이 있는 디렉터리까지를 from ... import하여 실행하는 방법이다. 앞에서 import한 모듈 때문에 오류가 발생할 수 있으므로 인터프리터를 다시 시작한 후 다음 소스를 입력하자."
   ]
  },
  {
   "cell_type": "code",
   "execution_count": 147,
   "id": "9a8742dd-3472-4691-b2c9-07904ac90be3",
   "metadata": {},
   "outputs": [
    {
     "name": "stdout",
     "output_type": "stream",
     "text": [
      "echo\n"
     ]
    }
   ],
   "source": [
    "from game.sound import echo\n",
    "echo.echo_test()"
   ]
  },
  {
   "cell_type": "markdown",
   "id": "ceb129a1-15d6-4e71-9013-c37257d52d91",
   "metadata": {},
   "source": [
    "세 번째는 echo 모듈의 echo_test 함수를 직접 import하여 실행하는 방법이다."
   ]
  },
  {
   "cell_type": "code",
   "execution_count": 149,
   "id": "de6c2787-51d1-4b32-be17-4781c37f526e",
   "metadata": {},
   "outputs": [
    {
     "name": "stdout",
     "output_type": "stream",
     "text": [
      "echo\n"
     ]
    }
   ],
   "source": [
    "from game.sound.echo import echo_test\n",
    "echo_test()"
   ]
  },
  {
   "cell_type": "markdown",
   "id": "60a16b27-2286-4637-a888-aeb5811b25ce",
   "metadata": {},
   "source": [
    "도트 연산자(.)를 사용해서 import a.b.c처럼 import할 때 가장 마지막 항목인 c는 반드시 모듈 또는 패키지여야만 한다."
   ]
  },
  {
   "cell_type": "markdown",
   "id": "897f00f8-feb9-4844-af6d-748cc1739bc6",
   "metadata": {},
   "source": [
    "### **\\_\\_init__.py의 용도**\n",
    "\\_\\_init__.py 파일은 해당 디렉터리가 패키지의 일부임을 알려 주는 역할을 한다. 만약 game, sound, graphic 등 패키지에 포함된 디렉터리에 \\_\\_init__.py 파일이 없다면 패키지로 인식되지 않는다. python 3.3 버전부터는 \\_\\_init__.py 파일이 없어도 패키지로 인식한다(PEP 420). 하지만 하위 버전 호환을 위해 \\_\\_init__.py 파일을 생성하는 것이 안전한 방법이다.  또한, \\_\\_init__.py 파일은 패키지와 관련된 설정이나 초기화 코드를 포함할 수 있다. 다양한 방법으로 활용할 수 있는데, 몇 가지 예를 들어 살펴보자."
   ]
  },
  {
   "cell_type": "code",
   "execution_count": 152,
   "id": "d6188078-b9f2-45da-a7de-a24d153fccd6",
   "metadata": {},
   "outputs": [
    {
     "name": "stdout",
     "output_type": "stream",
     "text": [
      "3.11.5 (main, Sep 11 2023, 13:54:46) [GCC 11.2.0]\n"
     ]
    }
   ],
   "source": [
    "import sys\n",
    "print(sys.version)"
   ]
  },
  {
   "cell_type": "code",
   "execution_count": 153,
   "id": "78c10c6b-76d3-46ac-a140-9f9c95883536",
   "metadata": {},
   "outputs": [
    {
     "name": "stdout",
     "output_type": "stream",
     "text": [
      "Overwriting game/__init__.py\n"
     ]
    }
   ],
   "source": [
    "%%writefile game/__init__.py\n",
    "VERSION = 1.1\n",
    "\n",
    "def print_version_info():\n",
    "    print(f\"The version of this game is {VERSION}.\")\n"
   ]
  },
  {
   "cell_type": "code",
   "execution_count": 154,
   "id": "3ad7f043-ce5d-4cdb-8317-17b13c188b88",
   "metadata": {},
   "outputs": [
    {
     "name": "stdout",
     "output_type": "stream",
     "text": [
      "1.1\n",
      "The version of this game is 1.1.\n"
     ]
    }
   ],
   "source": [
    "import game\n",
    "print(game.VERSION)\n",
    "game.print_version_info()"
   ]
  },
  {
   "cell_type": "markdown",
   "id": "bff73294-7ad1-43b5-95c3-1b3724baebeb",
   "metadata": {},
   "source": [
    "### **relative 패키지**  \n",
    "만약 graphic 디렉터리의 render.py 모듈에서 sound 디렉터리의 echo.py 모듈을 사용하고 싶다면 어떻게 해야 할까? 다음과 같이 render.py를 수정하면 가능하다"
   ]
  },
  {
   "cell_type": "code",
   "execution_count": 156,
   "id": "15192702-ab10-4713-acca-096f4c4fc905",
   "metadata": {},
   "outputs": [
    {
     "name": "stdout",
     "output_type": "stream",
     "text": [
      "Overwriting game/graphic/render.py\n"
     ]
    }
   ],
   "source": [
    "%%writefile game/graphic/render.py\n",
    "from game.sound.echo import echo_test\n",
    "def render_test():\n",
    "    print(\"render\")\n",
    "    echo_test()"
   ]
  },
  {
   "cell_type": "code",
   "execution_count": 157,
   "id": "d1173356-aa7f-4174-9d2e-e5151b49f18b",
   "metadata": {},
   "outputs": [
    {
     "name": "stdout",
     "output_type": "stream",
     "text": [
      "render\n",
      "echo\n"
     ]
    }
   ],
   "source": [
    "from game.graphic.render import render_test\n",
    "render_test()"
   ]
  },
  {
   "cell_type": "markdown",
   "id": "6f26d43e-6139-4e80-acfe-c4e6ea577117",
   "metadata": {},
   "source": [
    "위 예제처럼 from game.sound.echo import echo_test를 입력해 전체 경로를 사용하여 import할 수도 있지만, 다음과 같이 relative하게 import하는 것도 가능하다.  render.py 파일의 현재 디렉터리는 graphic, 부모 디렉터리는 game이다. 여기에서 ..은 render.py 파일의 부모 디렉터리를 의미한다. 따라서 render.py 파일의 부모 디렉터리는 game이므로 위와 같은 import가 가능한 것이다."
   ]
  },
  {
   "attachments": {
    "efd3f62c-25f0-4043-8554-22dac2e1934a.png": {
     "image/png": "[encoded data removed]"
    }
   },
   "cell_type": "markdown",
   "id": "88f976a6-1f62-4e32-b232-8c37bfd53320",
   "metadata": {},
   "source": [
    "![image.png](attachment:efd3f62c-25f0-4043-8554-22dac2e1934a.png)  "
   ]
  },
  {
   "cell_type": "code",
   "execution_count": 160,
   "id": "688a8deb-8b3e-4062-a652-8a922cbe07d3",
   "metadata": {},
   "outputs": [
    {
     "name": "stdout",
     "output_type": "stream",
     "text": [
      "Overwriting game/graphic/render.py\n"
     ]
    }
   ],
   "source": [
    "%%writefile game/graphic/render.py\n",
    "from ..sound.echo import echo_test\n",
    "\n",
    "def render_test():\n",
    "    print(\"render\")\n",
    "    echo_test()"
   ]
  },
  {
   "cell_type": "code",
   "execution_count": null,
   "id": "0da8e1f6-8a72-4579-bb8e-1a51f87208be",
   "metadata": {},
   "outputs": [],
   "source": []
  },
  {
   "cell_type": "markdown",
   "id": "e15ff9a9-d163-4491-9ca1-a869c3ff0217",
   "metadata": {},
   "source": [
    "## **연습문제**  \n",
    "\n",
    "이제까지 배운 함수, 모듈, 패키지를 이용해서 **유전자와 단백질 서열을 분석하는 패키지**를 만들어봅시다. \n",
    "\n",
    "seqtoolkit/  \n",
    "│  \n",
    "├── \\_\\_init__.py  \n",
    "├── dna/  \n",
    "├──── QC.py  \n",
    "├──── preprocessing.py  \n",
    "├── protein/  \n",
    "└──── mutation.py  \n",
    "\n",
    "QC.py 에서는 입력한 서열의 길이, GC 비율, missing 비율을 계산한다.  \n",
    "preprocessing.py 에서는 만약 missing 비율이 5% 이하면 그대로 출력, 50% 이상이면 None을 반환, 그 사이일 경우에는 오른쪽 끝에서부터 서열 하나씩 지우면서 계산해서 5% 이하가 될 때 멈추고 출력한다.  \n",
    "mutation.py 에서는 T 를 S로 바꾼다.  \n",
    "\n",
    "**==힌트==**  \n",
    "<span style=\"background-color:yellow\"> QC.py </span>  \n",
    "문자열의 길이를 구하는 함수: len()  \n",
    "문자열에서 특정 문자의 개수를 세는 함수: count()  \n",
    "GC 비율: 염기서열에서 G 또는 C의 비율  \n",
    "missing 비율: 염기서열에서 N(누락된 뉴클레오티드)의 비율  \n",
    "\n",
    "<span style=\"background-color:yellow\">  preprocessing.py </span>  \n",
    "조건에 따른 실행: [if문](https://wikidocs.net/20)  \n",
    "조건에 따른 반복문 실행: [while문](https://wikidocs.net/21)  \n",
    "서열 수정: [문자열 slicing](https://wikidocs.net/13)  \n",
    "다른 모듈 불러오기: import\n",
    "\n",
    "<span style=\"background-color:yellow\"> mutation.py </span>  \n",
    "문자 치환: replace()"
   ]
  },
  {
   "cell_type": "code",
   "execution_count": 162,
   "id": "9a49b465-b0ab-410b-9a54-eb068d5d263f",
   "metadata": {},
   "outputs": [],
   "source": [
    "from seqtoolkit.dna.QC import sequence_length, gc_content, missing_ratio\n",
    "from seqtoolkit.dna.preprocessing import process_sequence\n",
    "from seqtoolkit.protein.mutation import mutate_protein"
   ]
  },
  {
   "cell_type": "code",
   "execution_count": 163,
   "id": "c4efeeea-7dc0-4216-af5c-b0f4d059468d",
   "metadata": {},
   "outputs": [
    {
     "data": {
      "text/plain": [
       "100"
      ]
     },
     "execution_count": 163,
     "metadata": {},
     "output_type": "execute_result"
    }
   ],
   "source": [
    "seq1 = \"TAAATTAATTCGGGGTACCAGAACAGTAAAGCGAAGCACAGACTACCTTATTTAGAAGAAAGTGCTCTCATTTTAGGCCGGGGCAGGACTNGCCTTGTAA\"\n",
    "sequence_length(seq1)"
   ]
  },
  {
   "cell_type": "code",
   "execution_count": 164,
   "id": "2e674318-4926-4401-8841-adb4f2967f72",
   "metadata": {},
   "outputs": [
    {
     "data": {
      "text/plain": [
       "43.0"
      ]
     },
     "execution_count": 164,
     "metadata": {},
     "output_type": "execute_result"
    }
   ],
   "source": [
    "gc_content(seq1)"
   ]
  },
  {
   "cell_type": "code",
   "execution_count": 165,
   "id": "55bc8468-b33c-49c5-9691-021a0c6b6d90",
   "metadata": {},
   "outputs": [
    {
     "data": {
      "text/plain": [
       "1.0"
      ]
     },
     "execution_count": 165,
     "metadata": {},
     "output_type": "execute_result"
    }
   ],
   "source": [
    "missing_ratio(seq1)"
   ]
  },
  {
   "cell_type": "code",
   "execution_count": 166,
   "id": "523dd494-fc95-41be-aa28-b259d4add584",
   "metadata": {},
   "outputs": [
    {
     "data": {
      "text/plain": [
       "'TAAATTAATTCGGGGTACCAGAACAGTAAAGCGAAGCACAGACTACCTTATTTAGAAGAAAGTGCTCTCATTTTAGGCCGGGGCAGGACTNGCCTTGTAA'"
      ]
     },
     "execution_count": 166,
     "metadata": {},
     "output_type": "execute_result"
    }
   ],
   "source": [
    "process_sequence(seq1)"
   ]
  },
  {
   "cell_type": "code",
   "execution_count": 167,
   "id": "9016259b-a37c-4c4d-8956-275ea7c4e515",
   "metadata": {},
   "outputs": [],
   "source": [
    "seq2 = \"NTTNGNNANANNNNNNNNNNNGNNNNNGNNCNNNNCANNCNNCNNNNNGNNNAANNNNNANNNNNGTNNNANNNTNNNNGNNNNGANGAAGCNNNNTTNN\"\n",
    "seq3 = \"TACGAACNTTAGTACGNCTCTAGTTTAGTTCGGGTGGGTCNTTTCTCNATTNANAATGCCNGCTGTNACATATTGNACGCGAGCCCGTCTNGGAGGCATC\""
   ]
  },
  {
   "cell_type": "code",
   "execution_count": 168,
   "id": "90d61322-020f-41da-bb98-390e7625973b",
   "metadata": {},
   "outputs": [],
   "source": [
    "process_sequence(seq2)"
   ]
  },
  {
   "cell_type": "code",
   "execution_count": 169,
   "id": "58ff03db-718d-4ac7-8daf-56cdaaec8bd6",
   "metadata": {},
   "outputs": [
    {
     "data": {
      "text/plain": [
       "'TACGAACNTTAGTACGNCTCTAGTTTAGTTCGGGTGGGTC'"
      ]
     },
     "execution_count": 169,
     "metadata": {},
     "output_type": "execute_result"
    }
   ],
   "source": [
    "process_sequence(seq3)"
   ]
  },
  {
   "cell_type": "code",
   "execution_count": 170,
   "id": "d0705a32-2df2-429c-b89b-60e17c8b56dd",
   "metadata": {},
   "outputs": [
    {
     "data": {
      "text/plain": [
       "'AKSKCSPVFHPLHLMSMNGQSQRNRWSCMQ'"
      ]
     },
     "execution_count": 170,
     "metadata": {},
     "output_type": "execute_result"
    }
   ],
   "source": [
    "aa1 = \"AKTKCTPVFHPLHLMSMNGQSQRNRWSCMQ\"\n",
    "mutate_protein(aa1)"
   ]
  }
 ],
 "metadata": {
  "kernelspec": {
   "display_name": "anaconda-panel-2023.05-py310",
   "language": "python",
   "name": "conda-env-anaconda-panel-2023.05-py310-py"
  },
  "language_info": {
   "codemirror_mode": {
    "name": "ipython",
    "version": 3
   },
   "file_extension": ".py",
   "mimetype": "text/x-python",
   "name": "python",
   "nbconvert_exporter": "python",
   "pygments_lexer": "ipython3",
   "version": "3.11.5"
  }
 },
 "nbformat": 4,
 "nbformat_minor": 5
}
